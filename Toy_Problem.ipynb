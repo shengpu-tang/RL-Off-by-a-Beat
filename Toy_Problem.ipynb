{
  "nbformat": 4,
  "nbformat_minor": 0,
  "metadata": {
    "colab": {
      "provenance": [],
      "authorship_tag": "ABX9TyPe7SlctQjMp+aAwErTYNMZ",
      "include_colab_link": true
    },
    "kernelspec": {
      "name": "python3",
      "display_name": "Python 3"
    },
    "language_info": {
      "name": "python"
    }
  },
  "cells": [
    {
      "cell_type": "markdown",
      "metadata": {
        "id": "view-in-github",
        "colab_type": "text"
      },
      "source": [
        "<a href=\"https://colab.research.google.com/github/shengpu-tang/RL-Off-by-a-Beat/blob/WIP/Toy_Problem.ipynb\" target=\"_parent\"><img src=\"https://colab.research.google.com/assets/colab-badge.svg\" alt=\"Open In Colab\"/></a>"
      ]
    },
    {
      "cell_type": "markdown",
      "source": [
        "## Illustrative Example"
      ],
      "metadata": {
        "id": "_7y4VjEd2p0e"
      }
    },
    {
      "cell_type": "code",
      "source": [
        "import numpy as np\n",
        "import pandas as pd\n",
        "import matplotlib.pyplot as plt\n",
        "import seaborn as sns\n",
        "plt.rcParams['mathtext.fontset'] = 'cm'\n",
        "plt.rcParams['font.family'] = 'STIXGeneral'\n",
        "%config InlineBackend.figure_formats = ['svg']\n",
        "from scipy.integrate import solve_ivp"
      ],
      "metadata": {
        "id": "x_240PS3ePs1"
      },
      "execution_count": null,
      "outputs": []
    },
    {
      "cell_type": "code",
      "source": [
        "# continuous time control task with sign(y'(t)) = u(t)\n",
        "\n",
        "# Dynamics parameters\n",
        "a_on = +1.0     # growth rate when control is ON\n",
        "a_off = -1.0    # decay rate when control is OFF\n",
        "period = 2.0    # control oscillates every 2 seconds (1s ON, 1s OFF)\n",
        "\n",
        "def u(τ):\n",
        "    # Alternates every period/2\n",
        "    return int((τ % period) < (period / 2))\n",
        "\n",
        "def dydτ(τ, y):\n",
        "    return np.pi * np.sin(τ * np.pi) / 2\n",
        "    # control = u(τ)\n",
        "    # return a_on if control == 1 else a_off\n",
        "\n",
        "# Time span and initial condition\n",
        "t_span = (0, 3.99)\n",
        "y0 = [0.0]\n",
        "\n",
        "# Dense output for smooth plotting\n",
        "solution = solve_ivp(dydτ, t_span, y0, dense_output=True, max_step=0.005)\n",
        "\n",
        "# Plotting\n",
        "tau_vals = np.linspace(*t_span, 1000)\n",
        "y_vals = solution.sol(tau_vals)[0]\n",
        "u_vals = [u(tau) for tau in tau_vals]\n",
        "\n",
        "fig, axes = plt.subplots(2, 1, figsize=(3, 2.5), sharex=True)\n",
        "\n",
        "axes[0].text(0.5, 1.2, '$t=1$', ha='center')\n",
        "axes[0].text(1.5, 1.2, '$t=2$', ha='center')\n",
        "axes[0].text(2.5, 1.2, '$t=3$', ha='center')\n",
        "axes[0].text(3.5, 1.2, '$t=4$', ha='center')\n",
        "\n",
        "axes[0].plot(tau_vals, y_vals, lw=2)\n",
        "axes[0].grid(axis='x')\n",
        "axes[1].step(tau_vals, u_vals, lw=2, color='tab:orange', alpha=0.05)\n",
        "axes[1].hlines([1,0,1,0], [0,1,2,3], [1,2,3,4], lw=2, color='tab:orange')\n",
        "plt.xlabel('Time $\\\\tau$')\n",
        "axes[0].set_ylabel('Signal $y(\\\\tau)$')\n",
        "axes[1].set_ylabel('Control $u(\\\\tau)$')\n",
        "plt.tight_layout()\n",
        "plt.savefig('toy_problem.pdf', bbox_inches='tight')\n",
        "plt.show()"
      ],
      "metadata": {
        "colab": {
          "base_uri": "https://localhost:8080/",
          "height": 245
        },
        "id": "aL_tSUo5eTxZ",
        "outputId": "5ae13543-64db-4a60-dca9-0ea6c8b2c9cf"
      },
      "execution_count": null,
      "outputs": [
        {
          "output_type": "display_data",
          "data": {
            "text/plain": [
              "<Figure size 300x250 with 2 Axes>"
            ],
            "image/svg+xml": "<?xml version=\"1.0\" encoding=\"utf-8\" standalone=\"no\"?>\n<!DOCTYPE svg PUBLIC \"-//W3C//DTD SVG 1.1//EN\"\n  \"http://www.w3.org/Graphics/SVG/1.1/DTD/svg11.dtd\">\n<svg xmlns:xlink=\"http://www.w3.org/1999/xlink\" width=\"198.3975pt\" height=\"168.435428pt\" viewBox=\"0 0 198.3975 168.435428\" xmlns=\"http://www.w3.org/2000/svg\" version=\"1.1\">\n <metadata>\n  <rdf:RDF xmlns:dc=\"http://purl.org/dc/elements/1.1/\" xmlns:cc=\"http://creativecommons.org/ns#\" xmlns:rdf=\"http://www.w3.org/1999/02/22-rdf-syntax-ns#\">\n   <cc:Work>\n    <dc:type rdf:resource=\"http://purl.org/dc/dcmitype/StillImage\"/>\n    <dc:date>2025-05-12T22:45:01.538759</dc:date>\n    <dc:format>image/svg+xml</dc:format>\n    <dc:creator>\n     <cc:Agent>\n      <dc:title>Matplotlib v3.10.0, https://matplotlib.org/</dc:title>\n     </cc:Agent>\n    </dc:creator>\n   </cc:Work>\n  </rdf:RDF>\n </metadata>\n <defs>\n  <style type=\"text/css\">*{stroke-linejoin: round; stroke-linecap: butt}</style>\n </defs>\n <g id=\"figure_1\">\n  <g id=\"patch_1\">\n   <path d=\"M -0 168.435428 \nL 198.3975 168.435428 \nL 198.3975 0 \nL -0 0 \nz\n\" style=\"fill: #ffffff\"/>\n  </g>\n  <g id=\"axes_1\">\n   <g id=\"patch_2\">\n    <path d=\"M 33.2 68.835223 \nL 191.1975 68.835223 \nL 191.1975 20.606382 \nL 33.2 20.606382 \nz\n\" style=\"fill: #ffffff\"/>\n   </g>\n   <g id=\"matplotlib.axis_1\">\n    <g id=\"xtick_1\">\n     <g id=\"line2d_1\">\n      <path d=\"M 40.381705 68.835223 \nL 40.381705 20.606382 \n\" clip-path=\"url(#pceea220dd3)\" style=\"fill: none; stroke: #b0b0b0; stroke-width: 0.8; stroke-linecap: square\"/>\n     </g>\n     <g id=\"line2d_2\">\n      <defs>\n       <path id=\"mda68046cc1\" d=\"M 0 0 \nL 0 3.5 \n\" style=\"stroke: #000000; stroke-width: 0.8\"/>\n      </defs>\n      <g>\n       <use xlink:href=\"#mda68046cc1\" x=\"40.381705\" y=\"68.835223\" style=\"stroke: #000000; stroke-width: 0.8\"/>\n      </g>\n     </g>\n    </g>\n    <g id=\"xtick_2\">\n     <g id=\"line2d_3\">\n      <path d=\"M 76.290227 68.835223 \nL 76.290227 20.606382 \n\" clip-path=\"url(#pceea220dd3)\" style=\"fill: none; stroke: #b0b0b0; stroke-width: 0.8; stroke-linecap: square\"/>\n     </g>\n     <g id=\"line2d_4\">\n      <g>\n       <use xlink:href=\"#mda68046cc1\" x=\"76.290227\" y=\"68.835223\" style=\"stroke: #000000; stroke-width: 0.8\"/>\n      </g>\n     </g>\n    </g>\n    <g id=\"xtick_3\">\n     <g id=\"line2d_5\">\n      <path d=\"M 112.19875 68.835223 \nL 112.19875 20.606382 \n\" clip-path=\"url(#pceea220dd3)\" style=\"fill: none; stroke: #b0b0b0; stroke-width: 0.8; stroke-linecap: square\"/>\n     </g>\n     <g id=\"line2d_6\">\n      <g>\n       <use xlink:href=\"#mda68046cc1\" x=\"112.19875\" y=\"68.835223\" style=\"stroke: #000000; stroke-width: 0.8\"/>\n      </g>\n     </g>\n    </g>\n    <g id=\"xtick_4\">\n     <g id=\"line2d_7\">\n      <path d=\"M 148.107273 68.835223 \nL 148.107273 20.606382 \n\" clip-path=\"url(#pceea220dd3)\" style=\"fill: none; stroke: #b0b0b0; stroke-width: 0.8; stroke-linecap: square\"/>\n     </g>\n     <g id=\"line2d_8\">\n      <g>\n       <use xlink:href=\"#mda68046cc1\" x=\"148.107273\" y=\"68.835223\" style=\"stroke: #000000; stroke-width: 0.8\"/>\n      </g>\n     </g>\n    </g>\n    <g id=\"xtick_5\">\n     <g id=\"line2d_9\">\n      <path d=\"M 184.015795 68.835223 \nL 184.015795 20.606382 \n\" clip-path=\"url(#pceea220dd3)\" style=\"fill: none; stroke: #b0b0b0; stroke-width: 0.8; stroke-linecap: square\"/>\n     </g>\n     <g id=\"line2d_10\">\n      <g>\n       <use xlink:href=\"#mda68046cc1\" x=\"184.015795\" y=\"68.835223\" style=\"stroke: #000000; stroke-width: 0.8\"/>\n      </g>\n     </g>\n    </g>\n   </g>\n   <g id=\"matplotlib.axis_2\">\n    <g id=\"ytick_1\">\n     <g id=\"line2d_11\">\n      <defs>\n       <path id=\"mfea7c287e7\" d=\"M 0 0 \nL -3.5 0 \n\" style=\"stroke: #000000; stroke-width: 0.8\"/>\n      </defs>\n      <g>\n       <use xlink:href=\"#mfea7c287e7\" x=\"33.2\" y=\"66.643003\" style=\"stroke: #000000; stroke-width: 0.8\"/>\n      </g>\n     </g>\n     <g id=\"text_1\">\n      <!-- 0 -->\n      <g transform=\"translate(21.2 70.057847) scale(0.1 -0.1)\">\n       <defs>\n        <path id=\"STIXGeneral-Regular-30\" d=\"M 3046 2112 \nQ 3046 1683 2963 1302 \nQ 2880 922 2717 602 \nQ 2554 282 2266 96 \nQ 1978 -90 1600 -90 \nQ 1210 -90 915 108 \nQ 621 307 461 640 \nQ 301 973 227 1350 \nQ 154 1728 154 2150 \nQ 154 2746 301 3222 \nQ 448 3699 790 4012 \nQ 1133 4326 1626 4326 \nQ 2253 4326 2649 3712 \nQ 3046 3098 3046 2112 \nz\nM 2432 2080 \nQ 2432 3091 2217 3625 \nQ 2003 4160 1587 4160 \nQ 1190 4160 979 3622 \nQ 768 3085 768 2106 \nQ 768 1120 979 598 \nQ 1190 77 1600 77 \nQ 2003 77 2217 598 \nQ 2432 1120 2432 2080 \nz\n\" transform=\"scale(0.015625)\"/>\n       </defs>\n       <use xlink:href=\"#STIXGeneral-Regular-30\"/>\n      </g>\n     </g>\n    </g>\n    <g id=\"ytick_2\">\n     <g id=\"line2d_12\">\n      <g>\n       <use xlink:href=\"#mfea7c287e7\" x=\"33.2\" y=\"22.798573\" style=\"stroke: #000000; stroke-width: 0.8\"/>\n      </g>\n     </g>\n     <g id=\"text_2\">\n      <!-- 1 -->\n      <g transform=\"translate(21.2 26.213417) scale(0.1 -0.1)\">\n       <defs>\n        <path id=\"STIXGeneral-Regular-31\" d=\"M 2522 0 \nL 755 0 \nL 755 96 \nQ 1107 115 1235 227 \nQ 1363 339 1363 608 \nL 1363 3482 \nQ 1363 3795 1171 3795 \nQ 1082 3795 883 3718 \nL 710 3654 \nL 710 3744 \nL 1856 4326 \nL 1914 4307 \nL 1914 486 \nQ 1914 275 2042 185 \nQ 2170 96 2522 96 \nL 2522 0 \nz\n\" transform=\"scale(0.015625)\"/>\n       </defs>\n       <use xlink:href=\"#STIXGeneral-Regular-31\"/>\n      </g>\n     </g>\n    </g>\n    <g id=\"text_3\">\n     <!-- Signal $y(\\tau)$ -->\n     <g transform=\"translate(14.7 67.270802) rotate(-90) scale(0.1 -0.1)\">\n      <defs>\n       <path id=\"STIXGeneral-Regular-53\" d=\"M 3002 2963 \nL 2842 2963 \nQ 2733 3360 2579 3565 \nQ 2189 4064 1651 4064 \nQ 1357 4064 1181 3894 \nQ 1005 3725 1005 3456 \nQ 1005 3328 1069 3206 \nQ 1133 3085 1206 2998 \nQ 1280 2912 1465 2784 \nQ 1651 2656 1766 2589 \nQ 1882 2522 2150 2362 \nQ 2669 2061 2905 1763 \nQ 3142 1466 3142 1107 \nQ 3142 576 2771 243 \nQ 2400 -90 1837 -90 \nQ 1421 -90 1082 58 \nQ 915 128 781 128 \nQ 704 128 653 70 \nQ 602 13 602 -83 \nL 461 -83 \nL 275 1274 \nL 416 1274 \nQ 845 141 1734 141 \nQ 2074 141 2285 342 \nQ 2496 544 2496 858 \nQ 2496 1158 2310 1363 \nQ 2003 1696 1235 2106 \nQ 454 2522 454 3206 \nQ 454 3718 768 4022 \nQ 1082 4326 1568 4326 \nQ 1907 4326 2240 4186 \nQ 2413 4109 2522 4109 \nQ 2688 4109 2726 4326 \nL 2861 4326 \nL 3002 2963 \nz\n\" transform=\"scale(0.015625)\"/>\n       <path id=\"STIXGeneral-Regular-69\" d=\"M 1152 4045 \nQ 1152 3904 1056 3811 \nQ 960 3718 819 3718 \nQ 685 3718 592 3811 \nQ 499 3904 499 4045 \nQ 499 4179 595 4275 \nQ 691 4371 826 4371 \nQ 966 4371 1059 4275 \nQ 1152 4179 1152 4045 \nz\nM 1619 0 \nL 102 0 \nL 102 96 \nQ 435 115 521 211 \nQ 608 307 608 666 \nL 608 2118 \nQ 608 2342 563 2432 \nQ 518 2522 397 2522 \nQ 243 2522 128 2490 \nL 128 2592 \nL 1120 2944 \nL 1146 2918 \nL 1146 672 \nQ 1146 314 1226 218 \nQ 1306 122 1619 96 \nL 1619 0 \nz\n\" transform=\"scale(0.015625)\"/>\n       <path id=\"STIXGeneral-Regular-67\" d=\"M 3008 2483 \nL 2477 2483 \nQ 2598 2208 2598 1946 \nQ 2598 1453 2265 1203 \nQ 1933 954 1600 954 \nQ 1530 954 1357 973 \nL 1235 986 \nQ 1107 947 979 812 \nQ 851 678 851 582 \nQ 851 435 1350 410 \nL 2176 371 \nQ 2528 358 2739 172 \nQ 2950 -13 2950 -314 \nQ 2950 -685 2566 -986 \nQ 2035 -1395 1286 -1395 \nQ 826 -1395 502 -1212 \nQ 179 -1030 179 -774 \nQ 179 -595 320 -419 \nQ 461 -243 806 6 \nQ 602 102 534 172 \nQ 467 243 467 346 \nQ 467 531 762 787 \nQ 909 915 1037 1043 \nQ 717 1203 579 1401 \nQ 442 1600 442 1901 \nQ 442 2336 752 2640 \nQ 1062 2944 1510 2944 \nQ 1766 2944 2022 2848 \nL 2163 2797 \nQ 2349 2733 2515 2733 \nL 3008 2733 \nL 3008 2483 \nz\nM 973 2163 \nL 973 2144 \nQ 973 1683 1155 1398 \nQ 1338 1114 1632 1114 \nQ 1850 1114 1978 1270 \nQ 2106 1427 2106 1690 \nQ 2106 2112 1914 2464 \nQ 1754 2765 1446 2765 \nQ 1222 2765 1097 2605 \nQ 973 2445 973 2163 \nz\nM 2771 -410 \nQ 2771 -230 2595 -163 \nQ 2419 -96 1978 -96 \nQ 1344 -96 941 -13 \nQ 749 -243 688 -348 \nQ 627 -454 627 -563 \nQ 627 -774 880 -902 \nQ 1133 -1030 1555 -1030 \nQ 2099 -1030 2435 -860 \nQ 2771 -691 2771 -410 \nz\n\" transform=\"scale(0.015625)\"/>\n       <path id=\"STIXGeneral-Regular-6e\" d=\"M 3104 0 \nL 1773 0 \nL 1779 96 \nQ 2016 115 2096 233 \nQ 2176 352 2176 672 \nL 2176 1946 \nQ 2176 2592 1709 2592 \nQ 1549 2592 1408 2515 \nQ 1267 2438 1050 2227 \nL 1050 461 \nQ 1050 269 1136 192 \nQ 1222 115 1466 96 \nL 1466 0 \nL 115 0 \nL 115 96 \nQ 358 115 435 214 \nQ 512 314 512 602 \nL 512 2157 \nQ 512 2394 467 2483 \nQ 422 2573 288 2573 \nQ 160 2573 102 2547 \nL 102 2656 \nQ 550 2784 979 2944 \nL 1030 2925 \nL 1030 2426 \nL 1037 2426 \nQ 1491 2944 1958 2944 \nQ 2323 2944 2518 2688 \nQ 2714 2432 2714 1958 \nL 2714 544 \nQ 2714 288 2790 205 \nQ 2867 122 3104 96 \nL 3104 0 \nz\n\" transform=\"scale(0.015625)\"/>\n       <path id=\"STIXGeneral-Regular-61\" d=\"M 2829 422 \nL 2829 243 \nQ 2586 -64 2253 -64 \nQ 1888 -64 1843 403 \nL 1837 403 \nQ 1427 -64 909 -64 \nQ 608 -64 422 112 \nQ 237 288 237 602 \nQ 237 1050 685 1350 \nQ 992 1555 1837 1869 \nL 1837 2214 \nQ 1837 2502 1699 2646 \nQ 1562 2790 1338 2790 \nQ 1146 2790 1018 2697 \nQ 890 2605 890 2477 \nQ 890 2419 909 2348 \nQ 928 2278 928 2208 \nQ 928 2112 841 2029 \nQ 755 1946 634 1946 \nQ 525 1946 441 2029 \nQ 358 2112 358 2240 \nQ 358 2547 685 2752 \nQ 986 2944 1421 2944 \nQ 1939 2944 2176 2656 \nQ 2291 2522 2323 2384 \nQ 2355 2246 2355 1946 \nL 2355 723 \nQ 2355 301 2554 301 \nQ 2682 301 2829 422 \nz\nM 1837 813 \nL 1837 1715 \nQ 1248 1510 1018 1293 \nQ 800 1094 800 800 \nQ 800 557 921 432 \nQ 1043 307 1242 307 \nQ 1453 307 1613 410 \nQ 1747 506 1792 589 \nQ 1837 672 1837 813 \nz\n\" transform=\"scale(0.015625)\"/>\n       <path id=\"STIXGeneral-Regular-6c\" d=\"M 1645 0 \nL 134 0 \nL 134 96 \nQ 435 122 531 221 \nQ 627 320 627 589 \nL 627 3590 \nQ 627 3821 569 3910 \nQ 512 4000 358 4000 \nQ 224 4000 122 3987 \nL 122 4090 \nQ 730 4237 1133 4371 \nL 1165 4346 \nL 1165 557 \nQ 1165 288 1254 201 \nQ 1344 115 1645 96 \nL 1645 0 \nz\n\" transform=\"scale(0.015625)\"/>\n       <path id=\"STIXGeneral-Regular-20\" transform=\"scale(0.015625)\"/>\n       <path id=\"Cmmi10-79\" d=\"M 538 -916 \nQ 672 -1147 1006 -1147 \nQ 1309 -1147 1531 -934 \nQ 1753 -722 1889 -420 \nQ 2025 -119 2100 197 \nQ 1816 -72 1484 -72 \nQ 1231 -72 1053 15 \nQ 875 103 776 276 \nQ 678 450 678 697 \nQ 678 906 734 1126 \nQ 791 1347 892 1617 \nQ 994 1888 1069 2088 \nQ 1153 2322 1153 2472 \nQ 1153 2663 1013 2663 \nQ 759 2663 595 2402 \nQ 431 2141 353 1819 \nQ 341 1778 300 1778 \nL 225 1778 \nQ 172 1778 172 1838 \nL 172 1856 \nQ 275 2238 487 2533 \nQ 700 2828 1025 2828 \nQ 1253 2828 1411 2678 \nQ 1569 2528 1569 2297 \nQ 1569 2178 1516 2047 \nQ 1488 1969 1388 1706 \nQ 1288 1444 1234 1272 \nQ 1181 1100 1147 934 \nQ 1113 769 1113 603 \nQ 1113 391 1203 244 \nQ 1294 97 1491 97 \nQ 1888 97 2203 581 \nL 2688 2553 \nQ 2709 2638 2787 2698 \nQ 2866 2759 2956 2759 \nQ 3034 2759 3092 2709 \nQ 3150 2659 3150 2578 \nQ 3150 2541 3144 2528 \nL 2509 -19 \nQ 2425 -347 2200 -647 \nQ 1975 -947 1658 -1130 \nQ 1341 -1313 997 -1313 \nQ 831 -1313 668 -1248 \nQ 506 -1184 406 -1056 \nQ 306 -928 306 -756 \nQ 306 -581 409 -453 \nQ 513 -325 684 -325 \nQ 788 -325 858 -389 \nQ 928 -453 928 -556 \nQ 928 -703 818 -812 \nQ 709 -922 563 -922 \nQ 556 -919 550 -917 \nQ 544 -916 538 -916 \nz\n\" transform=\"scale(0.015625)\"/>\n       <path id=\"Cmr10-28\" d=\"M 1984 -1588 \nQ 1628 -1306 1370 -942 \nQ 1113 -578 948 -165 \nQ 784 247 703 697 \nQ 622 1147 622 1600 \nQ 622 2059 703 2509 \nQ 784 2959 951 3375 \nQ 1119 3791 1378 4153 \nQ 1638 4516 1984 4788 \nQ 1984 4800 2016 4800 \nL 2075 4800 \nQ 2094 4800 2109 4783 \nQ 2125 4766 2125 4744 \nQ 2125 4716 2113 4703 \nQ 1800 4397 1592 4047 \nQ 1384 3697 1257 3301 \nQ 1131 2906 1075 2482 \nQ 1019 2059 1019 1600 \nQ 1019 -434 2106 -1491 \nQ 2125 -1509 2125 -1544 \nQ 2125 -1559 2108 -1579 \nQ 2091 -1600 2075 -1600 \nL 2016 -1600 \nQ 1984 -1600 1984 -1588 \nz\n\" transform=\"scale(0.015625)\"/>\n       <path id=\"Cmmi10-bf\" d=\"M 997 97 \nQ 997 141 1006 166 \nL 1678 2363 \nL 1100 2363 \nQ 866 2363 662 2216 \nQ 459 2069 325 1844 \nQ 313 1819 288 1819 \nL 213 1819 \nQ 153 1819 153 1881 \nQ 153 1894 166 1919 \nQ 375 2275 614 2517 \nQ 853 2759 1153 2759 \nL 3116 2759 \nQ 3184 2759 3231 2712 \nQ 3278 2666 3278 2597 \nQ 3278 2503 3211 2433 \nQ 3144 2363 3047 2363 \nL 1888 2363 \nL 1459 153 \nQ 1434 50 1365 -17 \nQ 1297 -84 1191 -84 \nQ 1109 -84 1053 -32 \nQ 997 19 997 97 \nz\n\" transform=\"scale(0.015625)\"/>\n       <path id=\"Cmr10-29\" d=\"M 416 -1600 \nQ 359 -1600 359 -1544 \nQ 359 -1516 372 -1503 \nQ 1466 -434 1466 1600 \nQ 1466 3634 384 4691 \nQ 359 4706 359 4744 \nQ 359 4766 376 4783 \nQ 394 4800 416 4800 \nL 475 4800 \nQ 494 4800 506 4788 \nQ 966 4425 1272 3906 \nQ 1578 3388 1720 2800 \nQ 1863 2213 1863 1600 \nQ 1863 1147 1786 708 \nQ 1709 269 1542 -157 \nQ 1375 -584 1119 -945 \nQ 863 -1306 506 -1588 \nQ 494 -1600 475 -1600 \nL 416 -1600 \nz\n\" transform=\"scale(0.015625)\"/>\n      </defs>\n      <use xlink:href=\"#STIXGeneral-Regular-53\"/>\n      <use xlink:href=\"#STIXGeneral-Regular-69\" transform=\"translate(55.599991 0)\"/>\n      <use xlink:href=\"#STIXGeneral-Regular-67\" transform=\"translate(83.399979 0)\"/>\n      <use xlink:href=\"#STIXGeneral-Regular-6e\" transform=\"translate(133.399963 0)\"/>\n      <use xlink:href=\"#STIXGeneral-Regular-61\" transform=\"translate(183.399948 0)\"/>\n      <use xlink:href=\"#STIXGeneral-Regular-6c\" transform=\"translate(227.799942 0)\"/>\n      <use xlink:href=\"#STIXGeneral-Regular-20\" transform=\"translate(255.59993 0)\"/>\n      <use xlink:href=\"#Cmmi10-79\" transform=\"translate(280.599915 0)\"/>\n      <use xlink:href=\"#Cmr10-28\" transform=\"translate(329.623352 0)\"/>\n      <use xlink:href=\"#Cmmi10-bf\" transform=\"translate(368.441711 0)\"/>\n      <use xlink:href=\"#Cmr10-29\" transform=\"translate(412.142883 0)\"/>\n     </g>\n    </g>\n   </g>\n   <g id=\"line2d_13\">\n    <path d=\"M 40.381705 66.643003 \nL 41.529052 66.53265 \nL 42.676399 66.202702 \nL 43.823747 65.656481 \nL 45.114513 64.790398 \nL 46.548697 63.528816 \nL 47.982881 61.971509 \nL 49.703902 59.747165 \nL 51.568342 56.95552 \nL 53.863036 53.082343 \nL 56.874823 47.515557 \nL 63.328652 35.446689 \nL 65.623347 31.671813 \nL 67.631205 28.794083 \nL 69.352226 26.714659 \nL 70.929829 25.165467 \nL 72.364013 24.07923 \nL 73.654779 23.378727 \nL 74.802126 22.984102 \nL 75.949474 22.808315 \nL 77.096821 22.853135 \nL 78.244169 23.118113 \nL 79.391516 23.600579 \nL 80.682282 24.39719 \nL 81.973048 25.452704 \nL 83.407232 26.912689 \nL 84.984834 28.841059 \nL 86.849274 31.506207 \nL 89.00055 35.012322 \nL 91.7255 39.928514 \nL 100.330606 55.849826 \nL 102.481882 59.187156 \nL 104.346322 61.670005 \nL 105.923924 63.421728 \nL 107.358109 64.706295 \nL 108.648874 65.594205 \nL 109.93964 66.216208 \nL 111.086988 66.539384 \nL 112.234335 66.642897 \nL 113.381682 66.525705 \nL 114.52903 66.188988 \nL 115.676377 65.636135 \nL 116.967143 64.762841 \nL 118.401327 63.493661 \nL 119.835512 61.92931 \nL 121.556533 59.697397 \nL 123.420972 56.898828 \nL 125.715667 53.019212 \nL 128.727454 47.44785 \nL 135.181283 35.384892 \nL 137.475978 31.617034 \nL 139.483836 28.747262 \nL 141.204857 26.675816 \nL 142.782459 25.134715 \nL 144.216644 24.056344 \nL 145.507409 23.363233 \nL 146.654757 22.975347 \nL 147.802104 22.806386 \nL 148.949452 22.858053 \nL 150.096799 23.129828 \nL 151.244146 23.618973 \nL 152.534912 24.422873 \nL 153.825678 25.485349 \nL 155.259862 26.952579 \nL 156.837465 28.888189 \nL 158.701904 31.560728 \nL 160.853181 35.073561 \nL 163.578131 39.995136 \nL 172.183236 55.908574 \nL 174.334513 59.238366 \nL 176.198952 61.713209 \nL 177.776555 63.457252 \nL 179.210739 64.734246 \nL 180.501505 65.614962 \nL 181.792271 66.229505 \nL 182.939618 66.545906 \nL 183.65671 66.632186 \nL 183.65671 66.632186 \n\" clip-path=\"url(#pceea220dd3)\" style=\"fill: none; stroke: #1f77b4; stroke-width: 2; stroke-linecap: square\"/>\n   </g>\n   <g id=\"patch_3\">\n    <path d=\"M 33.2 68.835223 \nL 33.2 20.606382 \n\" style=\"fill: none; stroke: #000000; stroke-width: 0.8; stroke-linejoin: miter; stroke-linecap: square\"/>\n   </g>\n   <g id=\"patch_4\">\n    <path d=\"M 191.1975 68.835223 \nL 191.1975 20.606382 \n\" style=\"fill: none; stroke: #000000; stroke-width: 0.8; stroke-linejoin: miter; stroke-linecap: square\"/>\n   </g>\n   <g id=\"patch_5\">\n    <path d=\"M 33.2 68.835223 \nL 191.1975 68.835223 \n\" style=\"fill: none; stroke: #000000; stroke-width: 0.8; stroke-linejoin: miter; stroke-linecap: square\"/>\n   </g>\n   <g id=\"patch_6\">\n    <path d=\"M 33.2 20.606382 \nL 191.1975 20.606382 \n\" style=\"fill: none; stroke: #000000; stroke-width: 0.8; stroke-linejoin: miter; stroke-linecap: square\"/>\n   </g>\n   <g id=\"text_4\">\n    <!-- $t=1$ -->\n    <g transform=\"translate(48.385966 14.029688) scale(0.1 -0.1)\">\n     <defs>\n      <path id=\"Cmmi10-74\" d=\"M 397 519 \nQ 397 613 416 697 \nL 878 2534 \nL 206 2534 \nQ 141 2534 141 2619 \nQ 166 2759 225 2759 \nL 934 2759 \nL 1191 3803 \nQ 1216 3888 1291 3947 \nQ 1366 4006 1459 4006 \nQ 1541 4006 1595 3957 \nQ 1650 3909 1650 3828 \nQ 1650 3809 1648 3798 \nQ 1647 3788 1644 3775 \nL 1388 2759 \nL 2047 2759 \nQ 2113 2759 2113 2675 \nQ 2109 2659 2100 2621 \nQ 2091 2584 2075 2559 \nQ 2059 2534 2028 2534 \nL 1331 2534 \nL 872 684 \nQ 825 503 825 372 \nQ 825 97 1013 97 \nQ 1294 97 1511 361 \nQ 1728 625 1844 941 \nQ 1869 978 1894 978 \nL 1972 978 \nQ 1997 978 2012 961 \nQ 2028 944 2028 922 \nQ 2028 909 2022 903 \nQ 1881 516 1612 222 \nQ 1344 -72 997 -72 \nQ 744 -72 570 93 \nQ 397 259 397 519 \nz\n\" transform=\"scale(0.015625)\"/>\n      <path id=\"Cmr10-3d\" d=\"M 481 850 \nQ 428 850 393 890 \nQ 359 931 359 978 \nQ 359 1031 393 1068 \nQ 428 1106 481 1106 \nL 4500 1106 \nQ 4547 1106 4581 1068 \nQ 4616 1031 4616 978 \nQ 4616 931 4581 890 \nQ 4547 850 4500 850 \nL 481 850 \nz\nM 481 2094 \nQ 428 2094 393 2131 \nQ 359 2169 359 2222 \nQ 359 2269 393 2309 \nQ 428 2350 481 2350 \nL 4500 2350 \nQ 4547 2350 4581 2309 \nQ 4616 2269 4616 2222 \nQ 4616 2169 4581 2131 \nQ 4547 2094 4500 2094 \nL 481 2094 \nz\n\" transform=\"scale(0.015625)\"/>\n      <path id=\"Cmr10-31\" d=\"M 594 0 \nL 594 225 \nQ 1394 225 1394 428 \nL 1394 3788 \nQ 1063 3628 556 3628 \nL 556 3853 \nQ 1341 3853 1741 4263 \nL 1831 4263 \nQ 1853 4263 1873 4245 \nQ 1894 4228 1894 4206 \nL 1894 428 \nQ 1894 225 2694 225 \nL 2694 0 \nL 594 0 \nz\n\" transform=\"scale(0.015625)\"/>\n     </defs>\n     <use xlink:href=\"#Cmmi10-74\" transform=\"translate(0 0.390625)\"/>\n     <use xlink:href=\"#Cmr10-3d\" transform=\"translate(53.642578 0.390625)\"/>\n     <use xlink:href=\"#Cmr10-31\" transform=\"translate(148.886719 0.390625)\"/>\n    </g>\n   </g>\n   <g id=\"text_5\">\n    <!-- $t=2$ -->\n    <g transform=\"translate(84.294489 14.029688) scale(0.1 -0.1)\">\n     <defs>\n      <path id=\"Cmr10-32\" d=\"M 319 0 \nL 319 172 \nQ 319 188 331 206 \nL 1325 1306 \nQ 1550 1550 1690 1715 \nQ 1831 1881 1968 2097 \nQ 2106 2313 2186 2536 \nQ 2266 2759 2266 3009 \nQ 2266 3272 2169 3511 \nQ 2072 3750 1880 3894 \nQ 1688 4038 1416 4038 \nQ 1138 4038 916 3870 \nQ 694 3703 603 3438 \nQ 628 3444 672 3444 \nQ 816 3444 917 3347 \nQ 1019 3250 1019 3097 \nQ 1019 2950 917 2848 \nQ 816 2747 672 2747 \nQ 522 2747 420 2851 \nQ 319 2956 319 3097 \nQ 319 3338 409 3548 \nQ 500 3759 670 3923 \nQ 841 4088 1055 4175 \nQ 1269 4263 1509 4263 \nQ 1875 4263 2190 4108 \nQ 2506 3953 2690 3670 \nQ 2875 3388 2875 3009 \nQ 2875 2731 2753 2481 \nQ 2631 2231 2440 2026 \nQ 2250 1822 1953 1562 \nQ 1656 1303 1563 1216 \nL 838 519 \nL 1453 519 \nQ 1906 519 2211 526 \nQ 2516 534 2534 550 \nQ 2609 631 2688 1141 \nL 2875 1141 \nL 2694 0 \nL 319 0 \nz\n\" transform=\"scale(0.015625)\"/>\n     </defs>\n     <use xlink:href=\"#Cmmi10-74\" transform=\"translate(0 0.390625)\"/>\n     <use xlink:href=\"#Cmr10-3d\" transform=\"translate(53.642578 0.390625)\"/>\n     <use xlink:href=\"#Cmr10-32\" transform=\"translate(148.886719 0.390625)\"/>\n    </g>\n   </g>\n   <g id=\"text_6\">\n    <!-- $t=3$ -->\n    <g transform=\"translate(120.203011 14.029688) scale(0.1 -0.1)\">\n     <defs>\n      <path id=\"Cmr10-33\" d=\"M 609 494 \nQ 759 275 1012 169 \nQ 1266 63 1556 63 \nQ 1928 63 2084 380 \nQ 2241 697 2241 1100 \nQ 2241 1281 2208 1462 \nQ 2175 1644 2097 1800 \nQ 2019 1956 1883 2050 \nQ 1747 2144 1550 2144 \nL 1125 2144 \nQ 1069 2144 1069 2203 \nL 1069 2259 \nQ 1069 2309 1125 2309 \nL 1478 2338 \nQ 1703 2338 1851 2506 \nQ 2000 2675 2069 2917 \nQ 2138 3159 2138 3378 \nQ 2138 3684 1994 3881 \nQ 1850 4078 1556 4078 \nQ 1313 4078 1091 3986 \nQ 869 3894 738 3706 \nQ 750 3709 759 3711 \nQ 769 3713 781 3713 \nQ 925 3713 1022 3613 \nQ 1119 3513 1119 3372 \nQ 1119 3234 1022 3134 \nQ 925 3034 781 3034 \nQ 641 3034 541 3134 \nQ 441 3234 441 3372 \nQ 441 3647 606 3850 \nQ 772 4053 1033 4158 \nQ 1294 4263 1556 4263 \nQ 1750 4263 1965 4205 \nQ 2181 4147 2356 4039 \nQ 2531 3931 2642 3762 \nQ 2753 3594 2753 3378 \nQ 2753 3109 2633 2881 \nQ 2513 2653 2303 2487 \nQ 2094 2322 1844 2241 \nQ 2122 2188 2372 2031 \nQ 2622 1875 2773 1631 \nQ 2925 1388 2925 1106 \nQ 2925 753 2731 467 \nQ 2538 181 2222 20 \nQ 1906 -141 1556 -141 \nQ 1256 -141 954 -26 \nQ 653 88 461 316 \nQ 269 544 269 863 \nQ 269 1022 375 1128 \nQ 481 1234 641 1234 \nQ 744 1234 830 1186 \nQ 916 1138 964 1050 \nQ 1013 963 1013 863 \nQ 1013 706 903 600 \nQ 794 494 641 494 \nL 609 494 \nz\n\" transform=\"scale(0.015625)\"/>\n     </defs>\n     <use xlink:href=\"#Cmmi10-74\" transform=\"translate(0 0.390625)\"/>\n     <use xlink:href=\"#Cmr10-3d\" transform=\"translate(53.642578 0.390625)\"/>\n     <use xlink:href=\"#Cmr10-33\" transform=\"translate(148.886719 0.390625)\"/>\n    </g>\n   </g>\n   <g id=\"text_7\">\n    <!-- $t=4$ -->\n    <g transform=\"translate(156.111534 14.029688) scale(0.1 -0.1)\">\n     <defs>\n      <path id=\"Cmr10-34\" d=\"M 178 1056 \nL 178 1281 \nL 2156 4231 \nQ 2178 4263 2222 4263 \nL 2316 4263 \nQ 2388 4263 2388 4191 \nL 2388 1281 \nL 3016 1281 \nL 3016 1056 \nL 2388 1056 \nL 2388 428 \nQ 2388 297 2575 261 \nQ 2763 225 3009 225 \nL 3009 0 \nL 1247 0 \nL 1247 225 \nQ 1494 225 1681 261 \nQ 1869 297 1869 428 \nL 1869 1056 \nL 178 1056 \nz\nM 391 1281 \nL 1906 1281 \nL 1906 3547 \nL 391 1281 \nz\n\" transform=\"scale(0.015625)\"/>\n     </defs>\n     <use xlink:href=\"#Cmmi10-74\" transform=\"translate(0 0.390625)\"/>\n     <use xlink:href=\"#Cmr10-3d\" transform=\"translate(53.642578 0.390625)\"/>\n     <use xlink:href=\"#Cmr10-34\" transform=\"translate(148.886719 0.390625)\"/>\n    </g>\n   </g>\n  </g>\n  <g id=\"axes_2\">\n   <g id=\"patch_7\">\n    <path d=\"M 33.2 132.235428 \nL 191.1975 132.235428 \nL 191.1975 84.006587 \nL 33.2 84.006587 \nz\n\" style=\"fill: #ffffff\"/>\n   </g>\n   <g id=\"matplotlib.axis_3\">\n    <g id=\"xtick_6\">\n     <g id=\"line2d_14\">\n      <g>\n       <use xlink:href=\"#mda68046cc1\" x=\"40.381705\" y=\"132.235428\" style=\"stroke: #000000; stroke-width: 0.8\"/>\n      </g>\n     </g>\n     <g id=\"text_8\">\n      <!-- 0 -->\n      <g transform=\"translate(37.881705 146.065116) scale(0.1 -0.1)\">\n       <use xlink:href=\"#STIXGeneral-Regular-30\"/>\n      </g>\n     </g>\n    </g>\n    <g id=\"xtick_7\">\n     <g id=\"line2d_15\">\n      <g>\n       <use xlink:href=\"#mda68046cc1\" x=\"76.290227\" y=\"132.235428\" style=\"stroke: #000000; stroke-width: 0.8\"/>\n      </g>\n     </g>\n     <g id=\"text_9\">\n      <!-- 1 -->\n      <g transform=\"translate(73.790227 146.065116) scale(0.1 -0.1)\">\n       <use xlink:href=\"#STIXGeneral-Regular-31\"/>\n      </g>\n     </g>\n    </g>\n    <g id=\"xtick_8\">\n     <g id=\"line2d_16\">\n      <g>\n       <use xlink:href=\"#mda68046cc1\" x=\"112.19875\" y=\"132.235428\" style=\"stroke: #000000; stroke-width: 0.8\"/>\n      </g>\n     </g>\n     <g id=\"text_10\">\n      <!-- 2 -->\n      <g transform=\"translate(109.69875 146.065116) scale(0.1 -0.1)\">\n       <defs>\n        <path id=\"STIXGeneral-Regular-32\" d=\"M 3034 877 \nL 2688 0 \nL 186 0 \nL 186 77 \nL 1325 1286 \nQ 1773 1754 1965 2144 \nQ 2157 2534 2157 2950 \nQ 2157 3379 1920 3616 \nQ 1683 3853 1267 3853 \nQ 922 3853 720 3673 \nQ 518 3494 326 3021 \nL 192 3053 \nQ 301 3648 630 3987 \nQ 960 4326 1523 4326 \nQ 2054 4326 2380 4006 \nQ 2707 3686 2707 3200 \nQ 2707 2477 1888 1613 \nL 832 486 \nL 2330 486 \nQ 2541 486 2665 569 \nQ 2790 653 2944 915 \nL 3034 877 \nz\n\" transform=\"scale(0.015625)\"/>\n       </defs>\n       <use xlink:href=\"#STIXGeneral-Regular-32\"/>\n      </g>\n     </g>\n    </g>\n    <g id=\"xtick_9\">\n     <g id=\"line2d_17\">\n      <g>\n       <use xlink:href=\"#mda68046cc1\" x=\"148.107273\" y=\"132.235428\" style=\"stroke: #000000; stroke-width: 0.8\"/>\n      </g>\n     </g>\n     <g id=\"text_11\">\n      <!-- 3 -->\n      <g transform=\"translate(145.607273 146.065116) scale(0.1 -0.1)\">\n       <defs>\n        <path id=\"STIXGeneral-Regular-33\" d=\"M 390 3264 \nL 288 3290 \nQ 435 3770 748 4048 \nQ 1062 4326 1542 4326 \nQ 1990 4326 2265 4083 \nQ 2541 3840 2541 3450 \nQ 2541 2925 1946 2566 \nQ 2298 2413 2477 2227 \nQ 2758 1914 2758 1402 \nQ 2758 890 2464 506 \nQ 2246 211 1840 60 \nQ 1434 -90 979 -90 \nQ 262 -90 262 275 \nQ 262 378 339 442 \nQ 416 506 525 506 \nQ 685 506 915 339 \nQ 1197 141 1466 141 \nQ 1818 141 2058 425 \nQ 2298 710 2298 1120 \nQ 2298 1856 1632 2048 \nQ 1434 2112 979 2112 \nL 979 2202 \nQ 1338 2323 1517 2432 \nQ 2035 2726 2035 3290 \nQ 2035 3610 1852 3776 \nQ 1670 3942 1344 3942 \nQ 768 3942 390 3264 \nz\n\" transform=\"scale(0.015625)\"/>\n       </defs>\n       <use xlink:href=\"#STIXGeneral-Regular-33\"/>\n      </g>\n     </g>\n    </g>\n    <g id=\"xtick_10\">\n     <g id=\"line2d_18\">\n      <g>\n       <use xlink:href=\"#mda68046cc1\" x=\"184.015795\" y=\"132.235428\" style=\"stroke: #000000; stroke-width: 0.8\"/>\n      </g>\n     </g>\n     <g id=\"text_12\">\n      <!-- 4 -->\n      <g transform=\"translate(181.515795 146.065116) scale(0.1 -0.1)\">\n       <defs>\n        <path id=\"STIXGeneral-Regular-34\" d=\"M 3027 1069 \nL 2368 1069 \nL 2368 0 \nL 1869 0 \nL 1869 1069 \nL 77 1069 \nL 77 1478 \nL 2086 4326 \nL 2368 4326 \nL 2368 1478 \nL 3027 1478 \nL 3027 1069 \nz\nM 1869 1478 \nL 1869 3674 \nL 333 1478 \nL 1869 1478 \nz\n\" transform=\"scale(0.015625)\"/>\n       </defs>\n       <use xlink:href=\"#STIXGeneral-Regular-34\"/>\n      </g>\n     </g>\n    </g>\n    <g id=\"text_13\">\n     <!-- Time $\\tau$ -->\n     <g transform=\"translate(98.19875 159.065116) scale(0.1 -0.1)\">\n      <defs>\n       <path id=\"STIXGeneral-Regular-54\" d=\"M 3795 3149 \nL 3642 3149 \nQ 3539 3674 3353 3821 \nQ 3168 3968 2656 3968 \nL 2278 3968 \nL 2278 710 \nQ 2278 346 2387 243 \nQ 2496 141 2893 122 \nL 2893 0 \nL 1024 0 \nL 1024 122 \nQ 1427 147 1526 256 \nQ 1626 365 1626 787 \nL 1626 3968 \nL 1242 3968 \nQ 723 3968 540 3817 \nQ 358 3667 262 3149 \nL 109 3149 \nL 154 4237 \nL 3750 4237 \nL 3795 3149 \nz\n\" transform=\"scale(0.015625)\"/>\n       <path id=\"STIXGeneral-Regular-6d\" d=\"M 4960 0 \nL 3565 0 \nL 3565 96 \nQ 3834 122 3907 208 \nQ 3981 294 3981 576 \nL 3981 1894 \nQ 3981 2278 3869 2444 \nQ 3757 2611 3488 2611 \nQ 3264 2611 3107 2521 \nQ 2950 2432 2803 2221 \nL 2803 608 \nQ 2803 301 2896 201 \nQ 2989 102 3264 96 \nL 3264 0 \nL 1830 0 \nL 1830 96 \nQ 2112 115 2189 188 \nQ 2266 262 2266 550 \nL 2266 1901 \nQ 2266 2611 1850 2611 \nQ 1670 2611 1468 2531 \nQ 1267 2451 1171 2336 \nQ 1088 2240 1088 2227 \nL 1088 448 \nQ 1088 243 1177 176 \nQ 1267 109 1523 96 \nL 1523 0 \nL 102 0 \nL 102 96 \nQ 371 102 460 195 \nQ 550 288 550 563 \nL 550 2150 \nQ 550 2387 499 2480 \nQ 448 2573 326 2573 \nQ 230 2573 122 2547 \nL 122 2656 \nQ 557 2778 1011 2944 \nL 1062 2925 \nL 1062 2451 \nL 1075 2451 \nQ 1363 2752 1584 2848 \nQ 1805 2944 2054 2944 \nQ 2560 2944 2733 2406 \nQ 3232 2944 3776 2944 \nQ 4518 2944 4518 1792 \nL 4518 493 \nQ 4518 282 4582 202 \nQ 4646 122 4794 109 \nL 4960 96 \nL 4960 0 \nz\n\" transform=\"scale(0.015625)\"/>\n       <path id=\"STIXGeneral-Regular-65\" d=\"M 2611 1050 \nL 2714 1005 \nQ 2330 -64 1376 -64 \nQ 813 -64 486 329 \nQ 160 723 160 1389 \nQ 160 2074 525 2509 \nQ 890 2944 1485 2944 \nQ 2061 2944 2374 2502 \nQ 2560 2246 2592 1773 \nL 621 1773 \nQ 646 1370 700 1158 \nQ 755 947 915 730 \nQ 1184 378 1626 378 \nQ 1939 378 2153 531 \nQ 2368 685 2611 1050 \nz\nM 634 1978 \nL 1939 1978 \nQ 1882 2381 1750 2547 \nQ 1619 2714 1312 2714 \nQ 1043 2714 864 2525 \nQ 685 2336 634 1978 \nz\n\" transform=\"scale(0.015625)\"/>\n      </defs>\n      <use xlink:href=\"#STIXGeneral-Regular-54\" transform=\"translate(0 0.703125)\"/>\n      <use xlink:href=\"#STIXGeneral-Regular-69\" transform=\"translate(61.099991 0.703125)\"/>\n      <use xlink:href=\"#STIXGeneral-Regular-6d\" transform=\"translate(88.899979 0.703125)\"/>\n      <use xlink:href=\"#STIXGeneral-Regular-65\" transform=\"translate(166.699966 0.703125)\"/>\n      <use xlink:href=\"#STIXGeneral-Regular-20\" transform=\"translate(211.09996 0.703125)\"/>\n      <use xlink:href=\"#Cmmi10-bf\" transform=\"translate(236.099945 0.703125)\"/>\n     </g>\n    </g>\n   </g>\n   <g id=\"matplotlib.axis_4\">\n    <g id=\"ytick_3\">\n     <g id=\"line2d_19\">\n      <g>\n       <use xlink:href=\"#mfea7c287e7\" x=\"33.2\" y=\"130.043208\" style=\"stroke: #000000; stroke-width: 0.8\"/>\n      </g>\n     </g>\n     <g id=\"text_14\">\n      <!-- 0 -->\n      <g transform=\"translate(21.2 133.458052) scale(0.1 -0.1)\">\n       <use xlink:href=\"#STIXGeneral-Regular-30\"/>\n      </g>\n     </g>\n    </g>\n    <g id=\"ytick_4\">\n     <g id=\"line2d_20\">\n      <g>\n       <use xlink:href=\"#mfea7c287e7\" x=\"33.2\" y=\"86.198807\" style=\"stroke: #000000; stroke-width: 0.8\"/>\n      </g>\n     </g>\n     <g id=\"text_15\">\n      <!-- 1 -->\n      <g transform=\"translate(21.2 89.613651) scale(0.1 -0.1)\">\n       <use xlink:href=\"#STIXGeneral-Regular-31\"/>\n      </g>\n     </g>\n    </g>\n    <g id=\"text_16\">\n     <!-- Control $u(\\tau)$ -->\n     <g transform=\"translate(14.7 133.621007) rotate(-90) scale(0.1 -0.1)\">\n      <defs>\n       <path id=\"STIXGeneral-Regular-43\" d=\"M 3930 838 \nL 4051 723 \nQ 3482 -90 2304 -90 \nQ 1376 -90 794 480 \nQ 179 1082 179 2080 \nQ 179 3014 755 3661 \nQ 1357 4326 2310 4326 \nQ 2720 4326 3072 4230 \nQ 3475 4115 3514 4115 \nQ 3725 4115 3782 4326 \nL 3910 4326 \nL 3968 2874 \nL 3821 2874 \nQ 3718 3334 3488 3584 \nQ 3034 4070 2458 4070 \nQ 1747 4070 1334 3548 \nQ 922 3027 922 2182 \nQ 922 1152 1382 653 \nQ 1811 192 2522 192 \nQ 2944 192 3251 339 \nQ 3558 486 3930 838 \nz\n\" transform=\"scale(0.015625)\"/>\n       <path id=\"STIXGeneral-Regular-6f\" d=\"M 3008 1478 \nQ 3008 806 2608 371 \nQ 2208 -64 1568 -64 \nQ 979 -64 582 368 \nQ 186 800 186 1459 \nQ 186 2125 582 2534 \nQ 979 2944 1626 2944 \nQ 2221 2944 2614 2537 \nQ 3008 2131 3008 1478 \nz\nM 2432 1306 \nQ 2432 2035 2112 2445 \nQ 1856 2765 1504 2765 \nQ 1171 2765 966 2493 \nQ 762 2221 762 1747 \nQ 762 928 1101 435 \nQ 1318 115 1677 115 \nQ 2029 115 2230 432 \nQ 2432 749 2432 1306 \nz\n\" transform=\"scale(0.015625)\"/>\n       <path id=\"STIXGeneral-Regular-74\" d=\"M 1702 493 \nL 1786 422 \nQ 1478 -64 1011 -64 \nQ 448 -64 448 749 \nL 448 2675 \nL 109 2675 \nQ 83 2694 83 2720 \nQ 83 2771 192 2842 \nQ 435 2982 813 3526 \nQ 826 3546 874 3606 \nQ 922 3667 941 3706 \nQ 986 3706 986 3622 \nL 986 2880 \nL 1632 2880 \nL 1632 2675 \nL 986 2675 \nL 986 845 \nQ 986 538 1062 403 \nQ 1139 269 1318 269 \nQ 1510 269 1702 493 \nz\n\" transform=\"scale(0.015625)\"/>\n       <path id=\"STIXGeneral-Regular-72\" d=\"M 1024 2931 \nL 1024 2342 \nQ 1267 2688 1430 2816 \nQ 1594 2944 1792 2944 \nQ 1958 2944 2051 2854 \nQ 2144 2765 2144 2605 \nQ 2144 2470 2077 2393 \nQ 2010 2317 1894 2317 \nQ 1773 2317 1638 2445 \nQ 1536 2541 1472 2541 \nQ 1338 2541 1181 2355 \nQ 1024 2170 1024 2016 \nL 1024 576 \nQ 1024 301 1133 205 \nQ 1242 109 1568 96 \nL 1568 0 \nL 32 0 \nL 32 96 \nQ 339 154 412 224 \nQ 486 294 486 538 \nL 486 2138 \nQ 486 2349 438 2435 \nQ 390 2522 269 2522 \nQ 166 2522 45 2496 \nL 45 2598 \nQ 448 2726 992 2944 \nL 1024 2931 \nz\n\" transform=\"scale(0.015625)\"/>\n       <path id=\"Cmmi10-75\" d=\"M 678 697 \nQ 678 906 734 1126 \nQ 791 1347 892 1617 \nQ 994 1888 1069 2088 \nQ 1153 2322 1153 2472 \nQ 1153 2663 1013 2663 \nQ 759 2663 595 2402 \nQ 431 2141 353 1819 \nQ 341 1778 300 1778 \nL 225 1778 \nQ 172 1778 172 1838 \nL 172 1856 \nQ 275 2238 487 2533 \nQ 700 2828 1025 2828 \nQ 1253 2828 1411 2678 \nQ 1569 2528 1569 2297 \nQ 1569 2178 1516 2047 \nQ 1488 1969 1388 1706 \nQ 1288 1444 1234 1272 \nQ 1181 1100 1147 934 \nQ 1113 769 1113 603 \nQ 1113 391 1203 244 \nQ 1294 97 1497 97 \nQ 1906 97 2216 603 \nQ 2222 628 2226 651 \nQ 2231 675 2234 697 \nL 2694 2553 \nQ 2716 2638 2794 2698 \nQ 2872 2759 2963 2759 \nQ 3041 2759 3098 2709 \nQ 3156 2659 3156 2578 \nQ 3156 2541 3150 2528 \nL 2688 684 \nQ 2644 494 2644 372 \nQ 2644 97 2828 97 \nQ 3034 97 3136 351 \nQ 3238 606 3309 941 \nQ 3322 978 3359 978 \nL 3438 978 \nQ 3463 978 3478 956 \nQ 3494 934 3494 916 \nQ 3425 641 3361 444 \nQ 3297 247 3159 87 \nQ 3022 -72 2816 -72 \nQ 2613 -72 2452 39 \nQ 2291 150 2234 341 \nQ 2088 153 1894 40 \nQ 1700 -72 1484 -72 \nQ 1116 -72 897 129 \nQ 678 331 678 697 \nz\n\" transform=\"scale(0.015625)\"/>\n      </defs>\n      <use xlink:href=\"#STIXGeneral-Regular-43\"/>\n      <use xlink:href=\"#STIXGeneral-Regular-6f\" transform=\"translate(66.699997 0)\"/>\n      <use xlink:href=\"#STIXGeneral-Regular-6e\" transform=\"translate(116.699982 0)\"/>\n      <use xlink:href=\"#STIXGeneral-Regular-74\" transform=\"translate(166.699966 0)\"/>\n      <use xlink:href=\"#STIXGeneral-Regular-72\" transform=\"translate(194.499954 0)\"/>\n      <use xlink:href=\"#STIXGeneral-Regular-6f\" transform=\"translate(227.799942 0)\"/>\n      <use xlink:href=\"#STIXGeneral-Regular-6c\" transform=\"translate(277.799927 0)\"/>\n      <use xlink:href=\"#STIXGeneral-Regular-20\" transform=\"translate(305.599915 0)\"/>\n      <use xlink:href=\"#Cmmi10-75\" transform=\"translate(330.599899 0)\"/>\n      <use xlink:href=\"#Cmr10-28\" transform=\"translate(387.777634 0)\"/>\n      <use xlink:href=\"#Cmmi10-bf\" transform=\"translate(426.595993 0)\"/>\n      <use xlink:href=\"#Cmr10-29\" transform=\"translate(470.297165 0)\"/>\n     </g>\n    </g>\n   </g>\n   <g id=\"line2d_21\">\n    <path d=\"M 40.381705 86.198807 \nL 76.236311 86.198807 \nL 76.236311 130.043208 \nL 112.090917 130.043208 \nL 112.090917 86.198807 \nL 148.088941 86.198807 \nL 148.088941 130.043208 \nL 183.65671 130.043208 \nL 183.65671 130.043208 \n\" clip-path=\"url(#pf7a5271f41)\" style=\"fill: none; stroke: #ff7f0e; stroke-opacity: 0.05; stroke-width: 2; stroke-linecap: square\"/>\n   </g>\n   <g id=\"LineCollection_1\">\n    <path d=\"M 40.381705 86.198807 \nL 76.290227 86.198807 \n\" clip-path=\"url(#pf7a5271f41)\" style=\"fill: none; stroke: #ff7f0e; stroke-width: 2\"/>\n    <path d=\"M 76.290227 130.043208 \nL 112.19875 130.043208 \n\" clip-path=\"url(#pf7a5271f41)\" style=\"fill: none; stroke: #ff7f0e; stroke-width: 2\"/>\n    <path d=\"M 112.19875 86.198807 \nL 148.107273 86.198807 \n\" clip-path=\"url(#pf7a5271f41)\" style=\"fill: none; stroke: #ff7f0e; stroke-width: 2\"/>\n    <path d=\"M 148.107273 130.043208 \nL 184.015795 130.043208 \n\" clip-path=\"url(#pf7a5271f41)\" style=\"fill: none; stroke: #ff7f0e; stroke-width: 2\"/>\n   </g>\n   <g id=\"patch_8\">\n    <path d=\"M 33.2 132.235428 \nL 33.2 84.006587 \n\" style=\"fill: none; stroke: #000000; stroke-width: 0.8; stroke-linejoin: miter; stroke-linecap: square\"/>\n   </g>\n   <g id=\"patch_9\">\n    <path d=\"M 191.1975 132.235428 \nL 191.1975 84.006587 \n\" style=\"fill: none; stroke: #000000; stroke-width: 0.8; stroke-linejoin: miter; stroke-linecap: square\"/>\n   </g>\n   <g id=\"patch_10\">\n    <path d=\"M 33.2 132.235428 \nL 191.1975 132.235428 \n\" style=\"fill: none; stroke: #000000; stroke-width: 0.8; stroke-linejoin: miter; stroke-linecap: square\"/>\n   </g>\n   <g id=\"patch_11\">\n    <path d=\"M 33.2 84.006587 \nL 191.1975 84.006587 \n\" style=\"fill: none; stroke: #000000; stroke-width: 0.8; stroke-linejoin: miter; stroke-linecap: square\"/>\n   </g>\n  </g>\n </g>\n <defs>\n  <clipPath id=\"pceea220dd3\">\n   <rect x=\"33.2\" y=\"20.606382\" width=\"157.9975\" height=\"48.228842\"/>\n  </clipPath>\n  <clipPath id=\"pf7a5271f41\">\n   <rect x=\"33.2\" y=\"84.006587\" width=\"157.9975\" height=\"48.228842\"/>\n  </clipPath>\n </defs>\n</svg>\n"
          },
          "metadata": {}
        }
      ]
    },
    {
      "cell_type": "code",
      "source": [
        "P_sas = np.array([[0.0, 1.0], [np.nan, np.nan], [np.nan, np.nan], [1.0, 0.0]])\n",
        "sa = [(0,0), (0,1), (1,0), (1,1)]\n",
        "s_ = [0, 1]\n",
        "\n",
        "df_P_sas = pd.DataFrame(P_sas, columns=s_, index=sa)\n",
        "\n",
        "fig, ax = plt.subplots(figsize=(2, 3.5))\n",
        "sns.heatmap(\n",
        "    df_P_sas.T, ax=ax, annot=True, square=True,\n",
        "    cmap='Reds', fmt='.1f', vmin=0, vmax=1, cbar=False,\n",
        "    linewidths=0.5, linecolor='black', yticklabels=[\"$s'=0$\", \"$s'=1$\"],\n",
        ")\n",
        "\n",
        "ax.tick_params(top=True, bottom=False, labeltop=True, labelbottom=False)\n",
        "plt.tick_params(axis='x', which='both', length=0)\n",
        "plt.tick_params(axis='y', which='both', length=0, rotation=0)\n",
        "plt.xlabel('$(s,a) = $', )\n",
        "# ax.xaxis.set_label_position('top')\n",
        "ax.xaxis.set_label_coords(-0.15, 1.24)\n",
        "# plt.ylabel(\"$s'$\", rotation=0)\n",
        "\n",
        "plt.savefig('toy_problem_transition_orig.pdf', bbox_inches='tight')\n",
        "plt.show()"
      ],
      "metadata": {
        "colab": {
          "base_uri": "https://localhost:8080/",
          "height": 132
        },
        "id": "NN0fzc9BcV1K",
        "outputId": "87bc738d-6cda-4a10-ef35-adf89caa7a86"
      },
      "execution_count": null,
      "outputs": [
        {
          "output_type": "display_data",
          "data": {
            "text/plain": [
              "<Figure size 200x350 with 1 Axes>"
            ],
            "image/svg+xml": "<?xml version=\"1.0\" encoding=\"utf-8\" standalone=\"no\"?>\n<!DOCTYPE svg PUBLIC \"-//W3C//DTD SVG 1.1//EN\"\n  \"http://www.w3.org/Graphics/SVG/1.1/DTD/svg11.dtd\">\n<svg xmlns:xlink=\"http://www.w3.org/1999/xlink\" width=\"153.7pt\" height=\"83.592pt\" viewBox=\"0 0 153.7 83.592\" xmlns=\"http://www.w3.org/2000/svg\" version=\"1.1\">\n <metadata>\n  <rdf:RDF xmlns:dc=\"http://purl.org/dc/elements/1.1/\" xmlns:cc=\"http://creativecommons.org/ns#\" xmlns:rdf=\"http://www.w3.org/1999/02/22-rdf-syntax-ns#\">\n   <cc:Work>\n    <dc:type rdf:resource=\"http://purl.org/dc/dcmitype/StillImage\"/>\n    <dc:date>2025-05-14T23:37:30.390383</dc:date>\n    <dc:format>image/svg+xml</dc:format>\n    <dc:creator>\n     <cc:Agent>\n      <dc:title>Matplotlib v3.10.0, https://matplotlib.org/</dc:title>\n     </cc:Agent>\n    </dc:creator>\n   </cc:Work>\n  </rdf:RDF>\n </metadata>\n <defs>\n  <style type=\"text/css\">*{stroke-linejoin: round; stroke-linecap: butt}</style>\n </defs>\n <g id=\"figure_1\">\n  <g id=\"patch_1\">\n   <path d=\"M 0 83.592 \nL 153.7 83.592 \nL 153.7 0 \nL 0 0 \nz\n\" style=\"fill: #ffffff\"/>\n  </g>\n  <g id=\"axes_1\">\n   <g id=\"patch_2\">\n    <path d=\"M 34.9 76.392 \nL 146.5 76.392 \nL 146.5 20.592 \nL 34.9 20.592 \nz\n\" style=\"fill: #ffffff\"/>\n   </g>\n   <g id=\"QuadMesh_1\">\n    <path d=\"M 34.9 20.592 \nL 62.8 20.592 \nL 62.8 48.492 \nL 34.9 48.492 \nL 34.9 20.592 \n\" clip-path=\"url(#pdfd7048a3a)\" style=\"fill: #fff5f0; stroke: #000000; stroke-width: 0.5\"/>\n    <path d=\"M 62.8 20.592 \nL 90.7 20.592 \nL 90.7 48.492 \nL 62.8 48.492 \nL 62.8 20.592 \n\" clip-path=\"url(#pdfd7048a3a)\" style=\"fill: none; stroke: #000000; stroke-width: 0.5\"/>\n    <path d=\"M 90.7 20.592 \nL 118.6 20.592 \nL 118.6 48.492 \nL 90.7 48.492 \nL 90.7 20.592 \n\" clip-path=\"url(#pdfd7048a3a)\" style=\"fill: none; stroke: #000000; stroke-width: 0.5\"/>\n    <path d=\"M 118.6 20.592 \nL 146.5 20.592 \nL 146.5 48.492 \nL 118.6 48.492 \nL 118.6 20.592 \n\" clip-path=\"url(#pdfd7048a3a)\" style=\"fill: #67000d; stroke: #000000; stroke-width: 0.5\"/>\n    <path d=\"M 34.9 48.492 \nL 62.8 48.492 \nL 62.8 76.392 \nL 34.9 76.392 \nL 34.9 48.492 \n\" clip-path=\"url(#pdfd7048a3a)\" style=\"fill: #67000d; stroke: #000000; stroke-width: 0.5\"/>\n    <path d=\"M 62.8 48.492 \nL 90.7 48.492 \nL 90.7 76.392 \nL 62.8 76.392 \nL 62.8 48.492 \n\" clip-path=\"url(#pdfd7048a3a)\" style=\"fill: none; stroke: #000000; stroke-width: 0.5\"/>\n    <path d=\"M 90.7 48.492 \nL 118.6 48.492 \nL 118.6 76.392 \nL 90.7 76.392 \nL 90.7 48.492 \n\" clip-path=\"url(#pdfd7048a3a)\" style=\"fill: none; stroke: #000000; stroke-width: 0.5\"/>\n    <path d=\"M 118.6 48.492 \nL 146.5 48.492 \nL 146.5 76.392 \nL 118.6 76.392 \nL 118.6 48.492 \n\" clip-path=\"url(#pdfd7048a3a)\" style=\"fill: #fff5f0; stroke: #000000; stroke-width: 0.5\"/>\n   </g>\n   <g id=\"matplotlib.axis_1\">\n    <g id=\"xtick_1\">\n     <g id=\"line2d_1\"/>\n     <g id=\"text_1\">\n      <!-- (0, 0) -->\n      <g transform=\"translate(38.020313 14.921687) scale(0.1 -0.1)\">\n       <defs>\n        <path id=\"STIXGeneral-Regular-28\" d=\"M 1946 -1030 \nL 1869 -1133 \nQ 1126 -710 716 32 \nQ 307 774 307 1613 \nQ 307 3386 1888 4326 \nL 1946 4224 \nQ 1293 3667 1075 3126 \nQ 858 2586 858 1632 \nQ 858 685 1082 96 \nQ 1306 -493 1946 -1030 \nz\n\" transform=\"scale(0.015625)\"/>\n        <path id=\"STIXGeneral-Regular-30\" d=\"M 3046 2112 \nQ 3046 1683 2963 1302 \nQ 2880 922 2717 602 \nQ 2554 282 2266 96 \nQ 1978 -90 1600 -90 \nQ 1210 -90 915 108 \nQ 621 307 461 640 \nQ 301 973 227 1350 \nQ 154 1728 154 2150 \nQ 154 2746 301 3222 \nQ 448 3699 790 4012 \nQ 1133 4326 1626 4326 \nQ 2253 4326 2649 3712 \nQ 3046 3098 3046 2112 \nz\nM 2432 2080 \nQ 2432 3091 2217 3625 \nQ 2003 4160 1587 4160 \nQ 1190 4160 979 3622 \nQ 768 3085 768 2106 \nQ 768 1120 979 598 \nQ 1190 77 1600 77 \nQ 2003 77 2217 598 \nQ 2432 1120 2432 2080 \nz\n\" transform=\"scale(0.015625)\"/>\n        <path id=\"STIXGeneral-Regular-2c\" d=\"M 531 -902 \nL 467 -781 \nQ 998 -422 998 -96 \nQ 998 -13 909 -13 \nQ 883 -13 822 -25 \nQ 762 -38 723 -38 \nQ 352 -38 352 288 \nQ 352 454 457 553 \nQ 563 653 736 653 \nQ 954 653 1101 496 \nQ 1248 339 1248 96 \nQ 1248 -198 1053 -473 \nQ 858 -749 531 -902 \nz\n\" transform=\"scale(0.015625)\"/>\n        <path id=\"STIXGeneral-Regular-20\" transform=\"scale(0.015625)\"/>\n        <path id=\"STIXGeneral-Regular-29\" d=\"M 186 4224 \nL 262 4326 \nQ 992 3891 1408 3148 \nQ 1824 2406 1824 1581 \nQ 1824 -166 243 -1133 \nL 186 -1030 \nQ 845 -486 1059 54 \nQ 1274 595 1274 1562 \nQ 1274 2534 1059 3120 \nQ 845 3706 186 4224 \nz\n\" transform=\"scale(0.015625)\"/>\n       </defs>\n       <use xlink:href=\"#STIXGeneral-Regular-28\"/>\n       <use xlink:href=\"#STIXGeneral-Regular-30\" transform=\"translate(33.299988 0)\"/>\n       <use xlink:href=\"#STIXGeneral-Regular-2c\" transform=\"translate(83.299973 0)\"/>\n       <use xlink:href=\"#STIXGeneral-Regular-20\" transform=\"translate(108.299957 0)\"/>\n       <use xlink:href=\"#STIXGeneral-Regular-30\" transform=\"translate(133.299942 0)\"/>\n       <use xlink:href=\"#STIXGeneral-Regular-29\" transform=\"translate(183.299927 0)\"/>\n      </g>\n     </g>\n    </g>\n    <g id=\"xtick_2\">\n     <g id=\"line2d_2\"/>\n     <g id=\"text_2\">\n      <!-- (0, 1) -->\n      <g transform=\"translate(65.920312 14.921687) scale(0.1 -0.1)\">\n       <defs>\n        <path id=\"STIXGeneral-Regular-31\" d=\"M 2522 0 \nL 755 0 \nL 755 96 \nQ 1107 115 1235 227 \nQ 1363 339 1363 608 \nL 1363 3482 \nQ 1363 3795 1171 3795 \nQ 1082 3795 883 3718 \nL 710 3654 \nL 710 3744 \nL 1856 4326 \nL 1914 4307 \nL 1914 486 \nQ 1914 275 2042 185 \nQ 2170 96 2522 96 \nL 2522 0 \nz\n\" transform=\"scale(0.015625)\"/>\n       </defs>\n       <use xlink:href=\"#STIXGeneral-Regular-28\"/>\n       <use xlink:href=\"#STIXGeneral-Regular-30\" transform=\"translate(33.299988 0)\"/>\n       <use xlink:href=\"#STIXGeneral-Regular-2c\" transform=\"translate(83.299973 0)\"/>\n       <use xlink:href=\"#STIXGeneral-Regular-20\" transform=\"translate(108.299957 0)\"/>\n       <use xlink:href=\"#STIXGeneral-Regular-31\" transform=\"translate(133.299942 0)\"/>\n       <use xlink:href=\"#STIXGeneral-Regular-29\" transform=\"translate(183.299927 0)\"/>\n      </g>\n     </g>\n    </g>\n    <g id=\"xtick_3\">\n     <g id=\"line2d_3\"/>\n     <g id=\"text_3\">\n      <!-- (1, 0) -->\n      <g transform=\"translate(93.820312 14.921687) scale(0.1 -0.1)\">\n       <use xlink:href=\"#STIXGeneral-Regular-28\"/>\n       <use xlink:href=\"#STIXGeneral-Regular-31\" transform=\"translate(33.299988 0)\"/>\n       <use xlink:href=\"#STIXGeneral-Regular-2c\" transform=\"translate(83.299973 0)\"/>\n       <use xlink:href=\"#STIXGeneral-Regular-20\" transform=\"translate(108.299957 0)\"/>\n       <use xlink:href=\"#STIXGeneral-Regular-30\" transform=\"translate(133.299942 0)\"/>\n       <use xlink:href=\"#STIXGeneral-Regular-29\" transform=\"translate(183.299927 0)\"/>\n      </g>\n     </g>\n    </g>\n    <g id=\"xtick_4\">\n     <g id=\"line2d_4\"/>\n     <g id=\"text_4\">\n      <!-- (1, 1) -->\n      <g transform=\"translate(121.720313 14.921687) scale(0.1 -0.1)\">\n       <use xlink:href=\"#STIXGeneral-Regular-28\"/>\n       <use xlink:href=\"#STIXGeneral-Regular-31\" transform=\"translate(33.299988 0)\"/>\n       <use xlink:href=\"#STIXGeneral-Regular-2c\" transform=\"translate(83.299973 0)\"/>\n       <use xlink:href=\"#STIXGeneral-Regular-20\" transform=\"translate(108.299957 0)\"/>\n       <use xlink:href=\"#STIXGeneral-Regular-31\" transform=\"translate(133.299942 0)\"/>\n       <use xlink:href=\"#STIXGeneral-Regular-29\" transform=\"translate(183.299927 0)\"/>\n      </g>\n     </g>\n    </g>\n    <g id=\"text_5\">\n     <!-- $(s,a) = $ -->\n     <g transform=\"translate(1.36 14.7) scale(0.1 -0.1)\">\n      <defs>\n       <path id=\"Cmr10-28\" d=\"M 1984 -1588 \nQ 1628 -1306 1370 -942 \nQ 1113 -578 948 -165 \nQ 784 247 703 697 \nQ 622 1147 622 1600 \nQ 622 2059 703 2509 \nQ 784 2959 951 3375 \nQ 1119 3791 1378 4153 \nQ 1638 4516 1984 4788 \nQ 1984 4800 2016 4800 \nL 2075 4800 \nQ 2094 4800 2109 4783 \nQ 2125 4766 2125 4744 \nQ 2125 4716 2113 4703 \nQ 1800 4397 1592 4047 \nQ 1384 3697 1257 3301 \nQ 1131 2906 1075 2482 \nQ 1019 2059 1019 1600 \nQ 1019 -434 2106 -1491 \nQ 2125 -1509 2125 -1544 \nQ 2125 -1559 2108 -1579 \nQ 2091 -1600 2075 -1600 \nL 2016 -1600 \nQ 1984 -1600 1984 -1588 \nz\n\" transform=\"scale(0.015625)\"/>\n       <path id=\"Cmmi10-73\" d=\"M 556 391 \nQ 728 97 1247 97 \nQ 1472 97 1675 173 \nQ 1878 250 2011 403 \nQ 2144 556 2144 775 \nQ 2144 941 2025 1047 \nQ 1906 1153 1734 1191 \nL 1388 1259 \nQ 1150 1319 997 1481 \nQ 844 1644 844 1875 \nQ 844 2159 998 2378 \nQ 1153 2597 1406 2712 \nQ 1659 2828 1931 2828 \nQ 2222 2828 2451 2689 \nQ 2681 2550 2681 2278 \nQ 2681 2131 2598 2018 \nQ 2516 1906 2369 1906 \nQ 2284 1906 2223 1961 \nQ 2163 2016 2163 2100 \nQ 2163 2175 2205 2245 \nQ 2247 2316 2317 2358 \nQ 2388 2400 2463 2400 \nQ 2406 2538 2251 2600 \nQ 2097 2663 1919 2663 \nQ 1756 2663 1593 2597 \nQ 1431 2531 1332 2404 \nQ 1234 2278 1234 2106 \nQ 1234 1991 1315 1903 \nQ 1397 1816 1516 1778 \nL 1888 1703 \nQ 2066 1666 2214 1570 \nQ 2363 1475 2448 1329 \nQ 2534 1184 2534 997 \nQ 2534 759 2401 528 \nQ 2269 297 2075 159 \nQ 1734 -72 1241 -72 \nQ 900 -72 615 84 \nQ 331 241 331 550 \nQ 331 725 432 854 \nQ 534 984 709 984 \nQ 813 984 883 921 \nQ 953 859 953 756 \nQ 953 609 843 500 \nQ 734 391 588 391 \nL 556 391 \nz\n\" transform=\"scale(0.015625)\"/>\n       <path id=\"Cmmi10-3b\" d=\"M 634 -1153 \nQ 634 -1125 659 -1100 \nQ 891 -878 1019 -587 \nQ 1147 -297 1147 25 \nL 1147 103 \nQ 1044 0 891 0 \nQ 744 0 641 103 \nQ 538 206 538 353 \nQ 538 503 641 603 \nQ 744 703 891 703 \nQ 1119 703 1216 492 \nQ 1313 281 1313 25 \nQ 1313 -331 1170 -651 \nQ 1028 -972 769 -1228 \nQ 744 -1241 728 -1241 \nQ 697 -1241 665 -1212 \nQ 634 -1184 634 -1153 \nz\n\" transform=\"scale(0.015625)\"/>\n       <path id=\"Cmmi10-61\" d=\"M 1113 -72 \nQ 709 -72 476 233 \nQ 244 538 244 953 \nQ 244 1363 456 1803 \nQ 669 2244 1030 2536 \nQ 1391 2828 1806 2828 \nQ 1997 2828 2147 2725 \nQ 2297 2622 2381 2444 \nQ 2453 2700 2663 2700 \nQ 2744 2700 2798 2651 \nQ 2853 2603 2853 2522 \nQ 2853 2503 2851 2493 \nQ 2850 2484 2847 2472 \nL 2400 684 \nQ 2356 494 2356 372 \nQ 2356 97 2541 97 \nQ 2741 97 2845 351 \nQ 2950 606 3022 941 \nQ 3034 978 3072 978 \nL 3150 978 \nQ 3175 978 3190 956 \nQ 3206 934 3206 916 \nQ 3094 469 2961 198 \nQ 2828 -72 2528 -72 \nQ 2313 -72 2147 54 \nQ 1981 181 1941 391 \nQ 1528 -72 1113 -72 \nz\nM 1119 97 \nQ 1350 97 1567 270 \nQ 1784 444 1941 678 \nQ 1947 684 1947 697 \nL 2291 2088 \nL 2297 2106 \nQ 2259 2334 2132 2498 \nQ 2006 2663 1791 2663 \nQ 1575 2663 1389 2486 \nQ 1203 2309 1075 2069 \nQ 950 1813 836 1366 \nQ 722 919 722 672 \nQ 722 450 817 273 \nQ 913 97 1119 97 \nz\n\" transform=\"scale(0.015625)\"/>\n       <path id=\"Cmr10-29\" d=\"M 416 -1600 \nQ 359 -1600 359 -1544 \nQ 359 -1516 372 -1503 \nQ 1466 -434 1466 1600 \nQ 1466 3634 384 4691 \nQ 359 4706 359 4744 \nQ 359 4766 376 4783 \nQ 394 4800 416 4800 \nL 475 4800 \nQ 494 4800 506 4788 \nQ 966 4425 1272 3906 \nQ 1578 3388 1720 2800 \nQ 1863 2213 1863 1600 \nQ 1863 1147 1786 708 \nQ 1709 269 1542 -157 \nQ 1375 -584 1119 -945 \nQ 863 -1306 506 -1588 \nQ 494 -1600 475 -1600 \nL 416 -1600 \nz\n\" transform=\"scale(0.015625)\"/>\n       <path id=\"Cmr10-3d\" d=\"M 481 850 \nQ 428 850 393 890 \nQ 359 931 359 978 \nQ 359 1031 393 1068 \nQ 428 1106 481 1106 \nL 4500 1106 \nQ 4547 1106 4581 1068 \nQ 4616 1031 4616 978 \nQ 4616 931 4581 890 \nQ 4547 850 4500 850 \nL 481 850 \nz\nM 481 2094 \nQ 428 2094 393 2131 \nQ 359 2169 359 2222 \nQ 359 2269 393 2309 \nQ 428 2350 481 2350 \nL 4500 2350 \nQ 4547 2350 4581 2309 \nQ 4616 2269 4616 2222 \nQ 4616 2169 4581 2131 \nQ 4547 2094 4500 2094 \nL 481 2094 \nz\n\" transform=\"scale(0.015625)\"/>\n      </defs>\n      <use xlink:href=\"#Cmr10-28\"/>\n      <use xlink:href=\"#Cmmi10-73\" transform=\"translate(38.818359 0)\"/>\n      <use xlink:href=\"#Cmmi10-3b\" transform=\"translate(85.595703 0)\"/>\n      <use xlink:href=\"#Cmmi10-61\" transform=\"translate(130.839844 0)\"/>\n      <use xlink:href=\"#Cmr10-29\" transform=\"translate(183.623047 0)\"/>\n      <use xlink:href=\"#Cmr10-3d\" transform=\"translate(240 0)\"/>\n     </g>\n    </g>\n   </g>\n   <g id=\"matplotlib.axis_2\">\n    <g id=\"ytick_1\">\n     <g id=\"line2d_5\"/>\n     <g id=\"text_6\">\n      <!-- $s'=0$ -->\n      <g transform=\"translate(7.2 36.871687) scale(0.1 -0.1)\">\n       <defs>\n        <path id=\"Cmsy10-30\" d=\"M 225 347 \nQ 184 359 184 409 \nL 966 3316 \nQ 1003 3434 1093 3506 \nQ 1184 3578 1300 3578 \nQ 1450 3578 1564 3479 \nQ 1678 3381 1678 3231 \nQ 1678 3166 1644 3084 \nL 488 319 \nQ 466 275 428 275 \nQ 394 275 320 306 \nQ 247 338 225 347 \nz\n\" transform=\"scale(0.015625)\"/>\n        <path id=\"Cmr10-30\" d=\"M 1600 -141 \nQ 816 -141 533 504 \nQ 250 1150 250 2041 \nQ 250 2597 351 3087 \nQ 453 3578 754 3920 \nQ 1056 4263 1600 4263 \nQ 2022 4263 2290 4056 \nQ 2559 3850 2700 3523 \nQ 2841 3197 2892 2823 \nQ 2944 2450 2944 2041 \nQ 2944 1491 2842 1011 \nQ 2741 531 2444 195 \nQ 2147 -141 1600 -141 \nz\nM 1600 25 \nQ 1956 25 2131 390 \nQ 2306 756 2347 1200 \nQ 2388 1644 2388 2144 \nQ 2388 2625 2347 3031 \nQ 2306 3438 2132 3767 \nQ 1959 4097 1600 4097 \nQ 1238 4097 1063 3765 \nQ 888 3434 847 3029 \nQ 806 2625 806 2144 \nQ 806 1788 823 1472 \nQ 841 1156 916 820 \nQ 991 484 1158 254 \nQ 1325 25 1600 25 \nz\n\" transform=\"scale(0.015625)\"/>\n       </defs>\n       <use xlink:href=\"#Cmmi10-73\" transform=\"translate(0 0.601562)\"/>\n       <use xlink:href=\"#Cmsy10-30\" transform=\"translate(53.080625 38.865625) scale(0.7)\"/>\n       <use xlink:href=\"#Cmr10-3d\" transform=\"translate(96.259727 0.601562)\"/>\n       <use xlink:href=\"#Cmr10-30\" transform=\"translate(191.503867 0.601562)\"/>\n      </g>\n     </g>\n    </g>\n    <g id=\"ytick_2\">\n     <g id=\"line2d_6\"/>\n     <g id=\"text_7\">\n      <!-- $s'=1$ -->\n      <g transform=\"translate(7.2 64.771687) scale(0.1 -0.1)\">\n       <defs>\n        <path id=\"Cmr10-31\" d=\"M 594 0 \nL 594 225 \nQ 1394 225 1394 428 \nL 1394 3788 \nQ 1063 3628 556 3628 \nL 556 3853 \nQ 1341 3853 1741 4263 \nL 1831 4263 \nQ 1853 4263 1873 4245 \nQ 1894 4228 1894 4206 \nL 1894 428 \nQ 1894 225 2694 225 \nL 2694 0 \nL 594 0 \nz\n\" transform=\"scale(0.015625)\"/>\n       </defs>\n       <use xlink:href=\"#Cmmi10-73\" transform=\"translate(0 0.601562)\"/>\n       <use xlink:href=\"#Cmsy10-30\" transform=\"translate(53.080625 38.865625) scale(0.7)\"/>\n       <use xlink:href=\"#Cmr10-3d\" transform=\"translate(96.259727 0.601562)\"/>\n       <use xlink:href=\"#Cmr10-31\" transform=\"translate(191.503867 0.601562)\"/>\n      </g>\n     </g>\n    </g>\n   </g>\n   <g id=\"text_8\">\n    <!-- 0.0 -->\n    <g style=\"fill: #262626\" transform=\"translate(42.6 36.871687) scale(0.1 -0.1)\">\n     <defs>\n      <path id=\"STIXGeneral-Regular-2e\" d=\"M 1158 275 \nQ 1158 134 1052 32 \nQ 947 -70 800 -70 \nQ 653 -70 550 32 \nQ 448 134 448 281 \nQ 448 429 553 534 \nQ 659 640 806 640 \nQ 947 640 1052 531 \nQ 1158 422 1158 275 \nz\n\" transform=\"scale(0.015625)\"/>\n     </defs>\n     <use xlink:href=\"#STIXGeneral-Regular-30\"/>\n     <use xlink:href=\"#STIXGeneral-Regular-2e\" transform=\"translate(49.999985 0)\"/>\n     <use xlink:href=\"#STIXGeneral-Regular-30\" transform=\"translate(74.999969 0)\"/>\n    </g>\n   </g>\n   <g id=\"text_9\">\n    <!-- 1.0 -->\n    <g style=\"fill: #ffffff\" transform=\"translate(126.3 36.871687) scale(0.1 -0.1)\">\n     <use xlink:href=\"#STIXGeneral-Regular-31\"/>\n     <use xlink:href=\"#STIXGeneral-Regular-2e\" transform=\"translate(49.999985 0)\"/>\n     <use xlink:href=\"#STIXGeneral-Regular-30\" transform=\"translate(74.999969 0)\"/>\n    </g>\n   </g>\n   <g id=\"text_10\">\n    <!-- 1.0 -->\n    <g style=\"fill: #ffffff\" transform=\"translate(42.6 64.771687) scale(0.1 -0.1)\">\n     <use xlink:href=\"#STIXGeneral-Regular-31\"/>\n     <use xlink:href=\"#STIXGeneral-Regular-2e\" transform=\"translate(49.999985 0)\"/>\n     <use xlink:href=\"#STIXGeneral-Regular-30\" transform=\"translate(74.999969 0)\"/>\n    </g>\n   </g>\n   <g id=\"text_11\">\n    <!-- 0.0 -->\n    <g style=\"fill: #262626\" transform=\"translate(126.3 64.771687) scale(0.1 -0.1)\">\n     <use xlink:href=\"#STIXGeneral-Regular-30\"/>\n     <use xlink:href=\"#STIXGeneral-Regular-2e\" transform=\"translate(49.999985 0)\"/>\n     <use xlink:href=\"#STIXGeneral-Regular-30\" transform=\"translate(74.999969 0)\"/>\n    </g>\n   </g>\n  </g>\n </g>\n <defs>\n  <clipPath id=\"pdfd7048a3a\">\n   <rect x=\"34.9\" y=\"20.592\" width=\"111.6\" height=\"55.8\"/>\n  </clipPath>\n </defs>\n</svg>\n"
          },
          "metadata": {}
        }
      ]
    },
    {
      "cell_type": "code",
      "source": [
        "P_sas = np.array([[np.nan, np.nan], [0.0, 1.0], [1.0, 0.0], [np.nan, np.nan]])\n",
        "sa = [(0,0), (0,1), (1,0), (1,1)]\n",
        "s_ = [0, 1]\n",
        "\n",
        "df_P_sas = pd.DataFrame(P_sas, columns=s_, index=sa)\n",
        "\n",
        "fig, ax = plt.subplots(figsize=(2, 3.5))\n",
        "sns.heatmap(\n",
        "    df_P_sas.T, ax=ax, annot=True, square=True,\n",
        "    cmap='Reds', fmt='.1f', vmin=0, vmax=1, cbar=False,\n",
        "    linewidths=0.5, linecolor='black', yticklabels=[\"$s'=0$\", \"$s'=1$\"],\n",
        ")\n",
        "\n",
        "ax.tick_params(top=True, bottom=False, labeltop=True, labelbottom=False)\n",
        "plt.tick_params(axis='x', which='both', length=0)\n",
        "plt.tick_params(axis='y', which='both', length=0, rotation=0)\n",
        "plt.xlabel('$(s,a) = $')\n",
        "# ax.xaxis.set_label_position('top')\n",
        "ax.xaxis.set_label_coords(-0.15, 1.24)\n",
        "# plt.ylabel(\"$s'$\", rotation=0)\n",
        "\n",
        "plt.savefig('toy_problem_transition_shifted.pdf', bbox_inches='tight')\n",
        "plt.show()"
      ],
      "metadata": {
        "colab": {
          "base_uri": "https://localhost:8080/",
          "height": 132
        },
        "id": "jrew-XsK78O-",
        "outputId": "2cbf64f6-87c6-4e9d-8906-67e3b7ab9e83"
      },
      "execution_count": null,
      "outputs": [
        {
          "output_type": "display_data",
          "data": {
            "text/plain": [
              "<Figure size 200x350 with 1 Axes>"
            ],
            "image/svg+xml": "<?xml version=\"1.0\" encoding=\"utf-8\" standalone=\"no\"?>\n<!DOCTYPE svg PUBLIC \"-//W3C//DTD SVG 1.1//EN\"\n  \"http://www.w3.org/Graphics/SVG/1.1/DTD/svg11.dtd\">\n<svg xmlns:xlink=\"http://www.w3.org/1999/xlink\" width=\"153.7pt\" height=\"83.592pt\" viewBox=\"0 0 153.7 83.592\" xmlns=\"http://www.w3.org/2000/svg\" version=\"1.1\">\n <metadata>\n  <rdf:RDF xmlns:dc=\"http://purl.org/dc/elements/1.1/\" xmlns:cc=\"http://creativecommons.org/ns#\" xmlns:rdf=\"http://www.w3.org/1999/02/22-rdf-syntax-ns#\">\n   <cc:Work>\n    <dc:type rdf:resource=\"http://purl.org/dc/dcmitype/StillImage\"/>\n    <dc:date>2025-05-14T23:37:44.209827</dc:date>\n    <dc:format>image/svg+xml</dc:format>\n    <dc:creator>\n     <cc:Agent>\n      <dc:title>Matplotlib v3.10.0, https://matplotlib.org/</dc:title>\n     </cc:Agent>\n    </dc:creator>\n   </cc:Work>\n  </rdf:RDF>\n </metadata>\n <defs>\n  <style type=\"text/css\">*{stroke-linejoin: round; stroke-linecap: butt}</style>\n </defs>\n <g id=\"figure_1\">\n  <g id=\"patch_1\">\n   <path d=\"M 0 83.592 \nL 153.7 83.592 \nL 153.7 0 \nL 0 0 \nz\n\" style=\"fill: #ffffff\"/>\n  </g>\n  <g id=\"axes_1\">\n   <g id=\"patch_2\">\n    <path d=\"M 34.9 76.392 \nL 146.5 76.392 \nL 146.5 20.592 \nL 34.9 20.592 \nz\n\" style=\"fill: #ffffff\"/>\n   </g>\n   <g id=\"QuadMesh_1\">\n    <path d=\"M 34.9 20.592 \nL 62.8 20.592 \nL 62.8 48.492 \nL 34.9 48.492 \nL 34.9 20.592 \n\" clip-path=\"url(#pf398646d77)\" style=\"fill: none; stroke: #000000; stroke-width: 0.5\"/>\n    <path d=\"M 62.8 20.592 \nL 90.7 20.592 \nL 90.7 48.492 \nL 62.8 48.492 \nL 62.8 20.592 \n\" clip-path=\"url(#pf398646d77)\" style=\"fill: #fff5f0; stroke: #000000; stroke-width: 0.5\"/>\n    <path d=\"M 90.7 20.592 \nL 118.6 20.592 \nL 118.6 48.492 \nL 90.7 48.492 \nL 90.7 20.592 \n\" clip-path=\"url(#pf398646d77)\" style=\"fill: #67000d; stroke: #000000; stroke-width: 0.5\"/>\n    <path d=\"M 118.6 20.592 \nL 146.5 20.592 \nL 146.5 48.492 \nL 118.6 48.492 \nL 118.6 20.592 \n\" clip-path=\"url(#pf398646d77)\" style=\"fill: none; stroke: #000000; stroke-width: 0.5\"/>\n    <path d=\"M 34.9 48.492 \nL 62.8 48.492 \nL 62.8 76.392 \nL 34.9 76.392 \nL 34.9 48.492 \n\" clip-path=\"url(#pf398646d77)\" style=\"fill: none; stroke: #000000; stroke-width: 0.5\"/>\n    <path d=\"M 62.8 48.492 \nL 90.7 48.492 \nL 90.7 76.392 \nL 62.8 76.392 \nL 62.8 48.492 \n\" clip-path=\"url(#pf398646d77)\" style=\"fill: #67000d; stroke: #000000; stroke-width: 0.5\"/>\n    <path d=\"M 90.7 48.492 \nL 118.6 48.492 \nL 118.6 76.392 \nL 90.7 76.392 \nL 90.7 48.492 \n\" clip-path=\"url(#pf398646d77)\" style=\"fill: #fff5f0; stroke: #000000; stroke-width: 0.5\"/>\n    <path d=\"M 118.6 48.492 \nL 146.5 48.492 \nL 146.5 76.392 \nL 118.6 76.392 \nL 118.6 48.492 \n\" clip-path=\"url(#pf398646d77)\" style=\"fill: none; stroke: #000000; stroke-width: 0.5\"/>\n   </g>\n   <g id=\"matplotlib.axis_1\">\n    <g id=\"xtick_1\">\n     <g id=\"line2d_1\"/>\n     <g id=\"text_1\">\n      <!-- (0, 0) -->\n      <g transform=\"translate(38.020313 14.921687) scale(0.1 -0.1)\">\n       <defs>\n        <path id=\"STIXGeneral-Regular-28\" d=\"M 1946 -1030 \nL 1869 -1133 \nQ 1126 -710 716 32 \nQ 307 774 307 1613 \nQ 307 3386 1888 4326 \nL 1946 4224 \nQ 1293 3667 1075 3126 \nQ 858 2586 858 1632 \nQ 858 685 1082 96 \nQ 1306 -493 1946 -1030 \nz\n\" transform=\"scale(0.015625)\"/>\n        <path id=\"STIXGeneral-Regular-30\" d=\"M 3046 2112 \nQ 3046 1683 2963 1302 \nQ 2880 922 2717 602 \nQ 2554 282 2266 96 \nQ 1978 -90 1600 -90 \nQ 1210 -90 915 108 \nQ 621 307 461 640 \nQ 301 973 227 1350 \nQ 154 1728 154 2150 \nQ 154 2746 301 3222 \nQ 448 3699 790 4012 \nQ 1133 4326 1626 4326 \nQ 2253 4326 2649 3712 \nQ 3046 3098 3046 2112 \nz\nM 2432 2080 \nQ 2432 3091 2217 3625 \nQ 2003 4160 1587 4160 \nQ 1190 4160 979 3622 \nQ 768 3085 768 2106 \nQ 768 1120 979 598 \nQ 1190 77 1600 77 \nQ 2003 77 2217 598 \nQ 2432 1120 2432 2080 \nz\n\" transform=\"scale(0.015625)\"/>\n        <path id=\"STIXGeneral-Regular-2c\" d=\"M 531 -902 \nL 467 -781 \nQ 998 -422 998 -96 \nQ 998 -13 909 -13 \nQ 883 -13 822 -25 \nQ 762 -38 723 -38 \nQ 352 -38 352 288 \nQ 352 454 457 553 \nQ 563 653 736 653 \nQ 954 653 1101 496 \nQ 1248 339 1248 96 \nQ 1248 -198 1053 -473 \nQ 858 -749 531 -902 \nz\n\" transform=\"scale(0.015625)\"/>\n        <path id=\"STIXGeneral-Regular-20\" transform=\"scale(0.015625)\"/>\n        <path id=\"STIXGeneral-Regular-29\" d=\"M 186 4224 \nL 262 4326 \nQ 992 3891 1408 3148 \nQ 1824 2406 1824 1581 \nQ 1824 -166 243 -1133 \nL 186 -1030 \nQ 845 -486 1059 54 \nQ 1274 595 1274 1562 \nQ 1274 2534 1059 3120 \nQ 845 3706 186 4224 \nz\n\" transform=\"scale(0.015625)\"/>\n       </defs>\n       <use xlink:href=\"#STIXGeneral-Regular-28\"/>\n       <use xlink:href=\"#STIXGeneral-Regular-30\" transform=\"translate(33.299988 0)\"/>\n       <use xlink:href=\"#STIXGeneral-Regular-2c\" transform=\"translate(83.299973 0)\"/>\n       <use xlink:href=\"#STIXGeneral-Regular-20\" transform=\"translate(108.299957 0)\"/>\n       <use xlink:href=\"#STIXGeneral-Regular-30\" transform=\"translate(133.299942 0)\"/>\n       <use xlink:href=\"#STIXGeneral-Regular-29\" transform=\"translate(183.299927 0)\"/>\n      </g>\n     </g>\n    </g>\n    <g id=\"xtick_2\">\n     <g id=\"line2d_2\"/>\n     <g id=\"text_2\">\n      <!-- (0, 1) -->\n      <g transform=\"translate(65.920312 14.921687) scale(0.1 -0.1)\">\n       <defs>\n        <path id=\"STIXGeneral-Regular-31\" d=\"M 2522 0 \nL 755 0 \nL 755 96 \nQ 1107 115 1235 227 \nQ 1363 339 1363 608 \nL 1363 3482 \nQ 1363 3795 1171 3795 \nQ 1082 3795 883 3718 \nL 710 3654 \nL 710 3744 \nL 1856 4326 \nL 1914 4307 \nL 1914 486 \nQ 1914 275 2042 185 \nQ 2170 96 2522 96 \nL 2522 0 \nz\n\" transform=\"scale(0.015625)\"/>\n       </defs>\n       <use xlink:href=\"#STIXGeneral-Regular-28\"/>\n       <use xlink:href=\"#STIXGeneral-Regular-30\" transform=\"translate(33.299988 0)\"/>\n       <use xlink:href=\"#STIXGeneral-Regular-2c\" transform=\"translate(83.299973 0)\"/>\n       <use xlink:href=\"#STIXGeneral-Regular-20\" transform=\"translate(108.299957 0)\"/>\n       <use xlink:href=\"#STIXGeneral-Regular-31\" transform=\"translate(133.299942 0)\"/>\n       <use xlink:href=\"#STIXGeneral-Regular-29\" transform=\"translate(183.299927 0)\"/>\n      </g>\n     </g>\n    </g>\n    <g id=\"xtick_3\">\n     <g id=\"line2d_3\"/>\n     <g id=\"text_3\">\n      <!-- (1, 0) -->\n      <g transform=\"translate(93.820312 14.921687) scale(0.1 -0.1)\">\n       <use xlink:href=\"#STIXGeneral-Regular-28\"/>\n       <use xlink:href=\"#STIXGeneral-Regular-31\" transform=\"translate(33.299988 0)\"/>\n       <use xlink:href=\"#STIXGeneral-Regular-2c\" transform=\"translate(83.299973 0)\"/>\n       <use xlink:href=\"#STIXGeneral-Regular-20\" transform=\"translate(108.299957 0)\"/>\n       <use xlink:href=\"#STIXGeneral-Regular-30\" transform=\"translate(133.299942 0)\"/>\n       <use xlink:href=\"#STIXGeneral-Regular-29\" transform=\"translate(183.299927 0)\"/>\n      </g>\n     </g>\n    </g>\n    <g id=\"xtick_4\">\n     <g id=\"line2d_4\"/>\n     <g id=\"text_4\">\n      <!-- (1, 1) -->\n      <g transform=\"translate(121.720313 14.921687) scale(0.1 -0.1)\">\n       <use xlink:href=\"#STIXGeneral-Regular-28\"/>\n       <use xlink:href=\"#STIXGeneral-Regular-31\" transform=\"translate(33.299988 0)\"/>\n       <use xlink:href=\"#STIXGeneral-Regular-2c\" transform=\"translate(83.299973 0)\"/>\n       <use xlink:href=\"#STIXGeneral-Regular-20\" transform=\"translate(108.299957 0)\"/>\n       <use xlink:href=\"#STIXGeneral-Regular-31\" transform=\"translate(133.299942 0)\"/>\n       <use xlink:href=\"#STIXGeneral-Regular-29\" transform=\"translate(183.299927 0)\"/>\n      </g>\n     </g>\n    </g>\n    <g id=\"text_5\">\n     <!-- $(s,a) = $ -->\n     <g transform=\"translate(1.36 14.7) scale(0.1 -0.1)\">\n      <defs>\n       <path id=\"Cmr10-28\" d=\"M 1984 -1588 \nQ 1628 -1306 1370 -942 \nQ 1113 -578 948 -165 \nQ 784 247 703 697 \nQ 622 1147 622 1600 \nQ 622 2059 703 2509 \nQ 784 2959 951 3375 \nQ 1119 3791 1378 4153 \nQ 1638 4516 1984 4788 \nQ 1984 4800 2016 4800 \nL 2075 4800 \nQ 2094 4800 2109 4783 \nQ 2125 4766 2125 4744 \nQ 2125 4716 2113 4703 \nQ 1800 4397 1592 4047 \nQ 1384 3697 1257 3301 \nQ 1131 2906 1075 2482 \nQ 1019 2059 1019 1600 \nQ 1019 -434 2106 -1491 \nQ 2125 -1509 2125 -1544 \nQ 2125 -1559 2108 -1579 \nQ 2091 -1600 2075 -1600 \nL 2016 -1600 \nQ 1984 -1600 1984 -1588 \nz\n\" transform=\"scale(0.015625)\"/>\n       <path id=\"Cmmi10-73\" d=\"M 556 391 \nQ 728 97 1247 97 \nQ 1472 97 1675 173 \nQ 1878 250 2011 403 \nQ 2144 556 2144 775 \nQ 2144 941 2025 1047 \nQ 1906 1153 1734 1191 \nL 1388 1259 \nQ 1150 1319 997 1481 \nQ 844 1644 844 1875 \nQ 844 2159 998 2378 \nQ 1153 2597 1406 2712 \nQ 1659 2828 1931 2828 \nQ 2222 2828 2451 2689 \nQ 2681 2550 2681 2278 \nQ 2681 2131 2598 2018 \nQ 2516 1906 2369 1906 \nQ 2284 1906 2223 1961 \nQ 2163 2016 2163 2100 \nQ 2163 2175 2205 2245 \nQ 2247 2316 2317 2358 \nQ 2388 2400 2463 2400 \nQ 2406 2538 2251 2600 \nQ 2097 2663 1919 2663 \nQ 1756 2663 1593 2597 \nQ 1431 2531 1332 2404 \nQ 1234 2278 1234 2106 \nQ 1234 1991 1315 1903 \nQ 1397 1816 1516 1778 \nL 1888 1703 \nQ 2066 1666 2214 1570 \nQ 2363 1475 2448 1329 \nQ 2534 1184 2534 997 \nQ 2534 759 2401 528 \nQ 2269 297 2075 159 \nQ 1734 -72 1241 -72 \nQ 900 -72 615 84 \nQ 331 241 331 550 \nQ 331 725 432 854 \nQ 534 984 709 984 \nQ 813 984 883 921 \nQ 953 859 953 756 \nQ 953 609 843 500 \nQ 734 391 588 391 \nL 556 391 \nz\n\" transform=\"scale(0.015625)\"/>\n       <path id=\"Cmmi10-3b\" d=\"M 634 -1153 \nQ 634 -1125 659 -1100 \nQ 891 -878 1019 -587 \nQ 1147 -297 1147 25 \nL 1147 103 \nQ 1044 0 891 0 \nQ 744 0 641 103 \nQ 538 206 538 353 \nQ 538 503 641 603 \nQ 744 703 891 703 \nQ 1119 703 1216 492 \nQ 1313 281 1313 25 \nQ 1313 -331 1170 -651 \nQ 1028 -972 769 -1228 \nQ 744 -1241 728 -1241 \nQ 697 -1241 665 -1212 \nQ 634 -1184 634 -1153 \nz\n\" transform=\"scale(0.015625)\"/>\n       <path id=\"Cmmi10-61\" d=\"M 1113 -72 \nQ 709 -72 476 233 \nQ 244 538 244 953 \nQ 244 1363 456 1803 \nQ 669 2244 1030 2536 \nQ 1391 2828 1806 2828 \nQ 1997 2828 2147 2725 \nQ 2297 2622 2381 2444 \nQ 2453 2700 2663 2700 \nQ 2744 2700 2798 2651 \nQ 2853 2603 2853 2522 \nQ 2853 2503 2851 2493 \nQ 2850 2484 2847 2472 \nL 2400 684 \nQ 2356 494 2356 372 \nQ 2356 97 2541 97 \nQ 2741 97 2845 351 \nQ 2950 606 3022 941 \nQ 3034 978 3072 978 \nL 3150 978 \nQ 3175 978 3190 956 \nQ 3206 934 3206 916 \nQ 3094 469 2961 198 \nQ 2828 -72 2528 -72 \nQ 2313 -72 2147 54 \nQ 1981 181 1941 391 \nQ 1528 -72 1113 -72 \nz\nM 1119 97 \nQ 1350 97 1567 270 \nQ 1784 444 1941 678 \nQ 1947 684 1947 697 \nL 2291 2088 \nL 2297 2106 \nQ 2259 2334 2132 2498 \nQ 2006 2663 1791 2663 \nQ 1575 2663 1389 2486 \nQ 1203 2309 1075 2069 \nQ 950 1813 836 1366 \nQ 722 919 722 672 \nQ 722 450 817 273 \nQ 913 97 1119 97 \nz\n\" transform=\"scale(0.015625)\"/>\n       <path id=\"Cmr10-29\" d=\"M 416 -1600 \nQ 359 -1600 359 -1544 \nQ 359 -1516 372 -1503 \nQ 1466 -434 1466 1600 \nQ 1466 3634 384 4691 \nQ 359 4706 359 4744 \nQ 359 4766 376 4783 \nQ 394 4800 416 4800 \nL 475 4800 \nQ 494 4800 506 4788 \nQ 966 4425 1272 3906 \nQ 1578 3388 1720 2800 \nQ 1863 2213 1863 1600 \nQ 1863 1147 1786 708 \nQ 1709 269 1542 -157 \nQ 1375 -584 1119 -945 \nQ 863 -1306 506 -1588 \nQ 494 -1600 475 -1600 \nL 416 -1600 \nz\n\" transform=\"scale(0.015625)\"/>\n       <path id=\"Cmr10-3d\" d=\"M 481 850 \nQ 428 850 393 890 \nQ 359 931 359 978 \nQ 359 1031 393 1068 \nQ 428 1106 481 1106 \nL 4500 1106 \nQ 4547 1106 4581 1068 \nQ 4616 1031 4616 978 \nQ 4616 931 4581 890 \nQ 4547 850 4500 850 \nL 481 850 \nz\nM 481 2094 \nQ 428 2094 393 2131 \nQ 359 2169 359 2222 \nQ 359 2269 393 2309 \nQ 428 2350 481 2350 \nL 4500 2350 \nQ 4547 2350 4581 2309 \nQ 4616 2269 4616 2222 \nQ 4616 2169 4581 2131 \nQ 4547 2094 4500 2094 \nL 481 2094 \nz\n\" transform=\"scale(0.015625)\"/>\n      </defs>\n      <use xlink:href=\"#Cmr10-28\"/>\n      <use xlink:href=\"#Cmmi10-73\" transform=\"translate(38.818359 0)\"/>\n      <use xlink:href=\"#Cmmi10-3b\" transform=\"translate(85.595703 0)\"/>\n      <use xlink:href=\"#Cmmi10-61\" transform=\"translate(130.839844 0)\"/>\n      <use xlink:href=\"#Cmr10-29\" transform=\"translate(183.623047 0)\"/>\n      <use xlink:href=\"#Cmr10-3d\" transform=\"translate(240 0)\"/>\n     </g>\n    </g>\n   </g>\n   <g id=\"matplotlib.axis_2\">\n    <g id=\"ytick_1\">\n     <g id=\"line2d_5\"/>\n     <g id=\"text_6\">\n      <!-- $s'=0$ -->\n      <g transform=\"translate(7.2 36.871687) scale(0.1 -0.1)\">\n       <defs>\n        <path id=\"Cmsy10-30\" d=\"M 225 347 \nQ 184 359 184 409 \nL 966 3316 \nQ 1003 3434 1093 3506 \nQ 1184 3578 1300 3578 \nQ 1450 3578 1564 3479 \nQ 1678 3381 1678 3231 \nQ 1678 3166 1644 3084 \nL 488 319 \nQ 466 275 428 275 \nQ 394 275 320 306 \nQ 247 338 225 347 \nz\n\" transform=\"scale(0.015625)\"/>\n        <path id=\"Cmr10-30\" d=\"M 1600 -141 \nQ 816 -141 533 504 \nQ 250 1150 250 2041 \nQ 250 2597 351 3087 \nQ 453 3578 754 3920 \nQ 1056 4263 1600 4263 \nQ 2022 4263 2290 4056 \nQ 2559 3850 2700 3523 \nQ 2841 3197 2892 2823 \nQ 2944 2450 2944 2041 \nQ 2944 1491 2842 1011 \nQ 2741 531 2444 195 \nQ 2147 -141 1600 -141 \nz\nM 1600 25 \nQ 1956 25 2131 390 \nQ 2306 756 2347 1200 \nQ 2388 1644 2388 2144 \nQ 2388 2625 2347 3031 \nQ 2306 3438 2132 3767 \nQ 1959 4097 1600 4097 \nQ 1238 4097 1063 3765 \nQ 888 3434 847 3029 \nQ 806 2625 806 2144 \nQ 806 1788 823 1472 \nQ 841 1156 916 820 \nQ 991 484 1158 254 \nQ 1325 25 1600 25 \nz\n\" transform=\"scale(0.015625)\"/>\n       </defs>\n       <use xlink:href=\"#Cmmi10-73\" transform=\"translate(0 0.601562)\"/>\n       <use xlink:href=\"#Cmsy10-30\" transform=\"translate(53.080625 38.865625) scale(0.7)\"/>\n       <use xlink:href=\"#Cmr10-3d\" transform=\"translate(96.259727 0.601562)\"/>\n       <use xlink:href=\"#Cmr10-30\" transform=\"translate(191.503867 0.601562)\"/>\n      </g>\n     </g>\n    </g>\n    <g id=\"ytick_2\">\n     <g id=\"line2d_6\"/>\n     <g id=\"text_7\">\n      <!-- $s'=1$ -->\n      <g transform=\"translate(7.2 64.771687) scale(0.1 -0.1)\">\n       <defs>\n        <path id=\"Cmr10-31\" d=\"M 594 0 \nL 594 225 \nQ 1394 225 1394 428 \nL 1394 3788 \nQ 1063 3628 556 3628 \nL 556 3853 \nQ 1341 3853 1741 4263 \nL 1831 4263 \nQ 1853 4263 1873 4245 \nQ 1894 4228 1894 4206 \nL 1894 428 \nQ 1894 225 2694 225 \nL 2694 0 \nL 594 0 \nz\n\" transform=\"scale(0.015625)\"/>\n       </defs>\n       <use xlink:href=\"#Cmmi10-73\" transform=\"translate(0 0.601562)\"/>\n       <use xlink:href=\"#Cmsy10-30\" transform=\"translate(53.080625 38.865625) scale(0.7)\"/>\n       <use xlink:href=\"#Cmr10-3d\" transform=\"translate(96.259727 0.601562)\"/>\n       <use xlink:href=\"#Cmr10-31\" transform=\"translate(191.503867 0.601562)\"/>\n      </g>\n     </g>\n    </g>\n   </g>\n   <g id=\"text_8\">\n    <!-- 0.0 -->\n    <g style=\"fill: #262626\" transform=\"translate(70.5 36.871687) scale(0.1 -0.1)\">\n     <defs>\n      <path id=\"STIXGeneral-Regular-2e\" d=\"M 1158 275 \nQ 1158 134 1052 32 \nQ 947 -70 800 -70 \nQ 653 -70 550 32 \nQ 448 134 448 281 \nQ 448 429 553 534 \nQ 659 640 806 640 \nQ 947 640 1052 531 \nQ 1158 422 1158 275 \nz\n\" transform=\"scale(0.015625)\"/>\n     </defs>\n     <use xlink:href=\"#STIXGeneral-Regular-30\"/>\n     <use xlink:href=\"#STIXGeneral-Regular-2e\" transform=\"translate(49.999985 0)\"/>\n     <use xlink:href=\"#STIXGeneral-Regular-30\" transform=\"translate(74.999969 0)\"/>\n    </g>\n   </g>\n   <g id=\"text_9\">\n    <!-- 1.0 -->\n    <g style=\"fill: #ffffff\" transform=\"translate(98.4 36.871687) scale(0.1 -0.1)\">\n     <use xlink:href=\"#STIXGeneral-Regular-31\"/>\n     <use xlink:href=\"#STIXGeneral-Regular-2e\" transform=\"translate(49.999985 0)\"/>\n     <use xlink:href=\"#STIXGeneral-Regular-30\" transform=\"translate(74.999969 0)\"/>\n    </g>\n   </g>\n   <g id=\"text_10\">\n    <!-- 1.0 -->\n    <g style=\"fill: #ffffff\" transform=\"translate(70.5 64.771687) scale(0.1 -0.1)\">\n     <use xlink:href=\"#STIXGeneral-Regular-31\"/>\n     <use xlink:href=\"#STIXGeneral-Regular-2e\" transform=\"translate(49.999985 0)\"/>\n     <use xlink:href=\"#STIXGeneral-Regular-30\" transform=\"translate(74.999969 0)\"/>\n    </g>\n   </g>\n   <g id=\"text_11\">\n    <!-- 0.0 -->\n    <g style=\"fill: #262626\" transform=\"translate(98.4 64.771687) scale(0.1 -0.1)\">\n     <use xlink:href=\"#STIXGeneral-Regular-30\"/>\n     <use xlink:href=\"#STIXGeneral-Regular-2e\" transform=\"translate(49.999985 0)\"/>\n     <use xlink:href=\"#STIXGeneral-Regular-30\" transform=\"translate(74.999969 0)\"/>\n    </g>\n   </g>\n  </g>\n </g>\n <defs>\n  <clipPath id=\"pf398646d77\">\n   <rect x=\"34.9\" y=\"20.592\" width=\"111.6\" height=\"55.8\"/>\n  </clipPath>\n </defs>\n</svg>\n"
          },
          "metadata": {}
        }
      ]
    },
    {
      "cell_type": "markdown",
      "source": [
        "## Simulation Experiments"
      ],
      "metadata": {
        "id": "8reARlqB2sZB"
      }
    },
    {
      "cell_type": "code",
      "execution_count": null,
      "metadata": {
        "id": "Bqx2d0OsnUln"
      },
      "outputs": [],
      "source": [
        "import numpy as np\n",
        "from tqdm import tqdm\n",
        "\n",
        "import gymnasium as gym\n",
        "from gymnasium.envs.toy_text.utils import categorical_sample\n",
        "from gymnasium.wrappers import TimeLimit\n",
        "\n",
        "from collections import defaultdict\n",
        "from typing import List, Optional"
      ]
    },
    {
      "cell_type": "code",
      "source": [
        "nS, nA = 2, 2\n",
        "\n",
        "class ToyEnv(gym.Env):\n",
        "    def __init__(self, slip_prob=0.2):\n",
        "        super().__init__()\n",
        "        self.nS = nS\n",
        "        self.nA = nA\n",
        "\n",
        "        self.observation_space = gym.spaces.Discrete(nS)  # 0: low, 1: high\n",
        "        self.action_space = gym.spaces.Discrete(nA)       # 0: off, 1: on\n",
        "\n",
        "        # Uniform initial state distribution\n",
        "        self.isd = np.ones(nS) / nS\n",
        "\n",
        "        # Transitions\n",
        "        #   If slip, next state same as current state - should this be the opposite effect?\n",
        "        #   Otherwise\n",
        "        #     If action is off, next state is low\n",
        "        #     If action is on,  next state is high\n",
        "        # Rewards\n",
        "        #\n",
        "        self.P = {s: {a: [] for a in range(nA)} for s in range(nS)}\n",
        "        for s in range(nS):\n",
        "            for a in range(nA):\n",
        "                self.P[s][a].append((slip_prob, s, float(s), False))\n",
        "                if a == 0:  # off\n",
        "                    self.P[s][a].append((1-slip_prob, 0, 0.0, False))\n",
        "                elif a == 1:  # on\n",
        "                    self.P[s][a].append((1-slip_prob, 1, 1.0, False))\n",
        "\n",
        "        self.s = None\n",
        "        self.curr_action = None\n",
        "\n",
        "    def step(self, a):\n",
        "        transitions = self.P[self.s][a]\n",
        "        i = categorical_sample([t[0] for t in transitions], self.np_random)\n",
        "        p, s, r, done = transitions[i]\n",
        "        self.s = s\n",
        "        self.curr_action = a\n",
        "\n",
        "        # truncation=False as the time limit is handled by the `TimeLimit` wrapper added during `make`\n",
        "        return int(s), r, done, False, {\"prob\": p}\n",
        "\n",
        "    def reset(self, seed=None, options=None):\n",
        "        super().reset(seed=seed)\n",
        "        self.s = int(categorical_sample(self.isd, self.np_random))\n",
        "        self.curr_action = self.s  # assume last action is consistent with current state\n",
        "        return self.s, {\"prob\": 1}"
      ],
      "metadata": {
        "id": "Fthxu5E7nvUD"
      },
      "execution_count": null,
      "outputs": []
    },
    {
      "cell_type": "code",
      "source": [
        "def calculate_reward_function(episodes):\n",
        "    R_samples = defaultdict(list)\n",
        "    for ep in episodes:\n",
        "        for S, A, R, S_next in ep:\n",
        "            R_samples[S, A].append(R)\n",
        "\n",
        "    R = np.zeros((nS, nA))\n",
        "    for s in range(nS):\n",
        "        for a in range(nA):\n",
        "            R[s,a] = np.mean(R_samples[s,a])\n",
        "\n",
        "    return R\n",
        "\n",
        "def calculate_transition_function(episodes):\n",
        "    P = np.zeros((nS, nA, nS))\n",
        "    for ep in episodes:\n",
        "        for S, A, R, S_next in ep:\n",
        "            P[S, A, S_next] += 1\n",
        "\n",
        "    for s in range(nS):\n",
        "        for a in range(nA):\n",
        "            P[s, a, :] /= np.sum(P[s, a, :])\n",
        "\n",
        "    return P\n",
        "\n",
        "def value_iteration(P, R, gamma=0.9, theta=1e-10):\n",
        "    # VI algorithm\n",
        "    V = np.zeros(nS)\n",
        "    while True:\n",
        "        Q = np.zeros((nS, nA))\n",
        "        for s in range(nS):\n",
        "            for a in range(nA):\n",
        "                Q[s,a] = R[s,a] + gamma * np.sum(P[s,a,:] * V)\n",
        "\n",
        "        V_new = np.max(Q, axis=1)\n",
        "        delta = np.max(np.abs(V_new - V))\n",
        "        V = V_new\n",
        "        if delta < theta:\n",
        "            break\n",
        "\n",
        "    # Calculate final Q-values\n",
        "    Q = np.zeros((nS, nA))\n",
        "    for s in range(nS):\n",
        "        for a in range(nA):\n",
        "            Q[s,a] = R[s,a] + gamma * np.sum(P[s,a,:] * V)\n",
        "\n",
        "    # Final policy with tie-breaking\n",
        "    π = (Q == Q.max(axis=1, keepdims=True))\n",
        "    π = π / π.sum(axis=1, keepdims=True)\n",
        "\n",
        "    return V, Q, π\n",
        "\n",
        "def policy_evaluation(envP, π, gamma=0.9, theta=1e-10):\n",
        "    V = np.zeros(nS)\n",
        "    while True:\n",
        "        delta = 0\n",
        "        for s in range(nS):\n",
        "            v = 0\n",
        "            for a, a_prob in enumerate(π[s]):\n",
        "                for prob, next_state, reward, done in envP[s][a]:\n",
        "                    v += a_prob * prob * (reward + (1 - done) * gamma * V[next_state])\n",
        "\n",
        "            delta = max(delta, np.abs(v - V[s]))\n",
        "            V[s] = v\n",
        "        if delta < theta:\n",
        "            break\n",
        "    return V"
      ],
      "metadata": {
        "id": "gcsg9QL7ycXa"
      },
      "execution_count": null,
      "outputs": []
    },
    {
      "cell_type": "markdown",
      "source": [
        "## One Run - debug version"
      ],
      "metadata": {
        "id": "K2o2FBpiHE19"
      }
    },
    {
      "cell_type": "code",
      "source": [
        "env = TimeLimit(ToyEnv(slip_prob=0.2), max_episode_steps=100)\n",
        "\n",
        "rng = np.random.default_rng(seed=0)\n",
        "s, info = env.reset(seed=42)\n",
        "\n",
        "for _ in range(20):\n",
        "    a = categorical_sample(np.ones(nA)/nA, rng)\n",
        "    s, r, terminated, truncated, info = env.step(a)\n",
        "\n",
        "    if terminated or truncated:\n",
        "        observation, info = env.reset()\n",
        "        # print(\"Environment reset\")"
      ],
      "metadata": {
        "id": "KIQrOfqetRWN"
      },
      "execution_count": null,
      "outputs": []
    },
    {
      "cell_type": "code",
      "source": [
        "# behavior policy\n",
        "# prefer the action that would change the state\n",
        "π_b = np.array([[0.1, 0.9], [0.75, 0.25]])\n",
        "\n",
        "env = TimeLimit(\n",
        "    ToyEnv(slip_prob=0.2),\n",
        "    max_episode_steps=10,\n",
        ")\n",
        "\n",
        "num_episodes = 100\n",
        "episode_data = []\n",
        "rng = np.random.default_rng(seed=1000)\n",
        "\n",
        "for ep in tqdm(range(num_episodes)):\n",
        "    s, info = env.reset(seed=ep)\n",
        "    episode_steps = []\n",
        "\n",
        "    while True:\n",
        "        a_curr = env.env.curr_action\n",
        "        a = rng.choice(nA, p=π_b[s])\n",
        "        s_next, r, terminated, truncated, info = env.step(a)\n",
        "        episode_steps.append((a_curr, s, a, r, s_next))\n",
        "        s = s_next\n",
        "\n",
        "        if terminated or truncated:\n",
        "            break\n",
        "\n",
        "    episode_data.append(episode_steps)"
      ],
      "metadata": {
        "colab": {
          "base_uri": "https://localhost:8080/"
        },
        "id": "uJBF32ArtoDp",
        "outputId": "65ad501e-c6d9-4b8a-9989-b1c4cfcbad7a"
      },
      "execution_count": null,
      "outputs": [
        {
          "output_type": "stream",
          "name": "stderr",
          "text": [
            "100%|██████████| 100/100 [00:00<00:00, 1955.31it/s]\n"
          ]
        }
      ]
    },
    {
      "cell_type": "code",
      "source": [
        "episode_data[0]"
      ],
      "metadata": {
        "colab": {
          "base_uri": "https://localhost:8080/"
        },
        "collapsed": true,
        "id": "oVFvVg7WxENr",
        "outputId": "99edc4b3-a0a9-41dd-de9b-90e223207330"
      },
      "execution_count": null,
      "outputs": [
        {
          "output_type": "execute_result",
          "data": {
            "text/plain": [
              "[(1, 1, 0, 0.0, 0),\n",
              " (0, 0, 1, 0.0, 0),\n",
              " (1, 0, 1, 0.0, 0),\n",
              " (1, 0, 1, 1.0, 1),\n",
              " (1, 1, 0, 0.0, 0),\n",
              " (0, 0, 1, 1.0, 1),\n",
              " (1, 1, 0, 0.0, 0),\n",
              " (0, 0, 1, 1.0, 1),\n",
              " (1, 1, 0, 0.0, 0),\n",
              " (0, 0, 1, 1.0, 1)]"
            ]
          },
          "metadata": {},
          "execution_count": 95
        }
      ]
    },
    {
      "cell_type": "code",
      "source": [
        "episodes_orig = []\n",
        "for ep in episode_data:\n",
        "     episodes_orig.append([(s, a_curr, r, s_next) for a_curr, s, a, r, s_next in ep])\n",
        "\n",
        "episodes_shifted = []\n",
        "for ep in episode_data:\n",
        "     episodes_shifted.append([(s, a, r, s_next) for a_curr, s, a, r, s_next in ep])"
      ],
      "metadata": {
        "id": "RNVu3tdpyC9p"
      },
      "execution_count": null,
      "outputs": []
    },
    {
      "cell_type": "code",
      "source": [
        "episodes_orig[0]"
      ],
      "metadata": {
        "colab": {
          "base_uri": "https://localhost:8080/"
        },
        "id": "iL0Y5KP8wbBT",
        "outputId": "5e2b850e-10b4-48cc-f84e-9cc39c8981c6"
      },
      "execution_count": null,
      "outputs": [
        {
          "output_type": "execute_result",
          "data": {
            "text/plain": [
              "[(1, 1, 0.0, 0),\n",
              " (0, 0, 0.0, 0),\n",
              " (0, 1, 0.0, 0),\n",
              " (0, 1, 1.0, 1),\n",
              " (1, 1, 0.0, 0),\n",
              " (0, 0, 1.0, 1),\n",
              " (1, 1, 0.0, 0),\n",
              " (0, 0, 1.0, 1),\n",
              " (1, 1, 0.0, 0),\n",
              " (0, 0, 1.0, 1)]"
            ]
          },
          "metadata": {},
          "execution_count": 142
        }
      ]
    },
    {
      "cell_type": "code",
      "source": [
        "episodes_shifted[0]"
      ],
      "metadata": {
        "colab": {
          "base_uri": "https://localhost:8080/"
        },
        "id": "s-ObjBmjyB58",
        "outputId": "e9f3809a-7905-44cd-e930-8c1f4bd71a8b"
      },
      "execution_count": null,
      "outputs": [
        {
          "output_type": "execute_result",
          "data": {
            "text/plain": [
              "[(1, 0, 0.0, 0),\n",
              " (0, 1, 0.0, 0),\n",
              " (0, 1, 0.0, 0),\n",
              " (0, 1, 1.0, 1),\n",
              " (1, 0, 0.0, 0),\n",
              " (0, 1, 1.0, 1),\n",
              " (1, 0, 0.0, 0),\n",
              " (0, 1, 1.0, 1),\n",
              " (1, 0, 0.0, 0),\n",
              " (0, 1, 1.0, 1)]"
            ]
          },
          "metadata": {},
          "execution_count": 143
        }
      ]
    },
    {
      "cell_type": "code",
      "source": [
        "R_orig = calculate_reward_function(episodes_orig)\n",
        "P_orig = calculate_transition_function(episodes_orig)\n",
        "R_shifted = calculate_reward_function(episodes_shifted)\n",
        "P_shifted = calculate_transition_function(episodes_shifted)"
      ],
      "metadata": {
        "id": "YfEYA5nM0-Wy"
      },
      "execution_count": null,
      "outputs": []
    },
    {
      "cell_type": "code",
      "source": [
        "V_orig, Q_orig, π_orig = value_iteration(P_orig, R_orig)\n",
        "V_shifted, Q_shifted, π_shifted = value_iteration(P_shifted, R_shifted)"
      ],
      "metadata": {
        "id": "u0RU4vnj2RsO"
      },
      "execution_count": null,
      "outputs": []
    },
    {
      "cell_type": "code",
      "source": [
        "R_orig"
      ],
      "metadata": {
        "colab": {
          "base_uri": "https://localhost:8080/"
        },
        "id": "hnaURuMK1KLY",
        "outputId": "dbe29795-f1fa-4f0a-ffa2-179af99e24d0"
      },
      "execution_count": null,
      "outputs": [
        {
          "output_type": "execute_result",
          "data": {
            "text/plain": [
              "array([[0.72631579, 0.74666667],\n",
              "       [0.34939759, 0.4004329 ]])"
            ]
          },
          "metadata": {},
          "execution_count": 146
        }
      ]
    },
    {
      "cell_type": "code",
      "source": [
        "R_shifted"
      ],
      "metadata": {
        "colab": {
          "base_uri": "https://localhost:8080/"
        },
        "id": "pLvEr4Cy1LT0",
        "outputId": "43bcd492-04a1-4f9f-b813-e3caf9bd8b0a"
      },
      "execution_count": null,
      "outputs": [
        {
          "output_type": "execute_result",
          "data": {
            "text/plain": [
              "array([[0.        , 0.80193237],\n",
              "       [0.21933962, 1.        ]])"
            ]
          },
          "metadata": {},
          "execution_count": 147
        }
      ]
    },
    {
      "cell_type": "code",
      "source": [
        "P_orig"
      ],
      "metadata": {
        "colab": {
          "base_uri": "https://localhost:8080/"
        },
        "id": "IbE_LJfe1PuI",
        "outputId": "cdcf9049-f294-41c8-b274-5e40d4ceb832"
      },
      "execution_count": null,
      "outputs": [
        {
          "output_type": "execute_result",
          "data": {
            "text/plain": [
              "array([[[0.27368421, 0.72631579],\n",
              "        [0.25333333, 0.74666667]],\n",
              "\n",
              "       [[0.65060241, 0.34939759],\n",
              "        [0.5995671 , 0.4004329 ]]])"
            ]
          },
          "metadata": {},
          "execution_count": 148
        }
      ]
    },
    {
      "cell_type": "code",
      "source": [
        "P_shifted"
      ],
      "metadata": {
        "colab": {
          "base_uri": "https://localhost:8080/"
        },
        "id": "5CnMbA-u16VT",
        "outputId": "c9147c60-d3ef-469e-ed42-80fa2e71672b"
      },
      "execution_count": null,
      "outputs": [
        {
          "output_type": "execute_result",
          "data": {
            "text/plain": [
              "array([[[1.        , 0.        ],\n",
              "        [0.19806763, 0.80193237]],\n",
              "\n",
              "       [[0.78066038, 0.21933962],\n",
              "        [0.        , 1.        ]]])"
            ]
          },
          "metadata": {},
          "execution_count": 149
        }
      ]
    },
    {
      "cell_type": "code",
      "source": [
        "V_orig"
      ],
      "metadata": {
        "colab": {
          "base_uri": "https://localhost:8080/"
        },
        "id": "kYKVdH8i17H3",
        "outputId": "cd348665-c661-41b0-f52b-49a309a043e8"
      },
      "execution_count": null,
      "outputs": [
        {
          "output_type": "execute_result",
          "data": {
            "text/plain": [
              "array([5.69274742, 5.42877135])"
            ]
          },
          "metadata": {},
          "execution_count": 150
        }
      ]
    },
    {
      "cell_type": "code",
      "source": [
        "V_shifted"
      ],
      "metadata": {
        "colab": {
          "base_uri": "https://localhost:8080/"
        },
        "id": "AvFwBDYy2VOD",
        "outputId": "68da28ee-b961-4edc-fb7e-89565e528360"
      },
      "execution_count": null,
      "outputs": [
        {
          "output_type": "execute_result",
          "data": {
            "text/plain": [
              "array([ 9.75896531, 10.        ])"
            ]
          },
          "metadata": {},
          "execution_count": 151
        }
      ]
    },
    {
      "cell_type": "code",
      "source": [
        "Q_orig"
      ],
      "metadata": {
        "colab": {
          "base_uri": "https://localhost:8080/"
        },
        "id": "3b5HS2i02WI4",
        "outputId": "96884a3c-5274-4425-dfc9-0cb27755a8ae"
      },
      "execution_count": null,
      "outputs": [
        {
          "output_type": "execute_result",
          "data": {
            "text/plain": [
              "array([[5.67723148, 5.69274742],\n",
              "       [5.38986093, 5.42877135]])"
            ]
          },
          "metadata": {},
          "execution_count": 152
        }
      ]
    },
    {
      "cell_type": "code",
      "source": [
        "Q_shifted"
      ],
      "metadata": {
        "colab": {
          "base_uri": "https://localhost:8080/"
        },
        "id": "oVxVojjS23hU",
        "outputId": "5bde0e0c-bbf7-4d58-c23d-99241223572f"
      },
      "execution_count": null,
      "outputs": [
        {
          "output_type": "execute_result",
          "data": {
            "text/plain": [
              "array([[ 8.78306878,  9.75896531],\n",
              "       [ 9.04999002, 10.        ]])"
            ]
          },
          "metadata": {},
          "execution_count": 153
        }
      ]
    },
    {
      "cell_type": "code",
      "source": [
        "π_orig"
      ],
      "metadata": {
        "colab": {
          "base_uri": "https://localhost:8080/"
        },
        "id": "HbTwqFkz24L_",
        "outputId": "f6987111-34af-4d68-d0a3-1dac555990bb"
      },
      "execution_count": null,
      "outputs": [
        {
          "output_type": "execute_result",
          "data": {
            "text/plain": [
              "array([[0., 1.],\n",
              "       [0., 1.]])"
            ]
          },
          "metadata": {},
          "execution_count": 154
        }
      ]
    },
    {
      "cell_type": "code",
      "source": [
        "π_shifted"
      ],
      "metadata": {
        "colab": {
          "base_uri": "https://localhost:8080/"
        },
        "id": "QzdsFoIa3831",
        "outputId": "e6d90738-38ea-438c-bc70-6e77ed22483f"
      },
      "execution_count": null,
      "outputs": [
        {
          "output_type": "execute_result",
          "data": {
            "text/plain": [
              "array([[0., 1.],\n",
              "       [0., 1.]])"
            ]
          },
          "metadata": {},
          "execution_count": 155
        }
      ]
    },
    {
      "cell_type": "markdown",
      "source": [
        "## Helper functions"
      ],
      "metadata": {
        "id": "tt1lP1bEHAQW"
      }
    },
    {
      "cell_type": "code",
      "source": [
        "def generate_random_behavior_policy(n_states=2, n_actions=2, seed=None):\n",
        "    policy = np.random.default_rng(seed=seed).random((n_states, n_actions))\n",
        "    for state in range(n_states):\n",
        "        policy[state] = policy[state] / np.sum(policy[state])\n",
        "    return policy\n",
        "\n",
        "# def generate_random_behavior_policy(n_states=2, n_actions=2, seed=None):\n",
        "#     policy = np.random.default_rng(seed=seed).random((1, n_actions))\n",
        "#     policy = policy / np.sum(policy)\n",
        "#     policy = np.repeat(policy, n_states, axis=0)\n",
        "#     return policy\n",
        "\n",
        "def generate_dataset(env, π_b, num_episodes=1, seed=None, show_progress=True):\n",
        "    episode_data = []\n",
        "    rng = np.random.default_rng(seed=seed)\n",
        "\n",
        "    for ep in tqdm(range(num_episodes), disable=(not show_progress)):\n",
        "        s, info = env.reset(seed=seed*1000+ep)\n",
        "        episode_steps = []\n",
        "\n",
        "        while True:\n",
        "            a_curr = env.env.curr_action\n",
        "            a = rng.choice(nA, p=π_b[s])\n",
        "            s_next, r, terminated, truncated, info = env.step(a)\n",
        "            episode_steps.append((a_curr, s, a, r, s_next))\n",
        "            s = s_next\n",
        "\n",
        "            if terminated or truncated:\n",
        "                break\n",
        "\n",
        "        episode_data.append(episode_steps)\n",
        "    return episode_data\n",
        "\n",
        "def run_experiment(episode_data):\n",
        "    episodes_orig = []\n",
        "    for ep in episode_data:\n",
        "         episodes_orig.append([(s, a_curr, r, s_next) for a_curr, s, a, r, s_next in ep])\n",
        "    episodes_shifted = []\n",
        "    for ep in episode_data:\n",
        "         episodes_shifted.append([(s, a, r, s_next) for a_curr, s, a, r, s_next in ep])\n",
        "\n",
        "    R_orig = calculate_reward_function(episodes_orig)\n",
        "    P_orig = calculate_transition_function(episodes_orig)\n",
        "    R_shifted = calculate_reward_function(episodes_shifted)\n",
        "    P_shifted = calculate_transition_function(episodes_shifted)\n",
        "    V_orig, Q_orig, π_orig = value_iteration(P_orig, R_orig)\n",
        "    V_shifted, Q_shifted, π_shifted = value_iteration(P_shifted, R_shifted)\n",
        "    return {\n",
        "        'orig': {\n",
        "            'R': R_orig, 'P': P_orig, 'V': V_orig, 'Q': Q_orig, 'π': π_orig,\n",
        "        },\n",
        "        'shifted': {\n",
        "            'R': R_shifted, 'P': P_shifted, 'V': V_shifted, 'Q': Q_shifted, 'π': π_shifted,\n",
        "        }\n",
        "    }"
      ],
      "metadata": {
        "id": "pGBEguTJ4PY0"
      },
      "execution_count": null,
      "outputs": []
    },
    {
      "cell_type": "markdown",
      "source": [
        "## One Run - with helper functions"
      ],
      "metadata": {
        "id": "BeNGZ3dhG9jW"
      }
    },
    {
      "cell_type": "code",
      "source": [
        "env = TimeLimit(\n",
        "    ToyEnv(slip_prob=0.2),\n",
        "    max_episode_steps=100,\n",
        ")"
      ],
      "metadata": {
        "id": "B0HugFCTFpKT"
      },
      "execution_count": null,
      "outputs": []
    },
    {
      "cell_type": "code",
      "source": [
        "π_b = np.array([[0.1, 0.9], [0.75, 0.25]])\n",
        "episode_data = generate_dataset(env, π_b, seed=0, show_progress=False)\n",
        "results = run_experiment(episode_data)"
      ],
      "metadata": {
        "id": "O9OQBmDeEF-r"
      },
      "execution_count": null,
      "outputs": []
    },
    {
      "cell_type": "code",
      "source": [
        "results['orig']['π']"
      ],
      "metadata": {
        "colab": {
          "base_uri": "https://localhost:8080/"
        },
        "id": "lqVfuPzoEcNJ",
        "outputId": "5cf6d30e-6eba-466c-b09f-0d6f0c983f00"
      },
      "execution_count": null,
      "outputs": [
        {
          "output_type": "execute_result",
          "data": {
            "text/plain": [
              "array([[1., 0.],\n",
              "       [0., 1.]])"
            ]
          },
          "metadata": {},
          "execution_count": 186
        }
      ]
    },
    {
      "cell_type": "code",
      "source": [
        "results['shifted']['π']"
      ],
      "metadata": {
        "colab": {
          "base_uri": "https://localhost:8080/"
        },
        "id": "EO3SNGHQE5d1",
        "outputId": "014ee519-1f9b-4df3-ee21-01c56b91f6c6"
      },
      "execution_count": null,
      "outputs": [
        {
          "output_type": "execute_result",
          "data": {
            "text/plain": [
              "array([[0., 1.],\n",
              "       [0., 1.]])"
            ]
          },
          "metadata": {},
          "execution_count": 187
        }
      ]
    },
    {
      "cell_type": "code",
      "source": [
        "π_b = generate_random_behavior_policy(2, 2, seed=3)\n",
        "episode_data = generate_dataset(env, π_b, seed=42, show_progress=False)\n",
        "results = run_experiment(episode_data)"
      ],
      "metadata": {
        "id": "CUP5yrV5E6f4"
      },
      "execution_count": null,
      "outputs": []
    },
    {
      "cell_type": "code",
      "source": [
        "results['orig']['π'], results['shifted']['π']"
      ],
      "metadata": {
        "colab": {
          "base_uri": "https://localhost:8080/"
        },
        "id": "LHRI4o1uFsye",
        "outputId": "b132f0a5-7846-47c9-ffa5-c119105ec6e1"
      },
      "execution_count": null,
      "outputs": [
        {
          "output_type": "execute_result",
          "data": {
            "text/plain": [
              "(array([[0., 1.],\n",
              "        [1., 0.]]),\n",
              " array([[0., 1.],\n",
              "        [0., 1.]]))"
            ]
          },
          "metadata": {},
          "execution_count": 189
        }
      ]
    },
    {
      "cell_type": "markdown",
      "source": [
        "## All Experiments"
      ],
      "metadata": {
        "id": "F-qOlzbGG4Uq"
      }
    },
    {
      "cell_type": "code",
      "source": [
        "MAX_EPISODES_STEPS = 100\n",
        "NUM_EPISODES = 100"
      ],
      "metadata": {
        "id": "SpbptNNxHZNc"
      },
      "execution_count": null,
      "outputs": []
    },
    {
      "cell_type": "code",
      "source": [
        "env = TimeLimit(\n",
        "    ToyEnv(slip_prob=0.2),\n",
        "    max_episode_steps=MAX_EPISODES_STEPS,\n",
        ")"
      ],
      "metadata": {
        "id": "ePffi3HLFnpU"
      },
      "execution_count": null,
      "outputs": []
    },
    {
      "cell_type": "code",
      "source": [
        "all_results = []\n",
        "for run in tqdm(range(100)):\n",
        "    π_b = generate_random_behavior_policy(2, 2, seed=run)\n",
        "    episode_data = generate_dataset(env, π_b, num_episodes=NUM_EPISODES, seed=42, show_progress=False)\n",
        "    results = run_experiment(episode_data)\n",
        "    all_results.append(results)"
      ],
      "metadata": {
        "colab": {
          "base_uri": "https://localhost:8080/"
        },
        "id": "gNfXC9rrGNIo",
        "outputId": "b2eb15c3-1b01-41b5-d377-87e82c851b38"
      },
      "execution_count": null,
      "outputs": [
        {
          "output_type": "stream",
          "name": "stderr",
          "text": [
            "100%|██████████| 100/100 [00:55<00:00,  1.82it/s]\n"
          ]
        }
      ]
    },
    {
      "cell_type": "code",
      "source": [
        "# average P\n",
        "avg_P_orig = np.mean([results['orig']['P'] for results in all_results], axis=0)\n",
        "avg_P_shifted = np.mean([results['shifted']['P'] for results in all_results], axis=0)"
      ],
      "metadata": {
        "id": "WhZlXS3N3HWO"
      },
      "execution_count": null,
      "outputs": []
    },
    {
      "cell_type": "code",
      "source": [
        "avg_P_orig, avg_P_shifted"
      ],
      "metadata": {
        "colab": {
          "base_uri": "https://localhost:8080/"
        },
        "id": "nhXww8as3Wz6",
        "outputId": "32f8485d-e380-4dd4-c892-beb365cad8ff"
      },
      "execution_count": null,
      "outputs": [
        {
          "output_type": "execute_result",
          "data": {
            "text/plain": [
              "(array([[[0.61328429, 0.38671571],\n",
              "         [0.63596265, 0.36403735]],\n",
              " \n",
              "        [[0.41836645, 0.58163355],\n",
              "         [0.40120858, 0.59879142]]]),\n",
              " array([[[1.        , 0.        ],\n",
              "         [0.20189564, 0.79810436]],\n",
              " \n",
              "        [[0.80911208, 0.19088792],\n",
              "         [0.        , 1.        ]]]))"
            ]
          },
          "metadata": {},
          "execution_count": 9
        }
      ]
    },
    {
      "cell_type": "code",
      "source": [
        "# average R\n",
        "avg_R_orig = np.mean([results['orig']['R'] for results in all_results], axis=0)\n",
        "avg_R_shifted = np.mean([results['shifted']['R'] for results in all_results], axis=0)"
      ],
      "metadata": {
        "id": "m-Q0OMkp3Y5g"
      },
      "execution_count": null,
      "outputs": []
    },
    {
      "cell_type": "code",
      "source": [
        "avg_R_orig, avg_R_shifted"
      ],
      "metadata": {
        "colab": {
          "base_uri": "https://localhost:8080/"
        },
        "id": "zOD-bFcA3aat",
        "outputId": "7a8f1f8b-821a-4679-dba7-3b70e7917c6e"
      },
      "execution_count": null,
      "outputs": [
        {
          "output_type": "execute_result",
          "data": {
            "text/plain": [
              "(array([[0.38671571, 0.36403735],\n",
              "        [0.58163355, 0.59879142]]),\n",
              " array([[0.        , 0.79810436],\n",
              "        [0.19088792, 1.        ]]))"
            ]
          },
          "metadata": {},
          "execution_count": 11
        }
      ]
    },
    {
      "cell_type": "code",
      "source": [
        "# average V\n",
        "avg_V_orig = np.mean([results['orig']['V'] for results in all_results], axis=0)\n",
        "avg_V_shifted = np.mean([results['shifted']['V'] for results in all_results], axis=0)\n",
        "\n",
        "# average Q\n",
        "avg_Q_orig = np.mean([results['orig']['Q'] for results in all_results], axis=0)\n",
        "avg_Q_shifted = np.mean([results['shifted']['Q'] for results in all_results], axis=0)"
      ],
      "metadata": {
        "id": "jS-C9-3PMFeo"
      },
      "execution_count": null,
      "outputs": []
    },
    {
      "cell_type": "code",
      "source": [
        "# average π_orig\n",
        "avg_π_orig = np.mean([results['orig']['π'] for results in all_results], axis=0)\n",
        "avg_π_shifted = np.mean([results['shifted']['π'] for results in all_results], axis=0)"
      ],
      "metadata": {
        "id": "qLt9SXI1Gbkt"
      },
      "execution_count": null,
      "outputs": []
    },
    {
      "cell_type": "code",
      "source": [
        "avg_π_orig, avg_π_shifted"
      ],
      "metadata": {
        "colab": {
          "base_uri": "https://localhost:8080/"
        },
        "id": "GE5adp2UGlzV",
        "outputId": "61e83d73-9a3c-4146-c8c6-0bcdc1b007c0"
      },
      "execution_count": null,
      "outputs": [
        {
          "output_type": "execute_result",
          "data": {
            "text/plain": [
              "(array([[0.94, 0.06],\n",
              "        [0.17, 0.83]]),\n",
              " array([[0., 1.],\n",
              "        [0., 1.]]))"
            ]
          },
          "metadata": {},
          "execution_count": 14
        }
      ]
    },
    {
      "cell_type": "code",
      "source": [
        "G_orig = policy_evaluation(env.env.P, avg_π_orig)\n",
        "G_shifted = policy_evaluation(env.env.P, avg_π_shifted)"
      ],
      "metadata": {
        "id": "4swy9dTLWn0G"
      },
      "execution_count": null,
      "outputs": []
    },
    {
      "cell_type": "code",
      "source": [
        "print(G_orig.mean(), G_shifted.mean())"
      ],
      "metadata": {
        "colab": {
          "base_uri": "https://localhost:8080/"
        },
        "id": "1Z2dEINqXdCE",
        "outputId": "99dc9b71-c83c-4083-aa9f-9dde0b44045d"
      },
      "execution_count": null,
      "outputs": [
        {
          "output_type": "stream",
          "name": "stdout",
          "text": [
            "3.3433734931974763 9.878048779630074\n"
          ]
        }
      ]
    },
    {
      "cell_type": "markdown",
      "source": [
        "## Result Figures"
      ],
      "metadata": {
        "id": "z36ovtqWWlGH"
      }
    },
    {
      "cell_type": "code",
      "source": [
        "sa = [(0,0), (0,1), (1,0), (1,1)]\n",
        "s_ = [0, 1]"
      ],
      "metadata": {
        "id": "Fe9aGlswKBoU"
      },
      "execution_count": null,
      "outputs": []
    },
    {
      "cell_type": "code",
      "source": [
        "df_Phat_orig = pd.DataFrame(avg_P_orig.reshape((4,2)), index=sa, columns=s_)\n",
        "\n",
        "fig, ax = plt.subplots(figsize=(2, 1))\n",
        "sns.heatmap(\n",
        "    df_Phat_orig.T, ax=ax, annot=True, square=True,\n",
        "    cmap='Blues', fmt='.2f', vmin=0, vmax=1, cbar=False,\n",
        "    linewidths=0.5, linecolor='black', xticklabels=False, yticklabels=False,\n",
        ")\n",
        "ax.tick_params(top=True, bottom=False, labeltop=True, labelbottom=False)\n",
        "plt.tick_params(axis='x', which='both', length=0)\n",
        "plt.tick_params(axis='y', which='both', length=0, rotation=0)\n",
        "plt.xlabel('$\\hat{p}(\\cdot | s,a)$')\n",
        "plt.ylabel(\"$s'$\", rotation=0)\n",
        "ax.xaxis.set_label_coords(0.5, 1.24)\n",
        "ax.yaxis.set_label_coords(-0.05, 0.425)\n",
        "plt.savefig('synthetic_p_hat_orig.pdf', bbox_inches='tight')\n",
        "plt.show()\n",
        "\n",
        "df_Phat_shifted = pd.DataFrame(avg_P_shifted.reshape((4,2)), index=sa, columns=s_)\n",
        "\n",
        "fig, ax = plt.subplots(figsize=(2, 3.5))\n",
        "sns.heatmap(\n",
        "    df_Phat_shifted.T, ax=ax, annot=True, square=True,\n",
        "    cmap='Greens', fmt='.2f', vmin=0, vmax=1, cbar=False,\n",
        "    linewidths=0.5, linecolor='black', xticklabels=False, yticklabels=False,\n",
        ")\n",
        "ax.tick_params(top=True, bottom=False, labeltop=True, labelbottom=False)\n",
        "plt.tick_params(axis='x', which='both', length=0)\n",
        "plt.tick_params(axis='y', which='both', length=0, rotation=0)\n",
        "plt.xlabel('$\\hat{p}(\\cdot | s,a)$')\n",
        "plt.ylabel(\"$s'$\", rotation=0)\n",
        "ax.xaxis.set_label_coords(0.5, 1.24)\n",
        "ax.yaxis.set_label_coords(-0.05, 0.425)\n",
        "plt.savefig('synthetic_p_hat_shifted.pdf', bbox_inches='tight')\n",
        "plt.show()"
      ],
      "metadata": {
        "id": "jHuY1oyFFuSz",
        "colab": {
          "base_uri": "https://localhost:8080/",
          "height": 247
        },
        "outputId": "26db2c3a-05e0-4ca7-b72a-75a2fef11a84"
      },
      "execution_count": null,
      "outputs": [
        {
          "output_type": "display_data",
          "data": {
            "text/plain": [
              "<Figure size 200x100 with 1 Axes>"
            ],
            "image/svg+xml": "<?xml version=\"1.0\" encoding=\"utf-8\" standalone=\"no\"?>\n<!DOCTYPE svg PUBLIC \"-//W3C//DTD SVG 1.1//EN\"\n  \"http://www.w3.org/Graphics/SVG/1.1/DTD/svg11.dtd\">\n<svg xmlns:xlink=\"http://www.w3.org/1999/xlink\" width=\"134.774pt\" height=\"83.1456pt\" viewBox=\"0 0 134.774 83.1456\" xmlns=\"http://www.w3.org/2000/svg\" version=\"1.1\">\n <metadata>\n  <rdf:RDF xmlns:dc=\"http://purl.org/dc/elements/1.1/\" xmlns:cc=\"http://creativecommons.org/ns#\" xmlns:rdf=\"http://www.w3.org/1999/02/22-rdf-syntax-ns#\">\n   <cc:Work>\n    <dc:type rdf:resource=\"http://purl.org/dc/dcmitype/StillImage\"/>\n    <dc:date>2025-05-15T00:28:29.827862</dc:date>\n    <dc:format>image/svg+xml</dc:format>\n    <dc:creator>\n     <cc:Agent>\n      <dc:title>Matplotlib v3.10.0, https://matplotlib.org/</dc:title>\n     </cc:Agent>\n    </dc:creator>\n   </cc:Work>\n  </rdf:RDF>\n </metadata>\n <defs>\n  <style type=\"text/css\">*{stroke-linejoin: round; stroke-linecap: butt}</style>\n </defs>\n <g id=\"figure_1\">\n  <g id=\"patch_1\">\n   <path d=\"M 0 83.1456 \nL 134.774 83.1456 \nL 134.774 0 \nL 0 0 \nz\n\" style=\"fill: #ffffff\"/>\n  </g>\n  <g id=\"axes_1\">\n   <g id=\"patch_2\">\n    <path d=\"M 16.694 75.9456 \nL 127.574 75.9456 \nL 127.574 20.5056 \nL 16.694 20.5056 \nz\n\" style=\"fill: #ffffff\"/>\n   </g>\n   <g id=\"QuadMesh_1\">\n    <path d=\"M 16.694 20.5056 \nL 44.414 20.5056 \nL 44.414 48.2256 \nL 16.694 48.2256 \nL 16.694 20.5056 \n\" clip-path=\"url(#p40c9b228a7)\" style=\"fill: #4594c7; stroke: #000000; stroke-width: 0.5\"/>\n    <path d=\"M 44.414 20.5056 \nL 72.134 20.5056 \nL 72.134 48.2256 \nL 44.414 48.2256 \nL 44.414 20.5056 \n\" clip-path=\"url(#p40c9b228a7)\" style=\"fill: #3f8fc5; stroke: #000000; stroke-width: 0.5\"/>\n    <path d=\"M 72.134 20.5056 \nL 99.854 20.5056 \nL 99.854 48.2256 \nL 72.134 48.2256 \nL 72.134 20.5056 \n\" clip-path=\"url(#p40c9b228a7)\" style=\"fill: #8cc0dd; stroke: #000000; stroke-width: 0.5\"/>\n    <path d=\"M 99.854 20.5056 \nL 127.574 20.5056 \nL 127.574 48.2256 \nL 99.854 48.2256 \nL 99.854 20.5056 \n\" clip-path=\"url(#p40c9b228a7)\" style=\"fill: #94c4df; stroke: #000000; stroke-width: 0.5\"/>\n    <path d=\"M 16.694 48.2256 \nL 44.414 48.2256 \nL 44.414 75.9456 \nL 16.694 75.9456 \nL 16.694 48.2256 \n\" clip-path=\"url(#p40c9b228a7)\" style=\"fill: #9ac8e0; stroke: #000000; stroke-width: 0.5\"/>\n    <path d=\"M 44.414 48.2256 \nL 72.134 48.2256 \nL 72.134 75.9456 \nL 44.414 75.9456 \nL 44.414 48.2256 \n\" clip-path=\"url(#p40c9b228a7)\" style=\"fill: #a1cbe2; stroke: #000000; stroke-width: 0.5\"/>\n    <path d=\"M 72.134 48.2256 \nL 99.854 48.2256 \nL 99.854 75.9456 \nL 72.134 75.9456 \nL 72.134 48.2256 \n\" clip-path=\"url(#p40c9b228a7)\" style=\"fill: #519ccc; stroke: #000000; stroke-width: 0.5\"/>\n    <path d=\"M 99.854 48.2256 \nL 127.574 48.2256 \nL 127.574 75.9456 \nL 99.854 75.9456 \nL 99.854 48.2256 \n\" clip-path=\"url(#p40c9b228a7)\" style=\"fill: #4a98c9; stroke: #000000; stroke-width: 0.5\"/>\n   </g>\n   <g id=\"matplotlib.axis_1\">\n    <g id=\"text_1\">\n     <!-- $\\hat{p}(\\cdot | s,a)$ -->\n     <g transform=\"translate(55.684 14.7) scale(0.1 -0.1)\">\n      <defs>\n       <path id=\"Cmr10-5e\" d=\"M 863 3444 \nL 738 3578 \nL 1600 4441 \nL 2456 3578 \nL 2328 3444 \nL 1600 4084 \nL 863 3444 \nz\n\" transform=\"scale(0.015625)\"/>\n       <path id=\"Cmmi10-70\" d=\"M -159 -1241 \nQ -219 -1241 -219 -1159 \nQ -197 -1019 -134 -1019 \nQ 66 -1019 145 -983 \nQ 225 -947 269 -800 \nL 991 2081 \nQ 1038 2200 1038 2388 \nQ 1038 2663 850 2663 \nQ 650 2663 553 2423 \nQ 456 2184 366 1819 \nQ 366 1778 313 1778 \nL 238 1778 \nQ 222 1778 203 1801 \nQ 184 1825 184 1844 \nQ 253 2122 317 2315 \nQ 381 2509 517 2668 \nQ 653 2828 856 2828 \nQ 1075 2828 1240 2704 \nQ 1406 2581 1453 2369 \nQ 1628 2572 1840 2700 \nQ 2053 2828 2278 2828 \nQ 2547 2828 2745 2684 \nQ 2944 2541 3044 2308 \nQ 3144 2075 3144 1806 \nQ 3144 1394 2933 953 \nQ 2722 513 2361 220 \nQ 2000 -72 1588 -72 \nQ 1400 -72 1248 34 \nQ 1097 141 1013 313 \nL 722 -825 \nQ 706 -919 703 -934 \nQ 703 -1019 1125 -1019 \nQ 1191 -1019 1191 -1100 \nQ 1169 -1184 1155 -1212 \nQ 1141 -1241 1081 -1241 \nL -159 -1241 \nz\nM 1594 97 \nQ 1816 97 2006 280 \nQ 2197 463 2316 691 \nQ 2403 863 2479 1111 \nQ 2556 1359 2612 1640 \nQ 2669 1922 2669 2088 \nQ 2669 2234 2630 2362 \nQ 2591 2491 2502 2577 \nQ 2413 2663 2266 2663 \nQ 2031 2663 1823 2495 \nQ 1616 2328 1447 2081 \nL 1447 2059 \nL 1094 647 \nQ 1138 419 1263 258 \nQ 1388 97 1594 97 \nz\n\" transform=\"scale(0.015625)\"/>\n       <path id=\"Cmr10-28\" d=\"M 1984 -1588 \nQ 1628 -1306 1370 -942 \nQ 1113 -578 948 -165 \nQ 784 247 703 697 \nQ 622 1147 622 1600 \nQ 622 2059 703 2509 \nQ 784 2959 951 3375 \nQ 1119 3791 1378 4153 \nQ 1638 4516 1984 4788 \nQ 1984 4800 2016 4800 \nL 2075 4800 \nQ 2094 4800 2109 4783 \nQ 2125 4766 2125 4744 \nQ 2125 4716 2113 4703 \nQ 1800 4397 1592 4047 \nQ 1384 3697 1257 3301 \nQ 1131 2906 1075 2482 \nQ 1019 2059 1019 1600 \nQ 1019 -434 2106 -1491 \nQ 2125 -1509 2125 -1544 \nQ 2125 -1559 2108 -1579 \nQ 2091 -1600 2075 -1600 \nL 2016 -1600 \nQ 1984 -1600 1984 -1588 \nz\n\" transform=\"scale(0.015625)\"/>\n       <path id=\"Cmsy10-a2\" d=\"M 538 1600 \nQ 538 1691 584 1772 \nQ 631 1853 714 1903 \nQ 797 1953 891 1953 \nQ 981 1953 1064 1903 \nQ 1147 1853 1194 1772 \nQ 1241 1691 1241 1600 \nQ 1241 1456 1139 1351 \nQ 1038 1247 891 1247 \nQ 747 1247 642 1351 \nQ 538 1456 538 1600 \nz\n\" transform=\"scale(0.015625)\"/>\n       <path id=\"Cmsy10-6a\" d=\"M 763 -1484 \nL 763 4684 \nQ 763 4734 800 4767 \nQ 838 4800 891 4800 \nQ 938 4800 978 4767 \nQ 1019 4734 1019 4684 \nL 1019 -1484 \nQ 1019 -1534 978 -1567 \nQ 938 -1600 891 -1600 \nQ 838 -1600 800 -1567 \nQ 763 -1534 763 -1484 \nz\n\" transform=\"scale(0.015625)\"/>\n       <path id=\"Cmmi10-73\" d=\"M 556 391 \nQ 728 97 1247 97 \nQ 1472 97 1675 173 \nQ 1878 250 2011 403 \nQ 2144 556 2144 775 \nQ 2144 941 2025 1047 \nQ 1906 1153 1734 1191 \nL 1388 1259 \nQ 1150 1319 997 1481 \nQ 844 1644 844 1875 \nQ 844 2159 998 2378 \nQ 1153 2597 1406 2712 \nQ 1659 2828 1931 2828 \nQ 2222 2828 2451 2689 \nQ 2681 2550 2681 2278 \nQ 2681 2131 2598 2018 \nQ 2516 1906 2369 1906 \nQ 2284 1906 2223 1961 \nQ 2163 2016 2163 2100 \nQ 2163 2175 2205 2245 \nQ 2247 2316 2317 2358 \nQ 2388 2400 2463 2400 \nQ 2406 2538 2251 2600 \nQ 2097 2663 1919 2663 \nQ 1756 2663 1593 2597 \nQ 1431 2531 1332 2404 \nQ 1234 2278 1234 2106 \nQ 1234 1991 1315 1903 \nQ 1397 1816 1516 1778 \nL 1888 1703 \nQ 2066 1666 2214 1570 \nQ 2363 1475 2448 1329 \nQ 2534 1184 2534 997 \nQ 2534 759 2401 528 \nQ 2269 297 2075 159 \nQ 1734 -72 1241 -72 \nQ 900 -72 615 84 \nQ 331 241 331 550 \nQ 331 725 432 854 \nQ 534 984 709 984 \nQ 813 984 883 921 \nQ 953 859 953 756 \nQ 953 609 843 500 \nQ 734 391 588 391 \nL 556 391 \nz\n\" transform=\"scale(0.015625)\"/>\n       <path id=\"Cmmi10-3b\" d=\"M 634 -1153 \nQ 634 -1125 659 -1100 \nQ 891 -878 1019 -587 \nQ 1147 -297 1147 25 \nL 1147 103 \nQ 1044 0 891 0 \nQ 744 0 641 103 \nQ 538 206 538 353 \nQ 538 503 641 603 \nQ 744 703 891 703 \nQ 1119 703 1216 492 \nQ 1313 281 1313 25 \nQ 1313 -331 1170 -651 \nQ 1028 -972 769 -1228 \nQ 744 -1241 728 -1241 \nQ 697 -1241 665 -1212 \nQ 634 -1184 634 -1153 \nz\n\" transform=\"scale(0.015625)\"/>\n       <path id=\"Cmmi10-61\" d=\"M 1113 -72 \nQ 709 -72 476 233 \nQ 244 538 244 953 \nQ 244 1363 456 1803 \nQ 669 2244 1030 2536 \nQ 1391 2828 1806 2828 \nQ 1997 2828 2147 2725 \nQ 2297 2622 2381 2444 \nQ 2453 2700 2663 2700 \nQ 2744 2700 2798 2651 \nQ 2853 2603 2853 2522 \nQ 2853 2503 2851 2493 \nQ 2850 2484 2847 2472 \nL 2400 684 \nQ 2356 494 2356 372 \nQ 2356 97 2541 97 \nQ 2741 97 2845 351 \nQ 2950 606 3022 941 \nQ 3034 978 3072 978 \nL 3150 978 \nQ 3175 978 3190 956 \nQ 3206 934 3206 916 \nQ 3094 469 2961 198 \nQ 2828 -72 2528 -72 \nQ 2313 -72 2147 54 \nQ 1981 181 1941 391 \nQ 1528 -72 1113 -72 \nz\nM 1119 97 \nQ 1350 97 1567 270 \nQ 1784 444 1941 678 \nQ 1947 684 1947 697 \nL 2291 2088 \nL 2297 2106 \nQ 2259 2334 2132 2498 \nQ 2006 2663 1791 2663 \nQ 1575 2663 1389 2486 \nQ 1203 2309 1075 2069 \nQ 950 1813 836 1366 \nQ 722 919 722 672 \nQ 722 450 817 273 \nQ 913 97 1119 97 \nz\n\" transform=\"scale(0.015625)\"/>\n       <path id=\"Cmr10-29\" d=\"M 416 -1600 \nQ 359 -1600 359 -1544 \nQ 359 -1516 372 -1503 \nQ 1466 -434 1466 1600 \nQ 1466 3634 384 4691 \nQ 359 4706 359 4744 \nQ 359 4766 376 4783 \nQ 394 4800 416 4800 \nL 475 4800 \nQ 494 4800 506 4788 \nQ 966 4425 1272 3906 \nQ 1578 3388 1720 2800 \nQ 1863 2213 1863 1600 \nQ 1863 1147 1786 708 \nQ 1709 269 1542 -157 \nQ 1375 -584 1119 -945 \nQ 863 -1306 506 -1588 \nQ 494 -1600 475 -1600 \nL 416 -1600 \nz\n\" transform=\"scale(0.015625)\"/>\n      </defs>\n      <use xlink:href=\"#Cmr10-5e\" transform=\"translate(6.041992 2.875)\"/>\n      <use xlink:href=\"#Cmmi10-70\"/>\n      <use xlink:href=\"#Cmr10-28\" transform=\"translate(50.292969 0)\"/>\n      <use xlink:href=\"#Cmsy10-a2\" transform=\"translate(89.111328 0)\"/>\n      <use xlink:href=\"#Cmsy10-6a\" transform=\"translate(116.796875 0)\"/>\n      <use xlink:href=\"#Cmmi10-73\" transform=\"translate(144.482422 0)\"/>\n      <use xlink:href=\"#Cmmi10-3b\" transform=\"translate(191.259766 0)\"/>\n      <use xlink:href=\"#Cmmi10-61\" transform=\"translate(236.503906 0)\"/>\n      <use xlink:href=\"#Cmr10-29\" transform=\"translate(289.287109 0)\"/>\n     </g>\n    </g>\n   </g>\n   <g id=\"matplotlib.axis_2\">\n    <g id=\"text_2\">\n     <!-- $s'$ -->\n     <g transform=\"translate(7.2 50.213288) scale(0.1 -0.1)\">\n      <defs>\n       <path id=\"Cmsy10-30\" d=\"M 225 347 \nQ 184 359 184 409 \nL 966 3316 \nQ 1003 3434 1093 3506 \nQ 1184 3578 1300 3578 \nQ 1450 3578 1564 3479 \nQ 1678 3381 1678 3231 \nQ 1678 3166 1644 3084 \nL 488 319 \nQ 466 275 428 275 \nQ 394 275 320 306 \nQ 247 338 225 347 \nz\n\" transform=\"scale(0.015625)\"/>\n      </defs>\n      <use xlink:href=\"#Cmmi10-73\" transform=\"translate(0 0.601562)\"/>\n      <use xlink:href=\"#Cmsy10-30\" transform=\"translate(53.080625 38.865625) scale(0.7)\"/>\n     </g>\n    </g>\n   </g>\n   <g id=\"text_3\">\n    <!-- 0.61 -->\n    <g style=\"fill: #ffffff\" transform=\"translate(21.804 36.695287) scale(0.1 -0.1)\">\n     <defs>\n      <path id=\"STIXGeneral-Regular-30\" d=\"M 3046 2112 \nQ 3046 1683 2963 1302 \nQ 2880 922 2717 602 \nQ 2554 282 2266 96 \nQ 1978 -90 1600 -90 \nQ 1210 -90 915 108 \nQ 621 307 461 640 \nQ 301 973 227 1350 \nQ 154 1728 154 2150 \nQ 154 2746 301 3222 \nQ 448 3699 790 4012 \nQ 1133 4326 1626 4326 \nQ 2253 4326 2649 3712 \nQ 3046 3098 3046 2112 \nz\nM 2432 2080 \nQ 2432 3091 2217 3625 \nQ 2003 4160 1587 4160 \nQ 1190 4160 979 3622 \nQ 768 3085 768 2106 \nQ 768 1120 979 598 \nQ 1190 77 1600 77 \nQ 2003 77 2217 598 \nQ 2432 1120 2432 2080 \nz\n\" transform=\"scale(0.015625)\"/>\n      <path id=\"STIXGeneral-Regular-2e\" d=\"M 1158 275 \nQ 1158 134 1052 32 \nQ 947 -70 800 -70 \nQ 653 -70 550 32 \nQ 448 134 448 281 \nQ 448 429 553 534 \nQ 659 640 806 640 \nQ 947 640 1052 531 \nQ 1158 422 1158 275 \nz\n\" transform=\"scale(0.015625)\"/>\n      <path id=\"STIXGeneral-Regular-36\" d=\"M 2854 4378 \nL 2867 4275 \nQ 2112 4154 1606 3664 \nQ 1101 3174 973 2451 \nQ 1344 2739 1786 2739 \nQ 2349 2739 2672 2380 \nQ 2995 2022 2995 1402 \nQ 2995 774 2669 378 \nQ 2291 -90 1651 -90 \nQ 870 -90 518 557 \nQ 218 1107 218 1786 \nQ 218 2835 915 3552 \nQ 1312 3962 1731 4131 \nQ 2150 4301 2854 4378 \nz\nM 2419 1203 \nQ 2419 2445 1555 2445 \nQ 1235 2445 1024 2275 \nQ 813 2106 813 1702 \nQ 813 954 1046 522 \nQ 1280 90 1722 90 \nQ 2061 90 2240 394 \nQ 2419 698 2419 1203 \nz\n\" transform=\"scale(0.015625)\"/>\n      <path id=\"STIXGeneral-Regular-31\" d=\"M 2522 0 \nL 755 0 \nL 755 96 \nQ 1107 115 1235 227 \nQ 1363 339 1363 608 \nL 1363 3482 \nQ 1363 3795 1171 3795 \nQ 1082 3795 883 3718 \nL 710 3654 \nL 710 3744 \nL 1856 4326 \nL 1914 4307 \nL 1914 486 \nQ 1914 275 2042 185 \nQ 2170 96 2522 96 \nL 2522 0 \nz\n\" transform=\"scale(0.015625)\"/>\n     </defs>\n     <use xlink:href=\"#STIXGeneral-Regular-30\"/>\n     <use xlink:href=\"#STIXGeneral-Regular-2e\" transform=\"translate(49.999985 0)\"/>\n     <use xlink:href=\"#STIXGeneral-Regular-36\" transform=\"translate(74.999969 0)\"/>\n     <use xlink:href=\"#STIXGeneral-Regular-31\" transform=\"translate(124.999954 0)\"/>\n    </g>\n   </g>\n   <g id=\"text_4\">\n    <!-- 0.64 -->\n    <g style=\"fill: #ffffff\" transform=\"translate(49.524 36.695287) scale(0.1 -0.1)\">\n     <defs>\n      <path id=\"STIXGeneral-Regular-34\" d=\"M 3027 1069 \nL 2368 1069 \nL 2368 0 \nL 1869 0 \nL 1869 1069 \nL 77 1069 \nL 77 1478 \nL 2086 4326 \nL 2368 4326 \nL 2368 1478 \nL 3027 1478 \nL 3027 1069 \nz\nM 1869 1478 \nL 1869 3674 \nL 333 1478 \nL 1869 1478 \nz\n\" transform=\"scale(0.015625)\"/>\n     </defs>\n     <use xlink:href=\"#STIXGeneral-Regular-30\"/>\n     <use xlink:href=\"#STIXGeneral-Regular-2e\" transform=\"translate(49.999985 0)\"/>\n     <use xlink:href=\"#STIXGeneral-Regular-36\" transform=\"translate(74.999969 0)\"/>\n     <use xlink:href=\"#STIXGeneral-Regular-34\" transform=\"translate(124.999954 0)\"/>\n    </g>\n   </g>\n   <g id=\"text_5\">\n    <!-- 0.42 -->\n    <g style=\"fill: #262626\" transform=\"translate(77.244 36.695287) scale(0.1 -0.1)\">\n     <defs>\n      <path id=\"STIXGeneral-Regular-32\" d=\"M 3034 877 \nL 2688 0 \nL 186 0 \nL 186 77 \nL 1325 1286 \nQ 1773 1754 1965 2144 \nQ 2157 2534 2157 2950 \nQ 2157 3379 1920 3616 \nQ 1683 3853 1267 3853 \nQ 922 3853 720 3673 \nQ 518 3494 326 3021 \nL 192 3053 \nQ 301 3648 630 3987 \nQ 960 4326 1523 4326 \nQ 2054 4326 2380 4006 \nQ 2707 3686 2707 3200 \nQ 2707 2477 1888 1613 \nL 832 486 \nL 2330 486 \nQ 2541 486 2665 569 \nQ 2790 653 2944 915 \nL 3034 877 \nz\n\" transform=\"scale(0.015625)\"/>\n     </defs>\n     <use xlink:href=\"#STIXGeneral-Regular-30\"/>\n     <use xlink:href=\"#STIXGeneral-Regular-2e\" transform=\"translate(49.999985 0)\"/>\n     <use xlink:href=\"#STIXGeneral-Regular-34\" transform=\"translate(74.999969 0)\"/>\n     <use xlink:href=\"#STIXGeneral-Regular-32\" transform=\"translate(124.999954 0)\"/>\n    </g>\n   </g>\n   <g id=\"text_6\">\n    <!-- 0.40 -->\n    <g style=\"fill: #262626\" transform=\"translate(104.964 36.695287) scale(0.1 -0.1)\">\n     <use xlink:href=\"#STIXGeneral-Regular-30\"/>\n     <use xlink:href=\"#STIXGeneral-Regular-2e\" transform=\"translate(49.999985 0)\"/>\n     <use xlink:href=\"#STIXGeneral-Regular-34\" transform=\"translate(74.999969 0)\"/>\n     <use xlink:href=\"#STIXGeneral-Regular-30\" transform=\"translate(124.999954 0)\"/>\n    </g>\n   </g>\n   <g id=\"text_7\">\n    <!-- 0.39 -->\n    <g style=\"fill: #262626\" transform=\"translate(21.804 64.415288) scale(0.1 -0.1)\">\n     <defs>\n      <path id=\"STIXGeneral-Regular-33\" d=\"M 390 3264 \nL 288 3290 \nQ 435 3770 748 4048 \nQ 1062 4326 1542 4326 \nQ 1990 4326 2265 4083 \nQ 2541 3840 2541 3450 \nQ 2541 2925 1946 2566 \nQ 2298 2413 2477 2227 \nQ 2758 1914 2758 1402 \nQ 2758 890 2464 506 \nQ 2246 211 1840 60 \nQ 1434 -90 979 -90 \nQ 262 -90 262 275 \nQ 262 378 339 442 \nQ 416 506 525 506 \nQ 685 506 915 339 \nQ 1197 141 1466 141 \nQ 1818 141 2058 425 \nQ 2298 710 2298 1120 \nQ 2298 1856 1632 2048 \nQ 1434 2112 979 2112 \nL 979 2202 \nQ 1338 2323 1517 2432 \nQ 2035 2726 2035 3290 \nQ 2035 3610 1852 3776 \nQ 1670 3942 1344 3942 \nQ 768 3942 390 3264 \nz\n\" transform=\"scale(0.015625)\"/>\n      <path id=\"STIXGeneral-Regular-39\" d=\"M 378 -141 \nL 358 -13 \nQ 1094 115 1603 608 \nQ 2112 1101 2304 1882 \nQ 1933 1517 1344 1517 \nQ 826 1517 509 1875 \nQ 192 2234 192 2816 \nQ 192 3462 573 3894 \nQ 954 4326 1523 4326 \nQ 2131 4326 2528 3840 \nQ 2938 3328 2938 2522 \nQ 2938 1958 2742 1462 \nQ 2547 966 2170 621 \nQ 1773 262 1395 105 \nQ 1018 -51 378 -141 \nz\nM 2317 2272 \nL 2317 2522 \nQ 2317 4147 1472 4147 \nQ 1171 4147 1005 3930 \nQ 909 3802 845 3546 \nQ 781 3290 781 3034 \nQ 781 2464 995 2128 \nQ 1210 1792 1568 1792 \nQ 1824 1792 2070 1917 \nQ 2317 2042 2317 2272 \nz\n\" transform=\"scale(0.015625)\"/>\n     </defs>\n     <use xlink:href=\"#STIXGeneral-Regular-30\"/>\n     <use xlink:href=\"#STIXGeneral-Regular-2e\" transform=\"translate(49.999985 0)\"/>\n     <use xlink:href=\"#STIXGeneral-Regular-33\" transform=\"translate(74.999969 0)\"/>\n     <use xlink:href=\"#STIXGeneral-Regular-39\" transform=\"translate(124.999954 0)\"/>\n    </g>\n   </g>\n   <g id=\"text_8\">\n    <!-- 0.36 -->\n    <g style=\"fill: #262626\" transform=\"translate(49.524 64.415288) scale(0.1 -0.1)\">\n     <use xlink:href=\"#STIXGeneral-Regular-30\"/>\n     <use xlink:href=\"#STIXGeneral-Regular-2e\" transform=\"translate(49.999985 0)\"/>\n     <use xlink:href=\"#STIXGeneral-Regular-33\" transform=\"translate(74.999969 0)\"/>\n     <use xlink:href=\"#STIXGeneral-Regular-36\" transform=\"translate(124.999954 0)\"/>\n    </g>\n   </g>\n   <g id=\"text_9\">\n    <!-- 0.58 -->\n    <g style=\"fill: #ffffff\" transform=\"translate(77.244 64.415288) scale(0.1 -0.1)\">\n     <defs>\n      <path id=\"STIXGeneral-Regular-35\" d=\"M 2803 4358 \nL 2573 3814 \nQ 2534 3731 2400 3731 \nL 1158 3731 \nL 902 3187 \nQ 1606 3053 1920 2896 \nQ 2234 2739 2502 2368 \nQ 2726 2061 2726 1555 \nQ 2726 1094 2576 780 \nQ 2426 467 2099 224 \nQ 1664 -90 1011 -90 \nQ 646 -90 422 19 \nQ 198 128 198 307 \nQ 198 550 486 550 \nQ 717 550 960 352 \nQ 1210 147 1414 147 \nQ 1747 147 2012 480 \nQ 2278 813 2278 1229 \nQ 2278 1843 1850 2189 \nQ 1293 2637 486 2637 \nQ 410 2637 410 2688 \nL 416 2720 \nL 1114 4237 \nL 2438 4237 \nQ 2547 4237 2608 4269 \nQ 2669 4301 2746 4403 \nL 2803 4358 \nz\n\" transform=\"scale(0.015625)\"/>\n      <path id=\"STIXGeneral-Regular-38\" d=\"M 2848 992 \nQ 2848 499 2505 204 \nQ 2163 -90 1587 -90 \nQ 1050 -90 704 204 \nQ 358 499 358 954 \nQ 358 1293 524 1533 \nQ 691 1773 1190 2125 \nQ 710 2522 553 2765 \nQ 397 3008 397 3328 \nQ 397 3782 745 4054 \nQ 1094 4326 1638 4326 \nQ 2106 4326 2410 4060 \nQ 2714 3795 2714 3411 \nQ 2714 3059 2531 2848 \nQ 2349 2637 1856 2374 \nQ 2432 1990 2640 1689 \nQ 2848 1389 2848 992 \nz\nM 2272 3411 \nQ 2272 3744 2086 3945 \nQ 1901 4147 1574 4147 \nQ 1248 4147 1059 3977 \nQ 870 3808 870 3513 \nQ 870 3219 1059 2979 \nQ 1248 2739 1670 2490 \nQ 1997 2682 2134 2896 \nQ 2272 3110 2272 3411 \nz\nM 1734 1741 \nL 1357 1997 \nQ 1075 1766 960 1545 \nQ 845 1325 845 1011 \nQ 845 576 1065 333 \nQ 1286 90 1658 90 \nQ 1971 90 2166 285 \nQ 2362 480 2362 794 \nQ 2362 1082 2214 1299 \nQ 2067 1517 1734 1741 \nz\n\" transform=\"scale(0.015625)\"/>\n     </defs>\n     <use xlink:href=\"#STIXGeneral-Regular-30\"/>\n     <use xlink:href=\"#STIXGeneral-Regular-2e\" transform=\"translate(49.999985 0)\"/>\n     <use xlink:href=\"#STIXGeneral-Regular-35\" transform=\"translate(74.999969 0)\"/>\n     <use xlink:href=\"#STIXGeneral-Regular-38\" transform=\"translate(124.999954 0)\"/>\n    </g>\n   </g>\n   <g id=\"text_10\">\n    <!-- 0.60 -->\n    <g style=\"fill: #ffffff\" transform=\"translate(104.964 64.415288) scale(0.1 -0.1)\">\n     <use xlink:href=\"#STIXGeneral-Regular-30\"/>\n     <use xlink:href=\"#STIXGeneral-Regular-2e\" transform=\"translate(49.999985 0)\"/>\n     <use xlink:href=\"#STIXGeneral-Regular-36\" transform=\"translate(74.999969 0)\"/>\n     <use xlink:href=\"#STIXGeneral-Regular-30\" transform=\"translate(124.999954 0)\"/>\n    </g>\n   </g>\n  </g>\n </g>\n <defs>\n  <clipPath id=\"p40c9b228a7\">\n   <rect x=\"16.694\" y=\"20.5056\" width=\"110.88\" height=\"55.44\"/>\n  </clipPath>\n </defs>\n</svg>\n"
          },
          "metadata": {}
        },
        {
          "output_type": "display_data",
          "data": {
            "text/plain": [
              "<Figure size 200x350 with 1 Axes>"
            ],
            "image/svg+xml": "<?xml version=\"1.0\" encoding=\"utf-8\" standalone=\"no\"?>\n<!DOCTYPE svg PUBLIC \"-//W3C//DTD SVG 1.1//EN\"\n  \"http://www.w3.org/Graphics/SVG/1.1/DTD/svg11.dtd\">\n<svg xmlns:xlink=\"http://www.w3.org/1999/xlink\" width=\"135.53pt\" height=\"83.592pt\" viewBox=\"0 0 135.53 83.592\" xmlns=\"http://www.w3.org/2000/svg\" version=\"1.1\">\n <metadata>\n  <rdf:RDF xmlns:dc=\"http://purl.org/dc/elements/1.1/\" xmlns:cc=\"http://creativecommons.org/ns#\" xmlns:rdf=\"http://www.w3.org/1999/02/22-rdf-syntax-ns#\">\n   <cc:Work>\n    <dc:type rdf:resource=\"http://purl.org/dc/dcmitype/StillImage\"/>\n    <dc:date>2025-05-15T00:28:29.988555</dc:date>\n    <dc:format>image/svg+xml</dc:format>\n    <dc:creator>\n     <cc:Agent>\n      <dc:title>Matplotlib v3.10.0, https://matplotlib.org/</dc:title>\n     </cc:Agent>\n    </dc:creator>\n   </cc:Work>\n  </rdf:RDF>\n </metadata>\n <defs>\n  <style type=\"text/css\">*{stroke-linejoin: round; stroke-linecap: butt}</style>\n </defs>\n <g id=\"figure_1\">\n  <g id=\"patch_1\">\n   <path d=\"M 0 83.592 \nL 135.53 83.592 \nL 135.53 0 \nL 0 0 \nz\n\" style=\"fill: #ffffff\"/>\n  </g>\n  <g id=\"axes_1\">\n   <g id=\"patch_2\">\n    <path d=\"M 16.73 76.392 \nL 128.33 76.392 \nL 128.33 20.592 \nL 16.73 20.592 \nz\n\" style=\"fill: #ffffff\"/>\n   </g>\n   <g id=\"QuadMesh_1\">\n    <path d=\"M 16.73 20.592 \nL 44.63 20.592 \nL 44.63 48.492 \nL 16.73 48.492 \nL 16.73 20.592 \n\" clip-path=\"url(#p7d5ffcc62d)\" style=\"fill: #00441b; stroke: #000000; stroke-width: 0.5\"/>\n    <path d=\"M 44.63 20.592 \nL 72.53 20.592 \nL 72.53 48.492 \nL 44.63 48.492 \nL 44.63 20.592 \n\" clip-path=\"url(#p7d5ffcc62d)\" style=\"fill: #d3eecd; stroke: #000000; stroke-width: 0.5\"/>\n    <path d=\"M 72.53 20.592 \nL 100.43 20.592 \nL 100.43 48.492 \nL 72.53 48.492 \nL 72.53 20.592 \n\" clip-path=\"url(#p7d5ffcc62d)\" style=\"fill: #127c39; stroke: #000000; stroke-width: 0.5\"/>\n    <path d=\"M 100.43 20.592 \nL 128.33 20.592 \nL 128.33 48.492 \nL 100.43 48.492 \nL 100.43 20.592 \n\" clip-path=\"url(#p7d5ffcc62d)\" style=\"fill: #f7fcf5; stroke: #000000; stroke-width: 0.5\"/>\n    <path d=\"M 16.73 48.492 \nL 44.63 48.492 \nL 44.63 76.392 \nL 16.73 76.392 \nL 16.73 48.492 \n\" clip-path=\"url(#p7d5ffcc62d)\" style=\"fill: #f7fcf5; stroke: #000000; stroke-width: 0.5\"/>\n    <path d=\"M 44.63 48.492 \nL 72.53 48.492 \nL 72.53 76.392 \nL 44.63 76.392 \nL 44.63 48.492 \n\" clip-path=\"url(#p7d5ffcc62d)\" style=\"fill: #157f3b; stroke: #000000; stroke-width: 0.5\"/>\n    <path d=\"M 72.53 48.492 \nL 100.43 48.492 \nL 100.43 76.392 \nL 72.53 76.392 \nL 72.53 48.492 \n\" clip-path=\"url(#p7d5ffcc62d)\" style=\"fill: #d6efd0; stroke: #000000; stroke-width: 0.5\"/>\n    <path d=\"M 100.43 48.492 \nL 128.33 48.492 \nL 128.33 76.392 \nL 100.43 76.392 \nL 100.43 48.492 \n\" clip-path=\"url(#p7d5ffcc62d)\" style=\"fill: #00441b; stroke: #000000; stroke-width: 0.5\"/>\n   </g>\n   <g id=\"matplotlib.axis_1\">\n    <g id=\"text_1\">\n     <!-- $\\hat{p}(\\cdot | s,a)$ -->\n     <g transform=\"translate(56.08 14.7) scale(0.1 -0.1)\">\n      <defs>\n       <path id=\"Cmr10-5e\" d=\"M 863 3444 \nL 738 3578 \nL 1600 4441 \nL 2456 3578 \nL 2328 3444 \nL 1600 4084 \nL 863 3444 \nz\n\" transform=\"scale(0.015625)\"/>\n       <path id=\"Cmmi10-70\" d=\"M -159 -1241 \nQ -219 -1241 -219 -1159 \nQ -197 -1019 -134 -1019 \nQ 66 -1019 145 -983 \nQ 225 -947 269 -800 \nL 991 2081 \nQ 1038 2200 1038 2388 \nQ 1038 2663 850 2663 \nQ 650 2663 553 2423 \nQ 456 2184 366 1819 \nQ 366 1778 313 1778 \nL 238 1778 \nQ 222 1778 203 1801 \nQ 184 1825 184 1844 \nQ 253 2122 317 2315 \nQ 381 2509 517 2668 \nQ 653 2828 856 2828 \nQ 1075 2828 1240 2704 \nQ 1406 2581 1453 2369 \nQ 1628 2572 1840 2700 \nQ 2053 2828 2278 2828 \nQ 2547 2828 2745 2684 \nQ 2944 2541 3044 2308 \nQ 3144 2075 3144 1806 \nQ 3144 1394 2933 953 \nQ 2722 513 2361 220 \nQ 2000 -72 1588 -72 \nQ 1400 -72 1248 34 \nQ 1097 141 1013 313 \nL 722 -825 \nQ 706 -919 703 -934 \nQ 703 -1019 1125 -1019 \nQ 1191 -1019 1191 -1100 \nQ 1169 -1184 1155 -1212 \nQ 1141 -1241 1081 -1241 \nL -159 -1241 \nz\nM 1594 97 \nQ 1816 97 2006 280 \nQ 2197 463 2316 691 \nQ 2403 863 2479 1111 \nQ 2556 1359 2612 1640 \nQ 2669 1922 2669 2088 \nQ 2669 2234 2630 2362 \nQ 2591 2491 2502 2577 \nQ 2413 2663 2266 2663 \nQ 2031 2663 1823 2495 \nQ 1616 2328 1447 2081 \nL 1447 2059 \nL 1094 647 \nQ 1138 419 1263 258 \nQ 1388 97 1594 97 \nz\n\" transform=\"scale(0.015625)\"/>\n       <path id=\"Cmr10-28\" d=\"M 1984 -1588 \nQ 1628 -1306 1370 -942 \nQ 1113 -578 948 -165 \nQ 784 247 703 697 \nQ 622 1147 622 1600 \nQ 622 2059 703 2509 \nQ 784 2959 951 3375 \nQ 1119 3791 1378 4153 \nQ 1638 4516 1984 4788 \nQ 1984 4800 2016 4800 \nL 2075 4800 \nQ 2094 4800 2109 4783 \nQ 2125 4766 2125 4744 \nQ 2125 4716 2113 4703 \nQ 1800 4397 1592 4047 \nQ 1384 3697 1257 3301 \nQ 1131 2906 1075 2482 \nQ 1019 2059 1019 1600 \nQ 1019 -434 2106 -1491 \nQ 2125 -1509 2125 -1544 \nQ 2125 -1559 2108 -1579 \nQ 2091 -1600 2075 -1600 \nL 2016 -1600 \nQ 1984 -1600 1984 -1588 \nz\n\" transform=\"scale(0.015625)\"/>\n       <path id=\"Cmsy10-a2\" d=\"M 538 1600 \nQ 538 1691 584 1772 \nQ 631 1853 714 1903 \nQ 797 1953 891 1953 \nQ 981 1953 1064 1903 \nQ 1147 1853 1194 1772 \nQ 1241 1691 1241 1600 \nQ 1241 1456 1139 1351 \nQ 1038 1247 891 1247 \nQ 747 1247 642 1351 \nQ 538 1456 538 1600 \nz\n\" transform=\"scale(0.015625)\"/>\n       <path id=\"Cmsy10-6a\" d=\"M 763 -1484 \nL 763 4684 \nQ 763 4734 800 4767 \nQ 838 4800 891 4800 \nQ 938 4800 978 4767 \nQ 1019 4734 1019 4684 \nL 1019 -1484 \nQ 1019 -1534 978 -1567 \nQ 938 -1600 891 -1600 \nQ 838 -1600 800 -1567 \nQ 763 -1534 763 -1484 \nz\n\" transform=\"scale(0.015625)\"/>\n       <path id=\"Cmmi10-73\" d=\"M 556 391 \nQ 728 97 1247 97 \nQ 1472 97 1675 173 \nQ 1878 250 2011 403 \nQ 2144 556 2144 775 \nQ 2144 941 2025 1047 \nQ 1906 1153 1734 1191 \nL 1388 1259 \nQ 1150 1319 997 1481 \nQ 844 1644 844 1875 \nQ 844 2159 998 2378 \nQ 1153 2597 1406 2712 \nQ 1659 2828 1931 2828 \nQ 2222 2828 2451 2689 \nQ 2681 2550 2681 2278 \nQ 2681 2131 2598 2018 \nQ 2516 1906 2369 1906 \nQ 2284 1906 2223 1961 \nQ 2163 2016 2163 2100 \nQ 2163 2175 2205 2245 \nQ 2247 2316 2317 2358 \nQ 2388 2400 2463 2400 \nQ 2406 2538 2251 2600 \nQ 2097 2663 1919 2663 \nQ 1756 2663 1593 2597 \nQ 1431 2531 1332 2404 \nQ 1234 2278 1234 2106 \nQ 1234 1991 1315 1903 \nQ 1397 1816 1516 1778 \nL 1888 1703 \nQ 2066 1666 2214 1570 \nQ 2363 1475 2448 1329 \nQ 2534 1184 2534 997 \nQ 2534 759 2401 528 \nQ 2269 297 2075 159 \nQ 1734 -72 1241 -72 \nQ 900 -72 615 84 \nQ 331 241 331 550 \nQ 331 725 432 854 \nQ 534 984 709 984 \nQ 813 984 883 921 \nQ 953 859 953 756 \nQ 953 609 843 500 \nQ 734 391 588 391 \nL 556 391 \nz\n\" transform=\"scale(0.015625)\"/>\n       <path id=\"Cmmi10-3b\" d=\"M 634 -1153 \nQ 634 -1125 659 -1100 \nQ 891 -878 1019 -587 \nQ 1147 -297 1147 25 \nL 1147 103 \nQ 1044 0 891 0 \nQ 744 0 641 103 \nQ 538 206 538 353 \nQ 538 503 641 603 \nQ 744 703 891 703 \nQ 1119 703 1216 492 \nQ 1313 281 1313 25 \nQ 1313 -331 1170 -651 \nQ 1028 -972 769 -1228 \nQ 744 -1241 728 -1241 \nQ 697 -1241 665 -1212 \nQ 634 -1184 634 -1153 \nz\n\" transform=\"scale(0.015625)\"/>\n       <path id=\"Cmmi10-61\" d=\"M 1113 -72 \nQ 709 -72 476 233 \nQ 244 538 244 953 \nQ 244 1363 456 1803 \nQ 669 2244 1030 2536 \nQ 1391 2828 1806 2828 \nQ 1997 2828 2147 2725 \nQ 2297 2622 2381 2444 \nQ 2453 2700 2663 2700 \nQ 2744 2700 2798 2651 \nQ 2853 2603 2853 2522 \nQ 2853 2503 2851 2493 \nQ 2850 2484 2847 2472 \nL 2400 684 \nQ 2356 494 2356 372 \nQ 2356 97 2541 97 \nQ 2741 97 2845 351 \nQ 2950 606 3022 941 \nQ 3034 978 3072 978 \nL 3150 978 \nQ 3175 978 3190 956 \nQ 3206 934 3206 916 \nQ 3094 469 2961 198 \nQ 2828 -72 2528 -72 \nQ 2313 -72 2147 54 \nQ 1981 181 1941 391 \nQ 1528 -72 1113 -72 \nz\nM 1119 97 \nQ 1350 97 1567 270 \nQ 1784 444 1941 678 \nQ 1947 684 1947 697 \nL 2291 2088 \nL 2297 2106 \nQ 2259 2334 2132 2498 \nQ 2006 2663 1791 2663 \nQ 1575 2663 1389 2486 \nQ 1203 2309 1075 2069 \nQ 950 1813 836 1366 \nQ 722 919 722 672 \nQ 722 450 817 273 \nQ 913 97 1119 97 \nz\n\" transform=\"scale(0.015625)\"/>\n       <path id=\"Cmr10-29\" d=\"M 416 -1600 \nQ 359 -1600 359 -1544 \nQ 359 -1516 372 -1503 \nQ 1466 -434 1466 1600 \nQ 1466 3634 384 4691 \nQ 359 4706 359 4744 \nQ 359 4766 376 4783 \nQ 394 4800 416 4800 \nL 475 4800 \nQ 494 4800 506 4788 \nQ 966 4425 1272 3906 \nQ 1578 3388 1720 2800 \nQ 1863 2213 1863 1600 \nQ 1863 1147 1786 708 \nQ 1709 269 1542 -157 \nQ 1375 -584 1119 -945 \nQ 863 -1306 506 -1588 \nQ 494 -1600 475 -1600 \nL 416 -1600 \nz\n\" transform=\"scale(0.015625)\"/>\n      </defs>\n      <use xlink:href=\"#Cmr10-5e\" transform=\"translate(6.041992 2.875)\"/>\n      <use xlink:href=\"#Cmmi10-70\"/>\n      <use xlink:href=\"#Cmr10-28\" transform=\"translate(50.292969 0)\"/>\n      <use xlink:href=\"#Cmsy10-a2\" transform=\"translate(89.111328 0)\"/>\n      <use xlink:href=\"#Cmsy10-6a\" transform=\"translate(116.796875 0)\"/>\n      <use xlink:href=\"#Cmmi10-73\" transform=\"translate(144.482422 0)\"/>\n      <use xlink:href=\"#Cmmi10-3b\" transform=\"translate(191.259766 0)\"/>\n      <use xlink:href=\"#Cmmi10-61\" transform=\"translate(236.503906 0)\"/>\n      <use xlink:href=\"#Cmr10-29\" transform=\"translate(289.287109 0)\"/>\n     </g>\n    </g>\n   </g>\n   <g id=\"matplotlib.axis_2\">\n    <g id=\"text_2\">\n     <!-- $s'$ -->\n     <g transform=\"translate(7.2 50.506687) scale(0.1 -0.1)\">\n      <defs>\n       <path id=\"Cmsy10-30\" d=\"M 225 347 \nQ 184 359 184 409 \nL 966 3316 \nQ 1003 3434 1093 3506 \nQ 1184 3578 1300 3578 \nQ 1450 3578 1564 3479 \nQ 1678 3381 1678 3231 \nQ 1678 3166 1644 3084 \nL 488 319 \nQ 466 275 428 275 \nQ 394 275 320 306 \nQ 247 338 225 347 \nz\n\" transform=\"scale(0.015625)\"/>\n      </defs>\n      <use xlink:href=\"#Cmmi10-73\" transform=\"translate(0 0.601562)\"/>\n      <use xlink:href=\"#Cmsy10-30\" transform=\"translate(53.080625 38.865625) scale(0.7)\"/>\n     </g>\n    </g>\n   </g>\n   <g id=\"text_3\">\n    <!-- 1.00 -->\n    <g style=\"fill: #ffffff\" transform=\"translate(21.93 36.871687) scale(0.1 -0.1)\">\n     <defs>\n      <path id=\"STIXGeneral-Regular-31\" d=\"M 2522 0 \nL 755 0 \nL 755 96 \nQ 1107 115 1235 227 \nQ 1363 339 1363 608 \nL 1363 3482 \nQ 1363 3795 1171 3795 \nQ 1082 3795 883 3718 \nL 710 3654 \nL 710 3744 \nL 1856 4326 \nL 1914 4307 \nL 1914 486 \nQ 1914 275 2042 185 \nQ 2170 96 2522 96 \nL 2522 0 \nz\n\" transform=\"scale(0.015625)\"/>\n      <path id=\"STIXGeneral-Regular-2e\" d=\"M 1158 275 \nQ 1158 134 1052 32 \nQ 947 -70 800 -70 \nQ 653 -70 550 32 \nQ 448 134 448 281 \nQ 448 429 553 534 \nQ 659 640 806 640 \nQ 947 640 1052 531 \nQ 1158 422 1158 275 \nz\n\" transform=\"scale(0.015625)\"/>\n      <path id=\"STIXGeneral-Regular-30\" d=\"M 3046 2112 \nQ 3046 1683 2963 1302 \nQ 2880 922 2717 602 \nQ 2554 282 2266 96 \nQ 1978 -90 1600 -90 \nQ 1210 -90 915 108 \nQ 621 307 461 640 \nQ 301 973 227 1350 \nQ 154 1728 154 2150 \nQ 154 2746 301 3222 \nQ 448 3699 790 4012 \nQ 1133 4326 1626 4326 \nQ 2253 4326 2649 3712 \nQ 3046 3098 3046 2112 \nz\nM 2432 2080 \nQ 2432 3091 2217 3625 \nQ 2003 4160 1587 4160 \nQ 1190 4160 979 3622 \nQ 768 3085 768 2106 \nQ 768 1120 979 598 \nQ 1190 77 1600 77 \nQ 2003 77 2217 598 \nQ 2432 1120 2432 2080 \nz\n\" transform=\"scale(0.015625)\"/>\n     </defs>\n     <use xlink:href=\"#STIXGeneral-Regular-31\"/>\n     <use xlink:href=\"#STIXGeneral-Regular-2e\" transform=\"translate(49.999985 0)\"/>\n     <use xlink:href=\"#STIXGeneral-Regular-30\" transform=\"translate(74.999969 0)\"/>\n     <use xlink:href=\"#STIXGeneral-Regular-30\" transform=\"translate(124.999954 0)\"/>\n    </g>\n   </g>\n   <g id=\"text_4\">\n    <!-- 0.20 -->\n    <g style=\"fill: #262626\" transform=\"translate(49.83 36.871687) scale(0.1 -0.1)\">\n     <defs>\n      <path id=\"STIXGeneral-Regular-32\" d=\"M 3034 877 \nL 2688 0 \nL 186 0 \nL 186 77 \nL 1325 1286 \nQ 1773 1754 1965 2144 \nQ 2157 2534 2157 2950 \nQ 2157 3379 1920 3616 \nQ 1683 3853 1267 3853 \nQ 922 3853 720 3673 \nQ 518 3494 326 3021 \nL 192 3053 \nQ 301 3648 630 3987 \nQ 960 4326 1523 4326 \nQ 2054 4326 2380 4006 \nQ 2707 3686 2707 3200 \nQ 2707 2477 1888 1613 \nL 832 486 \nL 2330 486 \nQ 2541 486 2665 569 \nQ 2790 653 2944 915 \nL 3034 877 \nz\n\" transform=\"scale(0.015625)\"/>\n     </defs>\n     <use xlink:href=\"#STIXGeneral-Regular-30\"/>\n     <use xlink:href=\"#STIXGeneral-Regular-2e\" transform=\"translate(49.999985 0)\"/>\n     <use xlink:href=\"#STIXGeneral-Regular-32\" transform=\"translate(74.999969 0)\"/>\n     <use xlink:href=\"#STIXGeneral-Regular-30\" transform=\"translate(124.999954 0)\"/>\n    </g>\n   </g>\n   <g id=\"text_5\">\n    <!-- 0.81 -->\n    <g style=\"fill: #ffffff\" transform=\"translate(77.73 36.871687) scale(0.1 -0.1)\">\n     <defs>\n      <path id=\"STIXGeneral-Regular-38\" d=\"M 2848 992 \nQ 2848 499 2505 204 \nQ 2163 -90 1587 -90 \nQ 1050 -90 704 204 \nQ 358 499 358 954 \nQ 358 1293 524 1533 \nQ 691 1773 1190 2125 \nQ 710 2522 553 2765 \nQ 397 3008 397 3328 \nQ 397 3782 745 4054 \nQ 1094 4326 1638 4326 \nQ 2106 4326 2410 4060 \nQ 2714 3795 2714 3411 \nQ 2714 3059 2531 2848 \nQ 2349 2637 1856 2374 \nQ 2432 1990 2640 1689 \nQ 2848 1389 2848 992 \nz\nM 2272 3411 \nQ 2272 3744 2086 3945 \nQ 1901 4147 1574 4147 \nQ 1248 4147 1059 3977 \nQ 870 3808 870 3513 \nQ 870 3219 1059 2979 \nQ 1248 2739 1670 2490 \nQ 1997 2682 2134 2896 \nQ 2272 3110 2272 3411 \nz\nM 1734 1741 \nL 1357 1997 \nQ 1075 1766 960 1545 \nQ 845 1325 845 1011 \nQ 845 576 1065 333 \nQ 1286 90 1658 90 \nQ 1971 90 2166 285 \nQ 2362 480 2362 794 \nQ 2362 1082 2214 1299 \nQ 2067 1517 1734 1741 \nz\n\" transform=\"scale(0.015625)\"/>\n     </defs>\n     <use xlink:href=\"#STIXGeneral-Regular-30\"/>\n     <use xlink:href=\"#STIXGeneral-Regular-2e\" transform=\"translate(49.999985 0)\"/>\n     <use xlink:href=\"#STIXGeneral-Regular-38\" transform=\"translate(74.999969 0)\"/>\n     <use xlink:href=\"#STIXGeneral-Regular-31\" transform=\"translate(124.999954 0)\"/>\n    </g>\n   </g>\n   <g id=\"text_6\">\n    <!-- 0.00 -->\n    <g style=\"fill: #262626\" transform=\"translate(105.63 36.871687) scale(0.1 -0.1)\">\n     <use xlink:href=\"#STIXGeneral-Regular-30\"/>\n     <use xlink:href=\"#STIXGeneral-Regular-2e\" transform=\"translate(49.999985 0)\"/>\n     <use xlink:href=\"#STIXGeneral-Regular-30\" transform=\"translate(74.999969 0)\"/>\n     <use xlink:href=\"#STIXGeneral-Regular-30\" transform=\"translate(124.999954 0)\"/>\n    </g>\n   </g>\n   <g id=\"text_7\">\n    <!-- 0.00 -->\n    <g style=\"fill: #262626\" transform=\"translate(21.93 64.771687) scale(0.1 -0.1)\">\n     <use xlink:href=\"#STIXGeneral-Regular-30\"/>\n     <use xlink:href=\"#STIXGeneral-Regular-2e\" transform=\"translate(49.999985 0)\"/>\n     <use xlink:href=\"#STIXGeneral-Regular-30\" transform=\"translate(74.999969 0)\"/>\n     <use xlink:href=\"#STIXGeneral-Regular-30\" transform=\"translate(124.999954 0)\"/>\n    </g>\n   </g>\n   <g id=\"text_8\">\n    <!-- 0.80 -->\n    <g style=\"fill: #ffffff\" transform=\"translate(49.83 64.771687) scale(0.1 -0.1)\">\n     <use xlink:href=\"#STIXGeneral-Regular-30\"/>\n     <use xlink:href=\"#STIXGeneral-Regular-2e\" transform=\"translate(49.999985 0)\"/>\n     <use xlink:href=\"#STIXGeneral-Regular-38\" transform=\"translate(74.999969 0)\"/>\n     <use xlink:href=\"#STIXGeneral-Regular-30\" transform=\"translate(124.999954 0)\"/>\n    </g>\n   </g>\n   <g id=\"text_9\">\n    <!-- 0.19 -->\n    <g style=\"fill: #262626\" transform=\"translate(77.73 64.771687) scale(0.1 -0.1)\">\n     <defs>\n      <path id=\"STIXGeneral-Regular-39\" d=\"M 378 -141 \nL 358 -13 \nQ 1094 115 1603 608 \nQ 2112 1101 2304 1882 \nQ 1933 1517 1344 1517 \nQ 826 1517 509 1875 \nQ 192 2234 192 2816 \nQ 192 3462 573 3894 \nQ 954 4326 1523 4326 \nQ 2131 4326 2528 3840 \nQ 2938 3328 2938 2522 \nQ 2938 1958 2742 1462 \nQ 2547 966 2170 621 \nQ 1773 262 1395 105 \nQ 1018 -51 378 -141 \nz\nM 2317 2272 \nL 2317 2522 \nQ 2317 4147 1472 4147 \nQ 1171 4147 1005 3930 \nQ 909 3802 845 3546 \nQ 781 3290 781 3034 \nQ 781 2464 995 2128 \nQ 1210 1792 1568 1792 \nQ 1824 1792 2070 1917 \nQ 2317 2042 2317 2272 \nz\n\" transform=\"scale(0.015625)\"/>\n     </defs>\n     <use xlink:href=\"#STIXGeneral-Regular-30\"/>\n     <use xlink:href=\"#STIXGeneral-Regular-2e\" transform=\"translate(49.999985 0)\"/>\n     <use xlink:href=\"#STIXGeneral-Regular-31\" transform=\"translate(74.999969 0)\"/>\n     <use xlink:href=\"#STIXGeneral-Regular-39\" transform=\"translate(124.999954 0)\"/>\n    </g>\n   </g>\n   <g id=\"text_10\">\n    <!-- 1.00 -->\n    <g style=\"fill: #ffffff\" transform=\"translate(105.63 64.771687) scale(0.1 -0.1)\">\n     <use xlink:href=\"#STIXGeneral-Regular-31\"/>\n     <use xlink:href=\"#STIXGeneral-Regular-2e\" transform=\"translate(49.999985 0)\"/>\n     <use xlink:href=\"#STIXGeneral-Regular-30\" transform=\"translate(74.999969 0)\"/>\n     <use xlink:href=\"#STIXGeneral-Regular-30\" transform=\"translate(124.999954 0)\"/>\n    </g>\n   </g>\n  </g>\n </g>\n <defs>\n  <clipPath id=\"p7d5ffcc62d\">\n   <rect x=\"16.73\" y=\"20.592\" width=\"111.6\" height=\"55.8\"/>\n  </clipPath>\n </defs>\n</svg>\n"
          },
          "metadata": {}
        }
      ]
    },
    {
      "cell_type": "code",
      "source": [
        "df_Rhat_orig = pd.DataFrame(avg_R_orig, index=[0,1], columns=[0,1])\n",
        "\n",
        "fig, ax = plt.subplots(figsize=(1, 1))\n",
        "sns.heatmap(\n",
        "    df_Rhat_orig, ax=ax, annot=True, square=True,\n",
        "    cmap='Blues', fmt='.2f', vmin=0, vmax=1, cbar=False,\n",
        "    linewidths=0.5, linecolor='black', xticklabels=False, yticklabels=False,\n",
        ")\n",
        "ax.tick_params(top=True, bottom=False, labeltop=True, labelbottom=False)\n",
        "plt.tick_params(axis='x', which='both', length=0)\n",
        "plt.tick_params(axis='y', which='both', length=0, rotation=0)\n",
        "plt.xlabel('$\\hat{r}(\\cdot,a)$')\n",
        "plt.ylabel(\"$s$\", rotation=0)\n",
        "ax.xaxis.set_label_coords(0.5, 1.24)\n",
        "ax.yaxis.set_label_coords(-0.15, 0.425)\n",
        "plt.savefig('synthetic_r_hat_orig.pdf', bbox_inches='tight')\n",
        "plt.show()\n",
        "\n",
        "df_Rhat_shifted = pd.DataFrame(avg_R_shifted, index=[0,1], columns=[0,1])\n",
        "\n",
        "fig, ax = plt.subplots(figsize=(1, 1))\n",
        "sns.heatmap(\n",
        "    df_Rhat_shifted, ax=ax, annot=True, square=True,\n",
        "    cmap='Greens', fmt='.2f', vmin=0, vmax=1, cbar=False,\n",
        "    linewidths=0.5, linecolor='black', xticklabels=False, yticklabels=False,\n",
        ")\n",
        "ax.tick_params(top=True, bottom=False, labeltop=True, labelbottom=False)\n",
        "plt.tick_params(axis='x', which='both', length=0)\n",
        "plt.tick_params(axis='y', which='both', length=0, rotation=0)\n",
        "plt.xlabel('$\\hat{r}(\\cdot,a)$')\n",
        "plt.ylabel(\"$s$\", rotation=0)\n",
        "ax.xaxis.set_label_coords(0.5, 1.24)\n",
        "ax.yaxis.set_label_coords(-0.15, 0.425)\n",
        "plt.savefig('synthetic_r_hat_shifted.pdf', bbox_inches='tight')\n",
        "plt.show()"
      ],
      "metadata": {
        "colab": {
          "base_uri": "https://localhost:8080/",
          "height": 246
        },
        "id": "wuMYG-ndJBeQ",
        "outputId": "a5e254c1-78b6-44a1-95f0-9e810a6ade52"
      },
      "execution_count": null,
      "outputs": [
        {
          "output_type": "display_data",
          "data": {
            "text/plain": [
              "<Figure size 100x100 with 1 Axes>"
            ],
            "image/svg+xml": "<?xml version=\"1.0\" encoding=\"utf-8\" standalone=\"no\"?>\n<!DOCTYPE svg PUBLIC \"-//W3C//DTD SVG 1.1//EN\"\n  \"http://www.w3.org/Graphics/SVG/1.1/DTD/svg11.dtd\">\n<svg xmlns:xlink=\"http://www.w3.org/1999/xlink\" width=\"80.506pt\" height=\"83.1456pt\" viewBox=\"0 0 80.506 83.1456\" xmlns=\"http://www.w3.org/2000/svg\" version=\"1.1\">\n <metadata>\n  <rdf:RDF xmlns:dc=\"http://purl.org/dc/elements/1.1/\" xmlns:cc=\"http://creativecommons.org/ns#\" xmlns:rdf=\"http://www.w3.org/1999/02/22-rdf-syntax-ns#\">\n   <cc:Work>\n    <dc:type rdf:resource=\"http://purl.org/dc/dcmitype/StillImage\"/>\n    <dc:date>2025-05-15T00:34:38.204366</dc:date>\n    <dc:format>image/svg+xml</dc:format>\n    <dc:creator>\n     <cc:Agent>\n      <dc:title>Matplotlib v3.10.0, https://matplotlib.org/</dc:title>\n     </cc:Agent>\n    </dc:creator>\n   </cc:Work>\n  </rdf:RDF>\n </metadata>\n <defs>\n  <style type=\"text/css\">*{stroke-linejoin: round; stroke-linecap: butt}</style>\n </defs>\n <g id=\"figure_1\">\n  <g id=\"patch_1\">\n   <path d=\"M 0 83.1456 \nL 80.506 83.1456 \nL 80.506 0 \nL 0 0 \nz\n\" style=\"fill: #ffffff\"/>\n  </g>\n  <g id=\"axes_1\">\n   <g id=\"patch_2\">\n    <path d=\"M 17.866 75.9456 \nL 73.306 75.9456 \nL 73.306 20.5056 \nL 17.866 20.5056 \nz\n\" style=\"fill: #ffffff\"/>\n   </g>\n   <g id=\"QuadMesh_1\">\n    <path d=\"M 17.866 20.5056 \nL 45.586 20.5056 \nL 45.586 48.2256 \nL 17.866 48.2256 \nL 17.866 20.5056 \n\" clip-path=\"url(#pf0a813c2f6)\" style=\"fill: #9ac8e0; stroke: #000000; stroke-width: 0.5\"/>\n    <path d=\"M 45.586 20.5056 \nL 73.306 20.5056 \nL 73.306 48.2256 \nL 45.586 48.2256 \nL 45.586 20.5056 \n\" clip-path=\"url(#pf0a813c2f6)\" style=\"fill: #a1cbe2; stroke: #000000; stroke-width: 0.5\"/>\n    <path d=\"M 17.866 48.2256 \nL 45.586 48.2256 \nL 45.586 75.9456 \nL 17.866 75.9456 \nL 17.866 48.2256 \n\" clip-path=\"url(#pf0a813c2f6)\" style=\"fill: #519ccc; stroke: #000000; stroke-width: 0.5\"/>\n    <path d=\"M 45.586 48.2256 \nL 73.306 48.2256 \nL 73.306 75.9456 \nL 45.586 75.9456 \nL 45.586 48.2256 \n\" clip-path=\"url(#pf0a813c2f6)\" style=\"fill: #4a98c9; stroke: #000000; stroke-width: 0.5\"/>\n   </g>\n   <g id=\"matplotlib.axis_1\">\n    <g id=\"text_1\">\n     <!-- $\\hat{r}(\\cdot,a)$ -->\n     <g transform=\"translate(33.136 14.7) scale(0.1 -0.1)\">\n      <defs>\n       <path id=\"Cmr10-5e\" d=\"M 863 3444 \nL 738 3578 \nL 1600 4441 \nL 2456 3578 \nL 2328 3444 \nL 1600 4084 \nL 863 3444 \nz\n\" transform=\"scale(0.015625)\"/>\n       <path id=\"Cmmi10-72\" d=\"M 494 109 \nQ 494 147 500 166 \nL 978 2075 \nQ 1025 2253 1025 2388 \nQ 1025 2663 838 2663 \nQ 638 2663 541 2423 \nQ 444 2184 353 1819 \nQ 353 1800 334 1789 \nQ 316 1778 300 1778 \nL 225 1778 \nQ 203 1778 187 1801 \nQ 172 1825 172 1844 \nQ 241 2122 305 2315 \nQ 369 2509 505 2668 \nQ 641 2828 844 2828 \nQ 1066 2828 1233 2700 \nQ 1400 2572 1441 2363 \nQ 1603 2575 1811 2701 \nQ 2019 2828 2266 2828 \nQ 2469 2828 2623 2709 \nQ 2778 2591 2778 2388 \nQ 2778 2225 2676 2104 \nQ 2575 1984 2406 1984 \nQ 2303 1984 2233 2048 \nQ 2163 2113 2163 2216 \nQ 2163 2356 2266 2467 \nQ 2369 2578 2503 2578 \nQ 2400 2663 2253 2663 \nQ 1978 2663 1775 2467 \nQ 1572 2272 1409 1972 \nL 953 141 \nQ 931 53 854 -9 \nQ 778 -72 684 -72 \nQ 606 -72 550 -22 \nQ 494 28 494 109 \nz\n\" transform=\"scale(0.015625)\"/>\n       <path id=\"Cmr10-28\" d=\"M 1984 -1588 \nQ 1628 -1306 1370 -942 \nQ 1113 -578 948 -165 \nQ 784 247 703 697 \nQ 622 1147 622 1600 \nQ 622 2059 703 2509 \nQ 784 2959 951 3375 \nQ 1119 3791 1378 4153 \nQ 1638 4516 1984 4788 \nQ 1984 4800 2016 4800 \nL 2075 4800 \nQ 2094 4800 2109 4783 \nQ 2125 4766 2125 4744 \nQ 2125 4716 2113 4703 \nQ 1800 4397 1592 4047 \nQ 1384 3697 1257 3301 \nQ 1131 2906 1075 2482 \nQ 1019 2059 1019 1600 \nQ 1019 -434 2106 -1491 \nQ 2125 -1509 2125 -1544 \nQ 2125 -1559 2108 -1579 \nQ 2091 -1600 2075 -1600 \nL 2016 -1600 \nQ 1984 -1600 1984 -1588 \nz\n\" transform=\"scale(0.015625)\"/>\n       <path id=\"Cmsy10-a2\" d=\"M 538 1600 \nQ 538 1691 584 1772 \nQ 631 1853 714 1903 \nQ 797 1953 891 1953 \nQ 981 1953 1064 1903 \nQ 1147 1853 1194 1772 \nQ 1241 1691 1241 1600 \nQ 1241 1456 1139 1351 \nQ 1038 1247 891 1247 \nQ 747 1247 642 1351 \nQ 538 1456 538 1600 \nz\n\" transform=\"scale(0.015625)\"/>\n       <path id=\"Cmmi10-3b\" d=\"M 634 -1153 \nQ 634 -1125 659 -1100 \nQ 891 -878 1019 -587 \nQ 1147 -297 1147 25 \nL 1147 103 \nQ 1044 0 891 0 \nQ 744 0 641 103 \nQ 538 206 538 353 \nQ 538 503 641 603 \nQ 744 703 891 703 \nQ 1119 703 1216 492 \nQ 1313 281 1313 25 \nQ 1313 -331 1170 -651 \nQ 1028 -972 769 -1228 \nQ 744 -1241 728 -1241 \nQ 697 -1241 665 -1212 \nQ 634 -1184 634 -1153 \nz\n\" transform=\"scale(0.015625)\"/>\n       <path id=\"Cmmi10-61\" d=\"M 1113 -72 \nQ 709 -72 476 233 \nQ 244 538 244 953 \nQ 244 1363 456 1803 \nQ 669 2244 1030 2536 \nQ 1391 2828 1806 2828 \nQ 1997 2828 2147 2725 \nQ 2297 2622 2381 2444 \nQ 2453 2700 2663 2700 \nQ 2744 2700 2798 2651 \nQ 2853 2603 2853 2522 \nQ 2853 2503 2851 2493 \nQ 2850 2484 2847 2472 \nL 2400 684 \nQ 2356 494 2356 372 \nQ 2356 97 2541 97 \nQ 2741 97 2845 351 \nQ 2950 606 3022 941 \nQ 3034 978 3072 978 \nL 3150 978 \nQ 3175 978 3190 956 \nQ 3206 934 3206 916 \nQ 3094 469 2961 198 \nQ 2828 -72 2528 -72 \nQ 2313 -72 2147 54 \nQ 1981 181 1941 391 \nQ 1528 -72 1113 -72 \nz\nM 1119 97 \nQ 1350 97 1567 270 \nQ 1784 444 1941 678 \nQ 1947 684 1947 697 \nL 2291 2088 \nL 2297 2106 \nQ 2259 2334 2132 2498 \nQ 2006 2663 1791 2663 \nQ 1575 2663 1389 2486 \nQ 1203 2309 1075 2069 \nQ 950 1813 836 1366 \nQ 722 919 722 672 \nQ 722 450 817 273 \nQ 913 97 1119 97 \nz\n\" transform=\"scale(0.015625)\"/>\n       <path id=\"Cmr10-29\" d=\"M 416 -1600 \nQ 359 -1600 359 -1544 \nQ 359 -1516 372 -1503 \nQ 1466 -434 1466 1600 \nQ 1466 3634 384 4691 \nQ 359 4706 359 4744 \nQ 359 4766 376 4783 \nQ 394 4800 416 4800 \nL 475 4800 \nQ 494 4800 506 4788 \nQ 966 4425 1272 3906 \nQ 1578 3388 1720 2800 \nQ 1863 2213 1863 1600 \nQ 1863 1147 1786 708 \nQ 1709 269 1542 -157 \nQ 1375 -584 1119 -945 \nQ 863 -1306 506 -1588 \nQ 494 -1600 475 -1600 \nL 416 -1600 \nz\n\" transform=\"scale(0.015625)\"/>\n      </defs>\n      <use xlink:href=\"#Cmr10-5e\" transform=\"translate(2.748047 2.875)\"/>\n      <use xlink:href=\"#Cmmi10-72\"/>\n      <use xlink:href=\"#Cmr10-28\" transform=\"translate(45.117188 0)\"/>\n      <use xlink:href=\"#Cmsy10-a2\" transform=\"translate(83.935547 0)\"/>\n      <use xlink:href=\"#Cmmi10-3b\" transform=\"translate(111.621094 0)\"/>\n      <use xlink:href=\"#Cmmi10-61\" transform=\"translate(156.865234 0)\"/>\n      <use xlink:href=\"#Cmr10-29\" transform=\"translate(209.648438 0)\"/>\n     </g>\n    </g>\n   </g>\n   <g id=\"matplotlib.axis_2\">\n    <g id=\"text_2\">\n     <!-- $s$ -->\n     <g transform=\"translate(7.2 50.213288) scale(0.1 -0.1)\">\n      <defs>\n       <path id=\"Cmmi10-73\" d=\"M 556 391 \nQ 728 97 1247 97 \nQ 1472 97 1675 173 \nQ 1878 250 2011 403 \nQ 2144 556 2144 775 \nQ 2144 941 2025 1047 \nQ 1906 1153 1734 1191 \nL 1388 1259 \nQ 1150 1319 997 1481 \nQ 844 1644 844 1875 \nQ 844 2159 998 2378 \nQ 1153 2597 1406 2712 \nQ 1659 2828 1931 2828 \nQ 2222 2828 2451 2689 \nQ 2681 2550 2681 2278 \nQ 2681 2131 2598 2018 \nQ 2516 1906 2369 1906 \nQ 2284 1906 2223 1961 \nQ 2163 2016 2163 2100 \nQ 2163 2175 2205 2245 \nQ 2247 2316 2317 2358 \nQ 2388 2400 2463 2400 \nQ 2406 2538 2251 2600 \nQ 2097 2663 1919 2663 \nQ 1756 2663 1593 2597 \nQ 1431 2531 1332 2404 \nQ 1234 2278 1234 2106 \nQ 1234 1991 1315 1903 \nQ 1397 1816 1516 1778 \nL 1888 1703 \nQ 2066 1666 2214 1570 \nQ 2363 1475 2448 1329 \nQ 2534 1184 2534 997 \nQ 2534 759 2401 528 \nQ 2269 297 2075 159 \nQ 1734 -72 1241 -72 \nQ 900 -72 615 84 \nQ 331 241 331 550 \nQ 331 725 432 854 \nQ 534 984 709 984 \nQ 813 984 883 921 \nQ 953 859 953 756 \nQ 953 609 843 500 \nQ 734 391 588 391 \nL 556 391 \nz\n\" transform=\"scale(0.015625)\"/>\n      </defs>\n      <use xlink:href=\"#Cmmi10-73\" transform=\"translate(0 0.8125)\"/>\n     </g>\n    </g>\n   </g>\n   <g id=\"text_3\">\n    <!-- 0.39 -->\n    <g style=\"fill: #262626\" transform=\"translate(22.976 36.695287) scale(0.1 -0.1)\">\n     <defs>\n      <path id=\"STIXGeneral-Regular-30\" d=\"M 3046 2112 \nQ 3046 1683 2963 1302 \nQ 2880 922 2717 602 \nQ 2554 282 2266 96 \nQ 1978 -90 1600 -90 \nQ 1210 -90 915 108 \nQ 621 307 461 640 \nQ 301 973 227 1350 \nQ 154 1728 154 2150 \nQ 154 2746 301 3222 \nQ 448 3699 790 4012 \nQ 1133 4326 1626 4326 \nQ 2253 4326 2649 3712 \nQ 3046 3098 3046 2112 \nz\nM 2432 2080 \nQ 2432 3091 2217 3625 \nQ 2003 4160 1587 4160 \nQ 1190 4160 979 3622 \nQ 768 3085 768 2106 \nQ 768 1120 979 598 \nQ 1190 77 1600 77 \nQ 2003 77 2217 598 \nQ 2432 1120 2432 2080 \nz\n\" transform=\"scale(0.015625)\"/>\n      <path id=\"STIXGeneral-Regular-2e\" d=\"M 1158 275 \nQ 1158 134 1052 32 \nQ 947 -70 800 -70 \nQ 653 -70 550 32 \nQ 448 134 448 281 \nQ 448 429 553 534 \nQ 659 640 806 640 \nQ 947 640 1052 531 \nQ 1158 422 1158 275 \nz\n\" transform=\"scale(0.015625)\"/>\n      <path id=\"STIXGeneral-Regular-33\" d=\"M 390 3264 \nL 288 3290 \nQ 435 3770 748 4048 \nQ 1062 4326 1542 4326 \nQ 1990 4326 2265 4083 \nQ 2541 3840 2541 3450 \nQ 2541 2925 1946 2566 \nQ 2298 2413 2477 2227 \nQ 2758 1914 2758 1402 \nQ 2758 890 2464 506 \nQ 2246 211 1840 60 \nQ 1434 -90 979 -90 \nQ 262 -90 262 275 \nQ 262 378 339 442 \nQ 416 506 525 506 \nQ 685 506 915 339 \nQ 1197 141 1466 141 \nQ 1818 141 2058 425 \nQ 2298 710 2298 1120 \nQ 2298 1856 1632 2048 \nQ 1434 2112 979 2112 \nL 979 2202 \nQ 1338 2323 1517 2432 \nQ 2035 2726 2035 3290 \nQ 2035 3610 1852 3776 \nQ 1670 3942 1344 3942 \nQ 768 3942 390 3264 \nz\n\" transform=\"scale(0.015625)\"/>\n      <path id=\"STIXGeneral-Regular-39\" d=\"M 378 -141 \nL 358 -13 \nQ 1094 115 1603 608 \nQ 2112 1101 2304 1882 \nQ 1933 1517 1344 1517 \nQ 826 1517 509 1875 \nQ 192 2234 192 2816 \nQ 192 3462 573 3894 \nQ 954 4326 1523 4326 \nQ 2131 4326 2528 3840 \nQ 2938 3328 2938 2522 \nQ 2938 1958 2742 1462 \nQ 2547 966 2170 621 \nQ 1773 262 1395 105 \nQ 1018 -51 378 -141 \nz\nM 2317 2272 \nL 2317 2522 \nQ 2317 4147 1472 4147 \nQ 1171 4147 1005 3930 \nQ 909 3802 845 3546 \nQ 781 3290 781 3034 \nQ 781 2464 995 2128 \nQ 1210 1792 1568 1792 \nQ 1824 1792 2070 1917 \nQ 2317 2042 2317 2272 \nz\n\" transform=\"scale(0.015625)\"/>\n     </defs>\n     <use xlink:href=\"#STIXGeneral-Regular-30\"/>\n     <use xlink:href=\"#STIXGeneral-Regular-2e\" transform=\"translate(49.999985 0)\"/>\n     <use xlink:href=\"#STIXGeneral-Regular-33\" transform=\"translate(74.999969 0)\"/>\n     <use xlink:href=\"#STIXGeneral-Regular-39\" transform=\"translate(124.999954 0)\"/>\n    </g>\n   </g>\n   <g id=\"text_4\">\n    <!-- 0.36 -->\n    <g style=\"fill: #262626\" transform=\"translate(50.696 36.695287) scale(0.1 -0.1)\">\n     <defs>\n      <path id=\"STIXGeneral-Regular-36\" d=\"M 2854 4378 \nL 2867 4275 \nQ 2112 4154 1606 3664 \nQ 1101 3174 973 2451 \nQ 1344 2739 1786 2739 \nQ 2349 2739 2672 2380 \nQ 2995 2022 2995 1402 \nQ 2995 774 2669 378 \nQ 2291 -90 1651 -90 \nQ 870 -90 518 557 \nQ 218 1107 218 1786 \nQ 218 2835 915 3552 \nQ 1312 3962 1731 4131 \nQ 2150 4301 2854 4378 \nz\nM 2419 1203 \nQ 2419 2445 1555 2445 \nQ 1235 2445 1024 2275 \nQ 813 2106 813 1702 \nQ 813 954 1046 522 \nQ 1280 90 1722 90 \nQ 2061 90 2240 394 \nQ 2419 698 2419 1203 \nz\n\" transform=\"scale(0.015625)\"/>\n     </defs>\n     <use xlink:href=\"#STIXGeneral-Regular-30\"/>\n     <use xlink:href=\"#STIXGeneral-Regular-2e\" transform=\"translate(49.999985 0)\"/>\n     <use xlink:href=\"#STIXGeneral-Regular-33\" transform=\"translate(74.999969 0)\"/>\n     <use xlink:href=\"#STIXGeneral-Regular-36\" transform=\"translate(124.999954 0)\"/>\n    </g>\n   </g>\n   <g id=\"text_5\">\n    <!-- 0.58 -->\n    <g style=\"fill: #ffffff\" transform=\"translate(22.976 64.415288) scale(0.1 -0.1)\">\n     <defs>\n      <path id=\"STIXGeneral-Regular-35\" d=\"M 2803 4358 \nL 2573 3814 \nQ 2534 3731 2400 3731 \nL 1158 3731 \nL 902 3187 \nQ 1606 3053 1920 2896 \nQ 2234 2739 2502 2368 \nQ 2726 2061 2726 1555 \nQ 2726 1094 2576 780 \nQ 2426 467 2099 224 \nQ 1664 -90 1011 -90 \nQ 646 -90 422 19 \nQ 198 128 198 307 \nQ 198 550 486 550 \nQ 717 550 960 352 \nQ 1210 147 1414 147 \nQ 1747 147 2012 480 \nQ 2278 813 2278 1229 \nQ 2278 1843 1850 2189 \nQ 1293 2637 486 2637 \nQ 410 2637 410 2688 \nL 416 2720 \nL 1114 4237 \nL 2438 4237 \nQ 2547 4237 2608 4269 \nQ 2669 4301 2746 4403 \nL 2803 4358 \nz\n\" transform=\"scale(0.015625)\"/>\n      <path id=\"STIXGeneral-Regular-38\" d=\"M 2848 992 \nQ 2848 499 2505 204 \nQ 2163 -90 1587 -90 \nQ 1050 -90 704 204 \nQ 358 499 358 954 \nQ 358 1293 524 1533 \nQ 691 1773 1190 2125 \nQ 710 2522 553 2765 \nQ 397 3008 397 3328 \nQ 397 3782 745 4054 \nQ 1094 4326 1638 4326 \nQ 2106 4326 2410 4060 \nQ 2714 3795 2714 3411 \nQ 2714 3059 2531 2848 \nQ 2349 2637 1856 2374 \nQ 2432 1990 2640 1689 \nQ 2848 1389 2848 992 \nz\nM 2272 3411 \nQ 2272 3744 2086 3945 \nQ 1901 4147 1574 4147 \nQ 1248 4147 1059 3977 \nQ 870 3808 870 3513 \nQ 870 3219 1059 2979 \nQ 1248 2739 1670 2490 \nQ 1997 2682 2134 2896 \nQ 2272 3110 2272 3411 \nz\nM 1734 1741 \nL 1357 1997 \nQ 1075 1766 960 1545 \nQ 845 1325 845 1011 \nQ 845 576 1065 333 \nQ 1286 90 1658 90 \nQ 1971 90 2166 285 \nQ 2362 480 2362 794 \nQ 2362 1082 2214 1299 \nQ 2067 1517 1734 1741 \nz\n\" transform=\"scale(0.015625)\"/>\n     </defs>\n     <use xlink:href=\"#STIXGeneral-Regular-30\"/>\n     <use xlink:href=\"#STIXGeneral-Regular-2e\" transform=\"translate(49.999985 0)\"/>\n     <use xlink:href=\"#STIXGeneral-Regular-35\" transform=\"translate(74.999969 0)\"/>\n     <use xlink:href=\"#STIXGeneral-Regular-38\" transform=\"translate(124.999954 0)\"/>\n    </g>\n   </g>\n   <g id=\"text_6\">\n    <!-- 0.60 -->\n    <g style=\"fill: #ffffff\" transform=\"translate(50.696 64.415288) scale(0.1 -0.1)\">\n     <use xlink:href=\"#STIXGeneral-Regular-30\"/>\n     <use xlink:href=\"#STIXGeneral-Regular-2e\" transform=\"translate(49.999985 0)\"/>\n     <use xlink:href=\"#STIXGeneral-Regular-36\" transform=\"translate(74.999969 0)\"/>\n     <use xlink:href=\"#STIXGeneral-Regular-30\" transform=\"translate(124.999954 0)\"/>\n    </g>\n   </g>\n  </g>\n </g>\n <defs>\n  <clipPath id=\"pf0a813c2f6\">\n   <rect x=\"17.866\" y=\"20.5056\" width=\"55.44\" height=\"55.44\"/>\n  </clipPath>\n </defs>\n</svg>\n"
          },
          "metadata": {}
        },
        {
          "output_type": "display_data",
          "data": {
            "text/plain": [
              "<Figure size 100x100 with 1 Axes>"
            ],
            "image/svg+xml": "<?xml version=\"1.0\" encoding=\"utf-8\" standalone=\"no\"?>\n<!DOCTYPE svg PUBLIC \"-//W3C//DTD SVG 1.1//EN\"\n  \"http://www.w3.org/Graphics/SVG/1.1/DTD/svg11.dtd\">\n<svg xmlns:xlink=\"http://www.w3.org/1999/xlink\" width=\"80.506pt\" height=\"83.1456pt\" viewBox=\"0 0 80.506 83.1456\" xmlns=\"http://www.w3.org/2000/svg\" version=\"1.1\">\n <metadata>\n  <rdf:RDF xmlns:dc=\"http://purl.org/dc/elements/1.1/\" xmlns:cc=\"http://creativecommons.org/ns#\" xmlns:rdf=\"http://www.w3.org/1999/02/22-rdf-syntax-ns#\">\n   <cc:Work>\n    <dc:type rdf:resource=\"http://purl.org/dc/dcmitype/StillImage\"/>\n    <dc:date>2025-05-15T00:34:38.323258</dc:date>\n    <dc:format>image/svg+xml</dc:format>\n    <dc:creator>\n     <cc:Agent>\n      <dc:title>Matplotlib v3.10.0, https://matplotlib.org/</dc:title>\n     </cc:Agent>\n    </dc:creator>\n   </cc:Work>\n  </rdf:RDF>\n </metadata>\n <defs>\n  <style type=\"text/css\">*{stroke-linejoin: round; stroke-linecap: butt}</style>\n </defs>\n <g id=\"figure_1\">\n  <g id=\"patch_1\">\n   <path d=\"M 0 83.1456 \nL 80.506 83.1456 \nL 80.506 0 \nL 0 0 \nz\n\" style=\"fill: #ffffff\"/>\n  </g>\n  <g id=\"axes_1\">\n   <g id=\"patch_2\">\n    <path d=\"M 17.866 75.9456 \nL 73.306 75.9456 \nL 73.306 20.5056 \nL 17.866 20.5056 \nz\n\" style=\"fill: #ffffff\"/>\n   </g>\n   <g id=\"QuadMesh_1\">\n    <path d=\"M 17.866 20.5056 \nL 45.586 20.5056 \nL 45.586 48.2256 \nL 17.866 48.2256 \nL 17.866 20.5056 \n\" clip-path=\"url(#pe11e48e29f)\" style=\"fill: #f7fcf5; stroke: #000000; stroke-width: 0.5\"/>\n    <path d=\"M 45.586 20.5056 \nL 73.306 20.5056 \nL 73.306 48.2256 \nL 45.586 48.2256 \nL 45.586 20.5056 \n\" clip-path=\"url(#pe11e48e29f)\" style=\"fill: #157f3b; stroke: #000000; stroke-width: 0.5\"/>\n    <path d=\"M 17.866 48.2256 \nL 45.586 48.2256 \nL 45.586 75.9456 \nL 17.866 75.9456 \nL 17.866 48.2256 \n\" clip-path=\"url(#pe11e48e29f)\" style=\"fill: #d6efd0; stroke: #000000; stroke-width: 0.5\"/>\n    <path d=\"M 45.586 48.2256 \nL 73.306 48.2256 \nL 73.306 75.9456 \nL 45.586 75.9456 \nL 45.586 48.2256 \n\" clip-path=\"url(#pe11e48e29f)\" style=\"fill: #00441b; stroke: #000000; stroke-width: 0.5\"/>\n   </g>\n   <g id=\"matplotlib.axis_1\">\n    <g id=\"text_1\">\n     <!-- $\\hat{r}(\\cdot,a)$ -->\n     <g transform=\"translate(33.136 14.7) scale(0.1 -0.1)\">\n      <defs>\n       <path id=\"Cmr10-5e\" d=\"M 863 3444 \nL 738 3578 \nL 1600 4441 \nL 2456 3578 \nL 2328 3444 \nL 1600 4084 \nL 863 3444 \nz\n\" transform=\"scale(0.015625)\"/>\n       <path id=\"Cmmi10-72\" d=\"M 494 109 \nQ 494 147 500 166 \nL 978 2075 \nQ 1025 2253 1025 2388 \nQ 1025 2663 838 2663 \nQ 638 2663 541 2423 \nQ 444 2184 353 1819 \nQ 353 1800 334 1789 \nQ 316 1778 300 1778 \nL 225 1778 \nQ 203 1778 187 1801 \nQ 172 1825 172 1844 \nQ 241 2122 305 2315 \nQ 369 2509 505 2668 \nQ 641 2828 844 2828 \nQ 1066 2828 1233 2700 \nQ 1400 2572 1441 2363 \nQ 1603 2575 1811 2701 \nQ 2019 2828 2266 2828 \nQ 2469 2828 2623 2709 \nQ 2778 2591 2778 2388 \nQ 2778 2225 2676 2104 \nQ 2575 1984 2406 1984 \nQ 2303 1984 2233 2048 \nQ 2163 2113 2163 2216 \nQ 2163 2356 2266 2467 \nQ 2369 2578 2503 2578 \nQ 2400 2663 2253 2663 \nQ 1978 2663 1775 2467 \nQ 1572 2272 1409 1972 \nL 953 141 \nQ 931 53 854 -9 \nQ 778 -72 684 -72 \nQ 606 -72 550 -22 \nQ 494 28 494 109 \nz\n\" transform=\"scale(0.015625)\"/>\n       <path id=\"Cmr10-28\" d=\"M 1984 -1588 \nQ 1628 -1306 1370 -942 \nQ 1113 -578 948 -165 \nQ 784 247 703 697 \nQ 622 1147 622 1600 \nQ 622 2059 703 2509 \nQ 784 2959 951 3375 \nQ 1119 3791 1378 4153 \nQ 1638 4516 1984 4788 \nQ 1984 4800 2016 4800 \nL 2075 4800 \nQ 2094 4800 2109 4783 \nQ 2125 4766 2125 4744 \nQ 2125 4716 2113 4703 \nQ 1800 4397 1592 4047 \nQ 1384 3697 1257 3301 \nQ 1131 2906 1075 2482 \nQ 1019 2059 1019 1600 \nQ 1019 -434 2106 -1491 \nQ 2125 -1509 2125 -1544 \nQ 2125 -1559 2108 -1579 \nQ 2091 -1600 2075 -1600 \nL 2016 -1600 \nQ 1984 -1600 1984 -1588 \nz\n\" transform=\"scale(0.015625)\"/>\n       <path id=\"Cmsy10-a2\" d=\"M 538 1600 \nQ 538 1691 584 1772 \nQ 631 1853 714 1903 \nQ 797 1953 891 1953 \nQ 981 1953 1064 1903 \nQ 1147 1853 1194 1772 \nQ 1241 1691 1241 1600 \nQ 1241 1456 1139 1351 \nQ 1038 1247 891 1247 \nQ 747 1247 642 1351 \nQ 538 1456 538 1600 \nz\n\" transform=\"scale(0.015625)\"/>\n       <path id=\"Cmmi10-3b\" d=\"M 634 -1153 \nQ 634 -1125 659 -1100 \nQ 891 -878 1019 -587 \nQ 1147 -297 1147 25 \nL 1147 103 \nQ 1044 0 891 0 \nQ 744 0 641 103 \nQ 538 206 538 353 \nQ 538 503 641 603 \nQ 744 703 891 703 \nQ 1119 703 1216 492 \nQ 1313 281 1313 25 \nQ 1313 -331 1170 -651 \nQ 1028 -972 769 -1228 \nQ 744 -1241 728 -1241 \nQ 697 -1241 665 -1212 \nQ 634 -1184 634 -1153 \nz\n\" transform=\"scale(0.015625)\"/>\n       <path id=\"Cmmi10-61\" d=\"M 1113 -72 \nQ 709 -72 476 233 \nQ 244 538 244 953 \nQ 244 1363 456 1803 \nQ 669 2244 1030 2536 \nQ 1391 2828 1806 2828 \nQ 1997 2828 2147 2725 \nQ 2297 2622 2381 2444 \nQ 2453 2700 2663 2700 \nQ 2744 2700 2798 2651 \nQ 2853 2603 2853 2522 \nQ 2853 2503 2851 2493 \nQ 2850 2484 2847 2472 \nL 2400 684 \nQ 2356 494 2356 372 \nQ 2356 97 2541 97 \nQ 2741 97 2845 351 \nQ 2950 606 3022 941 \nQ 3034 978 3072 978 \nL 3150 978 \nQ 3175 978 3190 956 \nQ 3206 934 3206 916 \nQ 3094 469 2961 198 \nQ 2828 -72 2528 -72 \nQ 2313 -72 2147 54 \nQ 1981 181 1941 391 \nQ 1528 -72 1113 -72 \nz\nM 1119 97 \nQ 1350 97 1567 270 \nQ 1784 444 1941 678 \nQ 1947 684 1947 697 \nL 2291 2088 \nL 2297 2106 \nQ 2259 2334 2132 2498 \nQ 2006 2663 1791 2663 \nQ 1575 2663 1389 2486 \nQ 1203 2309 1075 2069 \nQ 950 1813 836 1366 \nQ 722 919 722 672 \nQ 722 450 817 273 \nQ 913 97 1119 97 \nz\n\" transform=\"scale(0.015625)\"/>\n       <path id=\"Cmr10-29\" d=\"M 416 -1600 \nQ 359 -1600 359 -1544 \nQ 359 -1516 372 -1503 \nQ 1466 -434 1466 1600 \nQ 1466 3634 384 4691 \nQ 359 4706 359 4744 \nQ 359 4766 376 4783 \nQ 394 4800 416 4800 \nL 475 4800 \nQ 494 4800 506 4788 \nQ 966 4425 1272 3906 \nQ 1578 3388 1720 2800 \nQ 1863 2213 1863 1600 \nQ 1863 1147 1786 708 \nQ 1709 269 1542 -157 \nQ 1375 -584 1119 -945 \nQ 863 -1306 506 -1588 \nQ 494 -1600 475 -1600 \nL 416 -1600 \nz\n\" transform=\"scale(0.015625)\"/>\n      </defs>\n      <use xlink:href=\"#Cmr10-5e\" transform=\"translate(2.748047 2.875)\"/>\n      <use xlink:href=\"#Cmmi10-72\"/>\n      <use xlink:href=\"#Cmr10-28\" transform=\"translate(45.117188 0)\"/>\n      <use xlink:href=\"#Cmsy10-a2\" transform=\"translate(83.935547 0)\"/>\n      <use xlink:href=\"#Cmmi10-3b\" transform=\"translate(111.621094 0)\"/>\n      <use xlink:href=\"#Cmmi10-61\" transform=\"translate(156.865234 0)\"/>\n      <use xlink:href=\"#Cmr10-29\" transform=\"translate(209.648438 0)\"/>\n     </g>\n    </g>\n   </g>\n   <g id=\"matplotlib.axis_2\">\n    <g id=\"text_2\">\n     <!-- $s$ -->\n     <g transform=\"translate(7.2 50.213288) scale(0.1 -0.1)\">\n      <defs>\n       <path id=\"Cmmi10-73\" d=\"M 556 391 \nQ 728 97 1247 97 \nQ 1472 97 1675 173 \nQ 1878 250 2011 403 \nQ 2144 556 2144 775 \nQ 2144 941 2025 1047 \nQ 1906 1153 1734 1191 \nL 1388 1259 \nQ 1150 1319 997 1481 \nQ 844 1644 844 1875 \nQ 844 2159 998 2378 \nQ 1153 2597 1406 2712 \nQ 1659 2828 1931 2828 \nQ 2222 2828 2451 2689 \nQ 2681 2550 2681 2278 \nQ 2681 2131 2598 2018 \nQ 2516 1906 2369 1906 \nQ 2284 1906 2223 1961 \nQ 2163 2016 2163 2100 \nQ 2163 2175 2205 2245 \nQ 2247 2316 2317 2358 \nQ 2388 2400 2463 2400 \nQ 2406 2538 2251 2600 \nQ 2097 2663 1919 2663 \nQ 1756 2663 1593 2597 \nQ 1431 2531 1332 2404 \nQ 1234 2278 1234 2106 \nQ 1234 1991 1315 1903 \nQ 1397 1816 1516 1778 \nL 1888 1703 \nQ 2066 1666 2214 1570 \nQ 2363 1475 2448 1329 \nQ 2534 1184 2534 997 \nQ 2534 759 2401 528 \nQ 2269 297 2075 159 \nQ 1734 -72 1241 -72 \nQ 900 -72 615 84 \nQ 331 241 331 550 \nQ 331 725 432 854 \nQ 534 984 709 984 \nQ 813 984 883 921 \nQ 953 859 953 756 \nQ 953 609 843 500 \nQ 734 391 588 391 \nL 556 391 \nz\n\" transform=\"scale(0.015625)\"/>\n      </defs>\n      <use xlink:href=\"#Cmmi10-73\" transform=\"translate(0 0.8125)\"/>\n     </g>\n    </g>\n   </g>\n   <g id=\"text_3\">\n    <!-- 0.00 -->\n    <g style=\"fill: #262626\" transform=\"translate(22.976 36.695287) scale(0.1 -0.1)\">\n     <defs>\n      <path id=\"STIXGeneral-Regular-30\" d=\"M 3046 2112 \nQ 3046 1683 2963 1302 \nQ 2880 922 2717 602 \nQ 2554 282 2266 96 \nQ 1978 -90 1600 -90 \nQ 1210 -90 915 108 \nQ 621 307 461 640 \nQ 301 973 227 1350 \nQ 154 1728 154 2150 \nQ 154 2746 301 3222 \nQ 448 3699 790 4012 \nQ 1133 4326 1626 4326 \nQ 2253 4326 2649 3712 \nQ 3046 3098 3046 2112 \nz\nM 2432 2080 \nQ 2432 3091 2217 3625 \nQ 2003 4160 1587 4160 \nQ 1190 4160 979 3622 \nQ 768 3085 768 2106 \nQ 768 1120 979 598 \nQ 1190 77 1600 77 \nQ 2003 77 2217 598 \nQ 2432 1120 2432 2080 \nz\n\" transform=\"scale(0.015625)\"/>\n      <path id=\"STIXGeneral-Regular-2e\" d=\"M 1158 275 \nQ 1158 134 1052 32 \nQ 947 -70 800 -70 \nQ 653 -70 550 32 \nQ 448 134 448 281 \nQ 448 429 553 534 \nQ 659 640 806 640 \nQ 947 640 1052 531 \nQ 1158 422 1158 275 \nz\n\" transform=\"scale(0.015625)\"/>\n     </defs>\n     <use xlink:href=\"#STIXGeneral-Regular-30\"/>\n     <use xlink:href=\"#STIXGeneral-Regular-2e\" transform=\"translate(49.999985 0)\"/>\n     <use xlink:href=\"#STIXGeneral-Regular-30\" transform=\"translate(74.999969 0)\"/>\n     <use xlink:href=\"#STIXGeneral-Regular-30\" transform=\"translate(124.999954 0)\"/>\n    </g>\n   </g>\n   <g id=\"text_4\">\n    <!-- 0.80 -->\n    <g style=\"fill: #ffffff\" transform=\"translate(50.696 36.695287) scale(0.1 -0.1)\">\n     <defs>\n      <path id=\"STIXGeneral-Regular-38\" d=\"M 2848 992 \nQ 2848 499 2505 204 \nQ 2163 -90 1587 -90 \nQ 1050 -90 704 204 \nQ 358 499 358 954 \nQ 358 1293 524 1533 \nQ 691 1773 1190 2125 \nQ 710 2522 553 2765 \nQ 397 3008 397 3328 \nQ 397 3782 745 4054 \nQ 1094 4326 1638 4326 \nQ 2106 4326 2410 4060 \nQ 2714 3795 2714 3411 \nQ 2714 3059 2531 2848 \nQ 2349 2637 1856 2374 \nQ 2432 1990 2640 1689 \nQ 2848 1389 2848 992 \nz\nM 2272 3411 \nQ 2272 3744 2086 3945 \nQ 1901 4147 1574 4147 \nQ 1248 4147 1059 3977 \nQ 870 3808 870 3513 \nQ 870 3219 1059 2979 \nQ 1248 2739 1670 2490 \nQ 1997 2682 2134 2896 \nQ 2272 3110 2272 3411 \nz\nM 1734 1741 \nL 1357 1997 \nQ 1075 1766 960 1545 \nQ 845 1325 845 1011 \nQ 845 576 1065 333 \nQ 1286 90 1658 90 \nQ 1971 90 2166 285 \nQ 2362 480 2362 794 \nQ 2362 1082 2214 1299 \nQ 2067 1517 1734 1741 \nz\n\" transform=\"scale(0.015625)\"/>\n     </defs>\n     <use xlink:href=\"#STIXGeneral-Regular-30\"/>\n     <use xlink:href=\"#STIXGeneral-Regular-2e\" transform=\"translate(49.999985 0)\"/>\n     <use xlink:href=\"#STIXGeneral-Regular-38\" transform=\"translate(74.999969 0)\"/>\n     <use xlink:href=\"#STIXGeneral-Regular-30\" transform=\"translate(124.999954 0)\"/>\n    </g>\n   </g>\n   <g id=\"text_5\">\n    <!-- 0.19 -->\n    <g style=\"fill: #262626\" transform=\"translate(22.976 64.415288) scale(0.1 -0.1)\">\n     <defs>\n      <path id=\"STIXGeneral-Regular-31\" d=\"M 2522 0 \nL 755 0 \nL 755 96 \nQ 1107 115 1235 227 \nQ 1363 339 1363 608 \nL 1363 3482 \nQ 1363 3795 1171 3795 \nQ 1082 3795 883 3718 \nL 710 3654 \nL 710 3744 \nL 1856 4326 \nL 1914 4307 \nL 1914 486 \nQ 1914 275 2042 185 \nQ 2170 96 2522 96 \nL 2522 0 \nz\n\" transform=\"scale(0.015625)\"/>\n      <path id=\"STIXGeneral-Regular-39\" d=\"M 378 -141 \nL 358 -13 \nQ 1094 115 1603 608 \nQ 2112 1101 2304 1882 \nQ 1933 1517 1344 1517 \nQ 826 1517 509 1875 \nQ 192 2234 192 2816 \nQ 192 3462 573 3894 \nQ 954 4326 1523 4326 \nQ 2131 4326 2528 3840 \nQ 2938 3328 2938 2522 \nQ 2938 1958 2742 1462 \nQ 2547 966 2170 621 \nQ 1773 262 1395 105 \nQ 1018 -51 378 -141 \nz\nM 2317 2272 \nL 2317 2522 \nQ 2317 4147 1472 4147 \nQ 1171 4147 1005 3930 \nQ 909 3802 845 3546 \nQ 781 3290 781 3034 \nQ 781 2464 995 2128 \nQ 1210 1792 1568 1792 \nQ 1824 1792 2070 1917 \nQ 2317 2042 2317 2272 \nz\n\" transform=\"scale(0.015625)\"/>\n     </defs>\n     <use xlink:href=\"#STIXGeneral-Regular-30\"/>\n     <use xlink:href=\"#STIXGeneral-Regular-2e\" transform=\"translate(49.999985 0)\"/>\n     <use xlink:href=\"#STIXGeneral-Regular-31\" transform=\"translate(74.999969 0)\"/>\n     <use xlink:href=\"#STIXGeneral-Regular-39\" transform=\"translate(124.999954 0)\"/>\n    </g>\n   </g>\n   <g id=\"text_6\">\n    <!-- 1.00 -->\n    <g style=\"fill: #ffffff\" transform=\"translate(50.696 64.415288) scale(0.1 -0.1)\">\n     <use xlink:href=\"#STIXGeneral-Regular-31\"/>\n     <use xlink:href=\"#STIXGeneral-Regular-2e\" transform=\"translate(49.999985 0)\"/>\n     <use xlink:href=\"#STIXGeneral-Regular-30\" transform=\"translate(74.999969 0)\"/>\n     <use xlink:href=\"#STIXGeneral-Regular-30\" transform=\"translate(124.999954 0)\"/>\n    </g>\n   </g>\n  </g>\n </g>\n <defs>\n  <clipPath id=\"pe11e48e29f\">\n   <rect x=\"17.866\" y=\"20.5056\" width=\"55.44\" height=\"55.44\"/>\n  </clipPath>\n </defs>\n</svg>\n"
          },
          "metadata": {}
        }
      ]
    },
    {
      "cell_type": "code",
      "source": [
        "df_Vhat_orig = pd.DataFrame(avg_V_orig, index=[0,1])\n",
        "\n",
        "fig, ax = plt.subplots(figsize=(1, 1))\n",
        "sns.heatmap(\n",
        "    df_Vhat_orig, ax=ax, annot=True, square=True,\n",
        "    cmap='Blues', fmt='.2f', vmin=0, vmax=10, cbar=False,\n",
        "    linewidths=0.5, linecolor='black', xticklabels=False, yticklabels=False,\n",
        ")\n",
        "ax.tick_params(top=True, bottom=False, labeltop=True, labelbottom=False)\n",
        "plt.tick_params(axis='x', which='both', length=0)\n",
        "plt.tick_params(axis='y', which='both', length=0, rotation=0)\n",
        "plt.xlabel('$V^{*}(s)$')\n",
        "ax.xaxis.set_label_coords(0.5, 1.24)\n",
        "plt.savefig('synthetic_Vstar_orig.pdf', bbox_inches='tight')\n",
        "plt.show()\n",
        "\n",
        "df_Vhat_shifted = pd.DataFrame(avg_V_shifted, index=[0,1])\n",
        "\n",
        "fig, ax = plt.subplots(figsize=(1, 1))\n",
        "sns.heatmap(\n",
        "    df_Vhat_shifted, ax=ax, annot=True, square=True,\n",
        "    cmap='Greens', fmt='.2f', vmin=0, vmax=10, cbar=False,\n",
        "    linewidths=0.5, linecolor='black', xticklabels=False, yticklabels=False,\n",
        ")\n",
        "ax.tick_params(top=True, bottom=False, labeltop=True, labelbottom=False)\n",
        "plt.tick_params(axis='x', which='both', length=0)\n",
        "plt.tick_params(axis='y', which='both', length=0, rotation=0)\n",
        "plt.xlabel('$V^{*}(s)$')\n",
        "ax.xaxis.set_label_coords(0.5, 1.24)\n",
        "plt.savefig('synthetic_Vstar_shifted.pdf', bbox_inches='tight')\n",
        "plt.show()"
      ],
      "metadata": {
        "colab": {
          "base_uri": "https://localhost:8080/",
          "height": 246
        },
        "id": "KOB6l-QVMJ0V",
        "outputId": "99fa4277-e39e-4c56-af00-251ffb7b0796"
      },
      "execution_count": null,
      "outputs": [
        {
          "output_type": "display_data",
          "data": {
            "text/plain": [
              "<Figure size 100x100 with 1 Axes>"
            ],
            "image/svg+xml": "<?xml version=\"1.0\" encoding=\"utf-8\" standalone=\"no\"?>\n<!DOCTYPE svg PUBLIC \"-//W3C//DTD SVG 1.1//EN\"\n  \"http://www.w3.org/Graphics/SVG/1.1/DTD/svg11.dtd\">\n<svg xmlns:xlink=\"http://www.w3.org/1999/xlink\" width=\"42.12pt\" height=\"83.1456pt\" viewBox=\"0 0 42.12 83.1456\" xmlns=\"http://www.w3.org/2000/svg\" version=\"1.1\">\n <metadata>\n  <rdf:RDF xmlns:dc=\"http://purl.org/dc/elements/1.1/\" xmlns:cc=\"http://creativecommons.org/ns#\" xmlns:rdf=\"http://www.w3.org/1999/02/22-rdf-syntax-ns#\">\n   <cc:Work>\n    <dc:type rdf:resource=\"http://purl.org/dc/dcmitype/StillImage\"/>\n    <dc:date>2025-05-15T00:28:58.178846</dc:date>\n    <dc:format>image/svg+xml</dc:format>\n    <dc:creator>\n     <cc:Agent>\n      <dc:title>Matplotlib v3.10.0, https://matplotlib.org/</dc:title>\n     </cc:Agent>\n    </dc:creator>\n   </cc:Work>\n  </rdf:RDF>\n </metadata>\n <defs>\n  <style type=\"text/css\">*{stroke-linejoin: round; stroke-linecap: butt}</style>\n </defs>\n <g id=\"figure_1\">\n  <g id=\"patch_1\">\n   <path d=\"M 0 83.1456 \nL 42.12 83.1456 \nL 42.12 0 \nL 0 0 \nz\n\" style=\"fill: #ffffff\"/>\n  </g>\n  <g id=\"axes_1\">\n   <g id=\"patch_2\">\n    <path d=\"M 7.2 75.9456 \nL 34.92 75.9456 \nL 34.92 20.5056 \nL 7.2 20.5056 \nz\n\" style=\"fill: #ffffff\"/>\n   </g>\n   <g id=\"QuadMesh_1\">\n    <path d=\"M 7.2 20.5056 \nL 34.92 20.5056 \nL 34.92 48.2256 \nL 7.2 48.2256 \nL 7.2 20.5056 \n\" clip-path=\"url(#p75cd86ae03)\" style=\"fill: #77b5d9; stroke: #000000; stroke-width: 0.5\"/>\n    <path d=\"M 7.2 48.2256 \nL 34.92 48.2256 \nL 34.92 75.9456 \nL 7.2 75.9456 \nL 7.2 48.2256 \n\" clip-path=\"url(#p75cd86ae03)\" style=\"fill: #64a9d3; stroke: #000000; stroke-width: 0.5\"/>\n   </g>\n   <g id=\"matplotlib.axis_1\">\n    <g id=\"text_1\">\n     <!-- $V^{*}(s)$ -->\n     <g transform=\"translate(9.26 14.7) scale(0.1 -0.1)\">\n      <defs>\n       <path id=\"Cmmi10-56\" d=\"M 1409 -72 \nL 897 4006 \nQ 850 4147 416 4147 \nQ 353 4147 353 4231 \nQ 366 4300 384 4336 \nQ 403 4372 459 4372 \nL 2022 4372 \nQ 2056 4372 2072 4347 \nQ 2088 4322 2088 4288 \nQ 2063 4147 2003 4147 \nQ 1503 4147 1472 3975 \nL 1894 628 \nL 3866 3775 \nQ 3922 3881 3922 3944 \nQ 3922 4056 3820 4101 \nQ 3719 4147 3584 4147 \nQ 3519 4147 3519 4231 \nQ 3531 4281 3540 4309 \nQ 3550 4338 3569 4355 \nQ 3588 4372 3628 4372 \nL 4863 4372 \nQ 4922 4372 4922 4288 \nQ 4897 4147 4838 4147 \nQ 4356 4147 4084 3725 \nQ 4072 3713 4063 3713 \nL 1703 -72 \nQ 1656 -141 1581 -141 \nL 1491 -141 \nQ 1419 -141 1409 -72 \nz\n\" transform=\"scale(0.015625)\"/>\n       <path id=\"Cmsy10-a4\" d=\"M 603 813 \nQ 531 813 473 873 \nQ 416 934 416 1006 \nQ 416 1116 506 1159 \nL 1428 1600 \nL 506 2034 \nQ 416 2072 416 2188 \nQ 416 2259 473 2320 \nQ 531 2381 603 2381 \nQ 650 2381 691 2350 \nL 1509 1753 \nL 1416 2797 \nQ 1416 2875 1469 2925 \nQ 1522 2975 1600 2975 \nQ 1675 2975 1726 2928 \nQ 1778 2881 1778 2809 \nL 1778 2797 \nL 1684 1753 \nL 2503 2350 \nQ 2544 2381 2591 2381 \nQ 2669 2381 2723 2320 \nQ 2778 2259 2778 2188 \nQ 2778 2072 2688 2034 \nL 1766 1600 \nL 2688 1159 \nQ 2778 1116 2778 1006 \nQ 2778 934 2723 873 \nQ 2669 813 2591 813 \nQ 2544 813 2503 844 \nL 1684 1441 \nL 1778 403 \nL 1778 384 \nQ 1778 313 1723 266 \nQ 1669 219 1600 219 \nQ 1525 219 1470 270 \nQ 1416 322 1416 397 \nL 1509 1441 \nL 691 844 \nQ 650 813 603 813 \nz\n\" transform=\"scale(0.015625)\"/>\n       <path id=\"Cmr10-28\" d=\"M 1984 -1588 \nQ 1628 -1306 1370 -942 \nQ 1113 -578 948 -165 \nQ 784 247 703 697 \nQ 622 1147 622 1600 \nQ 622 2059 703 2509 \nQ 784 2959 951 3375 \nQ 1119 3791 1378 4153 \nQ 1638 4516 1984 4788 \nQ 1984 4800 2016 4800 \nL 2075 4800 \nQ 2094 4800 2109 4783 \nQ 2125 4766 2125 4744 \nQ 2125 4716 2113 4703 \nQ 1800 4397 1592 4047 \nQ 1384 3697 1257 3301 \nQ 1131 2906 1075 2482 \nQ 1019 2059 1019 1600 \nQ 1019 -434 2106 -1491 \nQ 2125 -1509 2125 -1544 \nQ 2125 -1559 2108 -1579 \nQ 2091 -1600 2075 -1600 \nL 2016 -1600 \nQ 1984 -1600 1984 -1588 \nz\n\" transform=\"scale(0.015625)\"/>\n       <path id=\"Cmmi10-73\" d=\"M 556 391 \nQ 728 97 1247 97 \nQ 1472 97 1675 173 \nQ 1878 250 2011 403 \nQ 2144 556 2144 775 \nQ 2144 941 2025 1047 \nQ 1906 1153 1734 1191 \nL 1388 1259 \nQ 1150 1319 997 1481 \nQ 844 1644 844 1875 \nQ 844 2159 998 2378 \nQ 1153 2597 1406 2712 \nQ 1659 2828 1931 2828 \nQ 2222 2828 2451 2689 \nQ 2681 2550 2681 2278 \nQ 2681 2131 2598 2018 \nQ 2516 1906 2369 1906 \nQ 2284 1906 2223 1961 \nQ 2163 2016 2163 2100 \nQ 2163 2175 2205 2245 \nQ 2247 2316 2317 2358 \nQ 2388 2400 2463 2400 \nQ 2406 2538 2251 2600 \nQ 2097 2663 1919 2663 \nQ 1756 2663 1593 2597 \nQ 1431 2531 1332 2404 \nQ 1234 2278 1234 2106 \nQ 1234 1991 1315 1903 \nQ 1397 1816 1516 1778 \nL 1888 1703 \nQ 2066 1666 2214 1570 \nQ 2363 1475 2448 1329 \nQ 2534 1184 2534 997 \nQ 2534 759 2401 528 \nQ 2269 297 2075 159 \nQ 1734 -72 1241 -72 \nQ 900 -72 615 84 \nQ 331 241 331 550 \nQ 331 725 432 854 \nQ 534 984 709 984 \nQ 813 984 883 921 \nQ 953 859 953 756 \nQ 953 609 843 500 \nQ 734 391 588 391 \nL 556 391 \nz\n\" transform=\"scale(0.015625)\"/>\n       <path id=\"Cmr10-29\" d=\"M 416 -1600 \nQ 359 -1600 359 -1544 \nQ 359 -1516 372 -1503 \nQ 1466 -434 1466 1600 \nQ 1466 3634 384 4691 \nQ 359 4706 359 4744 \nQ 359 4766 376 4783 \nQ 394 4800 416 4800 \nL 475 4800 \nQ 494 4800 506 4788 \nQ 966 4425 1272 3906 \nQ 1578 3388 1720 2800 \nQ 1863 2213 1863 1600 \nQ 1863 1147 1786 708 \nQ 1709 269 1542 -157 \nQ 1375 -584 1119 -945 \nQ 863 -1306 506 -1588 \nQ 494 -1600 475 -1600 \nL 416 -1600 \nz\n\" transform=\"scale(0.015625)\"/>\n      </defs>\n      <use xlink:href=\"#Cmmi10-56\"/>\n      <use xlink:href=\"#Cmsy10-a4\" transform=\"translate(69.670312 38.264063) scale(0.7)\"/>\n      <use xlink:href=\"#Cmr10-28\" transform=\"translate(111.047656 0)\"/>\n      <use xlink:href=\"#Cmmi10-73\" transform=\"translate(149.866016 0)\"/>\n      <use xlink:href=\"#Cmr10-29\" transform=\"translate(196.643359 0)\"/>\n     </g>\n    </g>\n   </g>\n   <g id=\"matplotlib.axis_2\"/>\n   <g id=\"text_2\">\n    <!-- 4.72 -->\n    <g style=\"fill: #262626\" transform=\"translate(12.31 36.695287) scale(0.1 -0.1)\">\n     <defs>\n      <path id=\"STIXGeneral-Regular-34\" d=\"M 3027 1069 \nL 2368 1069 \nL 2368 0 \nL 1869 0 \nL 1869 1069 \nL 77 1069 \nL 77 1478 \nL 2086 4326 \nL 2368 4326 \nL 2368 1478 \nL 3027 1478 \nL 3027 1069 \nz\nM 1869 1478 \nL 1869 3674 \nL 333 1478 \nL 1869 1478 \nz\n\" transform=\"scale(0.015625)\"/>\n      <path id=\"STIXGeneral-Regular-2e\" d=\"M 1158 275 \nQ 1158 134 1052 32 \nQ 947 -70 800 -70 \nQ 653 -70 550 32 \nQ 448 134 448 281 \nQ 448 429 553 534 \nQ 659 640 806 640 \nQ 947 640 1052 531 \nQ 1158 422 1158 275 \nz\n\" transform=\"scale(0.015625)\"/>\n      <path id=\"STIXGeneral-Regular-37\" d=\"M 2874 4134 \nL 1517 -51 \nL 1101 -51 \nL 2368 3763 \nL 992 3763 \nQ 717 3763 582 3667 \nQ 448 3571 243 3238 \nL 128 3296 \nL 512 4237 \nL 2874 4237 \nL 2874 4134 \nz\n\" transform=\"scale(0.015625)\"/>\n      <path id=\"STIXGeneral-Regular-32\" d=\"M 3034 877 \nL 2688 0 \nL 186 0 \nL 186 77 \nL 1325 1286 \nQ 1773 1754 1965 2144 \nQ 2157 2534 2157 2950 \nQ 2157 3379 1920 3616 \nQ 1683 3853 1267 3853 \nQ 922 3853 720 3673 \nQ 518 3494 326 3021 \nL 192 3053 \nQ 301 3648 630 3987 \nQ 960 4326 1523 4326 \nQ 2054 4326 2380 4006 \nQ 2707 3686 2707 3200 \nQ 2707 2477 1888 1613 \nL 832 486 \nL 2330 486 \nQ 2541 486 2665 569 \nQ 2790 653 2944 915 \nL 3034 877 \nz\n\" transform=\"scale(0.015625)\"/>\n     </defs>\n     <use xlink:href=\"#STIXGeneral-Regular-34\"/>\n     <use xlink:href=\"#STIXGeneral-Regular-2e\" transform=\"translate(49.999985 0)\"/>\n     <use xlink:href=\"#STIXGeneral-Regular-37\" transform=\"translate(74.999969 0)\"/>\n     <use xlink:href=\"#STIXGeneral-Regular-32\" transform=\"translate(124.999954 0)\"/>\n    </g>\n   </g>\n   <g id=\"text_3\">\n    <!-- 5.23 -->\n    <g style=\"fill: #ffffff\" transform=\"translate(12.31 64.415288) scale(0.1 -0.1)\">\n     <defs>\n      <path id=\"STIXGeneral-Regular-35\" d=\"M 2803 4358 \nL 2573 3814 \nQ 2534 3731 2400 3731 \nL 1158 3731 \nL 902 3187 \nQ 1606 3053 1920 2896 \nQ 2234 2739 2502 2368 \nQ 2726 2061 2726 1555 \nQ 2726 1094 2576 780 \nQ 2426 467 2099 224 \nQ 1664 -90 1011 -90 \nQ 646 -90 422 19 \nQ 198 128 198 307 \nQ 198 550 486 550 \nQ 717 550 960 352 \nQ 1210 147 1414 147 \nQ 1747 147 2012 480 \nQ 2278 813 2278 1229 \nQ 2278 1843 1850 2189 \nQ 1293 2637 486 2637 \nQ 410 2637 410 2688 \nL 416 2720 \nL 1114 4237 \nL 2438 4237 \nQ 2547 4237 2608 4269 \nQ 2669 4301 2746 4403 \nL 2803 4358 \nz\n\" transform=\"scale(0.015625)\"/>\n      <path id=\"STIXGeneral-Regular-33\" d=\"M 390 3264 \nL 288 3290 \nQ 435 3770 748 4048 \nQ 1062 4326 1542 4326 \nQ 1990 4326 2265 4083 \nQ 2541 3840 2541 3450 \nQ 2541 2925 1946 2566 \nQ 2298 2413 2477 2227 \nQ 2758 1914 2758 1402 \nQ 2758 890 2464 506 \nQ 2246 211 1840 60 \nQ 1434 -90 979 -90 \nQ 262 -90 262 275 \nQ 262 378 339 442 \nQ 416 506 525 506 \nQ 685 506 915 339 \nQ 1197 141 1466 141 \nQ 1818 141 2058 425 \nQ 2298 710 2298 1120 \nQ 2298 1856 1632 2048 \nQ 1434 2112 979 2112 \nL 979 2202 \nQ 1338 2323 1517 2432 \nQ 2035 2726 2035 3290 \nQ 2035 3610 1852 3776 \nQ 1670 3942 1344 3942 \nQ 768 3942 390 3264 \nz\n\" transform=\"scale(0.015625)\"/>\n     </defs>\n     <use xlink:href=\"#STIXGeneral-Regular-35\"/>\n     <use xlink:href=\"#STIXGeneral-Regular-2e\" transform=\"translate(49.999985 0)\"/>\n     <use xlink:href=\"#STIXGeneral-Regular-32\" transform=\"translate(74.999969 0)\"/>\n     <use xlink:href=\"#STIXGeneral-Regular-33\" transform=\"translate(124.999954 0)\"/>\n    </g>\n   </g>\n  </g>\n </g>\n <defs>\n  <clipPath id=\"p75cd86ae03\">\n   <rect x=\"7.2\" y=\"20.5056\" width=\"27.72\" height=\"55.44\"/>\n  </clipPath>\n </defs>\n</svg>\n"
          },
          "metadata": {}
        },
        {
          "output_type": "display_data",
          "data": {
            "text/plain": [
              "<Figure size 100x100 with 1 Axes>"
            ],
            "image/svg+xml": "<?xml version=\"1.0\" encoding=\"utf-8\" standalone=\"no\"?>\n<!DOCTYPE svg PUBLIC \"-//W3C//DTD SVG 1.1//EN\"\n  \"http://www.w3.org/Graphics/SVG/1.1/DTD/svg11.dtd\">\n<svg xmlns:xlink=\"http://www.w3.org/1999/xlink\" width=\"42.12pt\" height=\"83.1456pt\" viewBox=\"0 0 42.12 83.1456\" xmlns=\"http://www.w3.org/2000/svg\" version=\"1.1\">\n <metadata>\n  <rdf:RDF xmlns:dc=\"http://purl.org/dc/elements/1.1/\" xmlns:cc=\"http://creativecommons.org/ns#\" xmlns:rdf=\"http://www.w3.org/1999/02/22-rdf-syntax-ns#\">\n   <cc:Work>\n    <dc:type rdf:resource=\"http://purl.org/dc/dcmitype/StillImage\"/>\n    <dc:date>2025-05-15T00:28:58.331313</dc:date>\n    <dc:format>image/svg+xml</dc:format>\n    <dc:creator>\n     <cc:Agent>\n      <dc:title>Matplotlib v3.10.0, https://matplotlib.org/</dc:title>\n     </cc:Agent>\n    </dc:creator>\n   </cc:Work>\n  </rdf:RDF>\n </metadata>\n <defs>\n  <style type=\"text/css\">*{stroke-linejoin: round; stroke-linecap: butt}</style>\n </defs>\n <g id=\"figure_1\">\n  <g id=\"patch_1\">\n   <path d=\"M 0 83.1456 \nL 42.12 83.1456 \nL 42.12 0 \nL 0 0 \nz\n\" style=\"fill: #ffffff\"/>\n  </g>\n  <g id=\"axes_1\">\n   <g id=\"patch_2\">\n    <path d=\"M 7.2 75.9456 \nL 34.92 75.9456 \nL 34.92 20.5056 \nL 7.2 20.5056 \nz\n\" style=\"fill: #ffffff\"/>\n   </g>\n   <g id=\"QuadMesh_1\">\n    <path d=\"M 7.2 20.5056 \nL 34.92 20.5056 \nL 34.92 48.2256 \nL 7.2 48.2256 \nL 7.2 20.5056 \n\" clip-path=\"url(#p95022f6970)\" style=\"fill: #004c1e; stroke: #000000; stroke-width: 0.5\"/>\n    <path d=\"M 7.2 48.2256 \nL 34.92 48.2256 \nL 34.92 75.9456 \nL 7.2 75.9456 \nL 7.2 48.2256 \n\" clip-path=\"url(#p95022f6970)\" style=\"fill: #00441b; stroke: #000000; stroke-width: 0.5\"/>\n   </g>\n   <g id=\"matplotlib.axis_1\">\n    <g id=\"text_1\">\n     <!-- $V^{*}(s)$ -->\n     <g transform=\"translate(9.26 14.7) scale(0.1 -0.1)\">\n      <defs>\n       <path id=\"Cmmi10-56\" d=\"M 1409 -72 \nL 897 4006 \nQ 850 4147 416 4147 \nQ 353 4147 353 4231 \nQ 366 4300 384 4336 \nQ 403 4372 459 4372 \nL 2022 4372 \nQ 2056 4372 2072 4347 \nQ 2088 4322 2088 4288 \nQ 2063 4147 2003 4147 \nQ 1503 4147 1472 3975 \nL 1894 628 \nL 3866 3775 \nQ 3922 3881 3922 3944 \nQ 3922 4056 3820 4101 \nQ 3719 4147 3584 4147 \nQ 3519 4147 3519 4231 \nQ 3531 4281 3540 4309 \nQ 3550 4338 3569 4355 \nQ 3588 4372 3628 4372 \nL 4863 4372 \nQ 4922 4372 4922 4288 \nQ 4897 4147 4838 4147 \nQ 4356 4147 4084 3725 \nQ 4072 3713 4063 3713 \nL 1703 -72 \nQ 1656 -141 1581 -141 \nL 1491 -141 \nQ 1419 -141 1409 -72 \nz\n\" transform=\"scale(0.015625)\"/>\n       <path id=\"Cmsy10-a4\" d=\"M 603 813 \nQ 531 813 473 873 \nQ 416 934 416 1006 \nQ 416 1116 506 1159 \nL 1428 1600 \nL 506 2034 \nQ 416 2072 416 2188 \nQ 416 2259 473 2320 \nQ 531 2381 603 2381 \nQ 650 2381 691 2350 \nL 1509 1753 \nL 1416 2797 \nQ 1416 2875 1469 2925 \nQ 1522 2975 1600 2975 \nQ 1675 2975 1726 2928 \nQ 1778 2881 1778 2809 \nL 1778 2797 \nL 1684 1753 \nL 2503 2350 \nQ 2544 2381 2591 2381 \nQ 2669 2381 2723 2320 \nQ 2778 2259 2778 2188 \nQ 2778 2072 2688 2034 \nL 1766 1600 \nL 2688 1159 \nQ 2778 1116 2778 1006 \nQ 2778 934 2723 873 \nQ 2669 813 2591 813 \nQ 2544 813 2503 844 \nL 1684 1441 \nL 1778 403 \nL 1778 384 \nQ 1778 313 1723 266 \nQ 1669 219 1600 219 \nQ 1525 219 1470 270 \nQ 1416 322 1416 397 \nL 1509 1441 \nL 691 844 \nQ 650 813 603 813 \nz\n\" transform=\"scale(0.015625)\"/>\n       <path id=\"Cmr10-28\" d=\"M 1984 -1588 \nQ 1628 -1306 1370 -942 \nQ 1113 -578 948 -165 \nQ 784 247 703 697 \nQ 622 1147 622 1600 \nQ 622 2059 703 2509 \nQ 784 2959 951 3375 \nQ 1119 3791 1378 4153 \nQ 1638 4516 1984 4788 \nQ 1984 4800 2016 4800 \nL 2075 4800 \nQ 2094 4800 2109 4783 \nQ 2125 4766 2125 4744 \nQ 2125 4716 2113 4703 \nQ 1800 4397 1592 4047 \nQ 1384 3697 1257 3301 \nQ 1131 2906 1075 2482 \nQ 1019 2059 1019 1600 \nQ 1019 -434 2106 -1491 \nQ 2125 -1509 2125 -1544 \nQ 2125 -1559 2108 -1579 \nQ 2091 -1600 2075 -1600 \nL 2016 -1600 \nQ 1984 -1600 1984 -1588 \nz\n\" transform=\"scale(0.015625)\"/>\n       <path id=\"Cmmi10-73\" d=\"M 556 391 \nQ 728 97 1247 97 \nQ 1472 97 1675 173 \nQ 1878 250 2011 403 \nQ 2144 556 2144 775 \nQ 2144 941 2025 1047 \nQ 1906 1153 1734 1191 \nL 1388 1259 \nQ 1150 1319 997 1481 \nQ 844 1644 844 1875 \nQ 844 2159 998 2378 \nQ 1153 2597 1406 2712 \nQ 1659 2828 1931 2828 \nQ 2222 2828 2451 2689 \nQ 2681 2550 2681 2278 \nQ 2681 2131 2598 2018 \nQ 2516 1906 2369 1906 \nQ 2284 1906 2223 1961 \nQ 2163 2016 2163 2100 \nQ 2163 2175 2205 2245 \nQ 2247 2316 2317 2358 \nQ 2388 2400 2463 2400 \nQ 2406 2538 2251 2600 \nQ 2097 2663 1919 2663 \nQ 1756 2663 1593 2597 \nQ 1431 2531 1332 2404 \nQ 1234 2278 1234 2106 \nQ 1234 1991 1315 1903 \nQ 1397 1816 1516 1778 \nL 1888 1703 \nQ 2066 1666 2214 1570 \nQ 2363 1475 2448 1329 \nQ 2534 1184 2534 997 \nQ 2534 759 2401 528 \nQ 2269 297 2075 159 \nQ 1734 -72 1241 -72 \nQ 900 -72 615 84 \nQ 331 241 331 550 \nQ 331 725 432 854 \nQ 534 984 709 984 \nQ 813 984 883 921 \nQ 953 859 953 756 \nQ 953 609 843 500 \nQ 734 391 588 391 \nL 556 391 \nz\n\" transform=\"scale(0.015625)\"/>\n       <path id=\"Cmr10-29\" d=\"M 416 -1600 \nQ 359 -1600 359 -1544 \nQ 359 -1516 372 -1503 \nQ 1466 -434 1466 1600 \nQ 1466 3634 384 4691 \nQ 359 4706 359 4744 \nQ 359 4766 376 4783 \nQ 394 4800 416 4800 \nL 475 4800 \nQ 494 4800 506 4788 \nQ 966 4425 1272 3906 \nQ 1578 3388 1720 2800 \nQ 1863 2213 1863 1600 \nQ 1863 1147 1786 708 \nQ 1709 269 1542 -157 \nQ 1375 -584 1119 -945 \nQ 863 -1306 506 -1588 \nQ 494 -1600 475 -1600 \nL 416 -1600 \nz\n\" transform=\"scale(0.015625)\"/>\n      </defs>\n      <use xlink:href=\"#Cmmi10-56\"/>\n      <use xlink:href=\"#Cmsy10-a4\" transform=\"translate(69.670312 38.264063) scale(0.7)\"/>\n      <use xlink:href=\"#Cmr10-28\" transform=\"translate(111.047656 0)\"/>\n      <use xlink:href=\"#Cmmi10-73\" transform=\"translate(149.866016 0)\"/>\n      <use xlink:href=\"#Cmr10-29\" transform=\"translate(196.643359 0)\"/>\n     </g>\n    </g>\n   </g>\n   <g id=\"matplotlib.axis_2\"/>\n   <g id=\"text_2\">\n    <!-- 9.75 -->\n    <g style=\"fill: #ffffff\" transform=\"translate(12.31 36.695287) scale(0.1 -0.1)\">\n     <defs>\n      <path id=\"STIXGeneral-Regular-39\" d=\"M 378 -141 \nL 358 -13 \nQ 1094 115 1603 608 \nQ 2112 1101 2304 1882 \nQ 1933 1517 1344 1517 \nQ 826 1517 509 1875 \nQ 192 2234 192 2816 \nQ 192 3462 573 3894 \nQ 954 4326 1523 4326 \nQ 2131 4326 2528 3840 \nQ 2938 3328 2938 2522 \nQ 2938 1958 2742 1462 \nQ 2547 966 2170 621 \nQ 1773 262 1395 105 \nQ 1018 -51 378 -141 \nz\nM 2317 2272 \nL 2317 2522 \nQ 2317 4147 1472 4147 \nQ 1171 4147 1005 3930 \nQ 909 3802 845 3546 \nQ 781 3290 781 3034 \nQ 781 2464 995 2128 \nQ 1210 1792 1568 1792 \nQ 1824 1792 2070 1917 \nQ 2317 2042 2317 2272 \nz\n\" transform=\"scale(0.015625)\"/>\n      <path id=\"STIXGeneral-Regular-2e\" d=\"M 1158 275 \nQ 1158 134 1052 32 \nQ 947 -70 800 -70 \nQ 653 -70 550 32 \nQ 448 134 448 281 \nQ 448 429 553 534 \nQ 659 640 806 640 \nQ 947 640 1052 531 \nQ 1158 422 1158 275 \nz\n\" transform=\"scale(0.015625)\"/>\n      <path id=\"STIXGeneral-Regular-37\" d=\"M 2874 4134 \nL 1517 -51 \nL 1101 -51 \nL 2368 3763 \nL 992 3763 \nQ 717 3763 582 3667 \nQ 448 3571 243 3238 \nL 128 3296 \nL 512 4237 \nL 2874 4237 \nL 2874 4134 \nz\n\" transform=\"scale(0.015625)\"/>\n      <path id=\"STIXGeneral-Regular-35\" d=\"M 2803 4358 \nL 2573 3814 \nQ 2534 3731 2400 3731 \nL 1158 3731 \nL 902 3187 \nQ 1606 3053 1920 2896 \nQ 2234 2739 2502 2368 \nQ 2726 2061 2726 1555 \nQ 2726 1094 2576 780 \nQ 2426 467 2099 224 \nQ 1664 -90 1011 -90 \nQ 646 -90 422 19 \nQ 198 128 198 307 \nQ 198 550 486 550 \nQ 717 550 960 352 \nQ 1210 147 1414 147 \nQ 1747 147 2012 480 \nQ 2278 813 2278 1229 \nQ 2278 1843 1850 2189 \nQ 1293 2637 486 2637 \nQ 410 2637 410 2688 \nL 416 2720 \nL 1114 4237 \nL 2438 4237 \nQ 2547 4237 2608 4269 \nQ 2669 4301 2746 4403 \nL 2803 4358 \nz\n\" transform=\"scale(0.015625)\"/>\n     </defs>\n     <use xlink:href=\"#STIXGeneral-Regular-39\"/>\n     <use xlink:href=\"#STIXGeneral-Regular-2e\" transform=\"translate(49.999985 0)\"/>\n     <use xlink:href=\"#STIXGeneral-Regular-37\" transform=\"translate(74.999969 0)\"/>\n     <use xlink:href=\"#STIXGeneral-Regular-35\" transform=\"translate(124.999954 0)\"/>\n    </g>\n   </g>\n   <g id=\"text_3\">\n    <!-- 10.00 -->\n    <g style=\"fill: #ffffff\" transform=\"translate(9.81 64.415288) scale(0.1 -0.1)\">\n     <defs>\n      <path id=\"STIXGeneral-Regular-31\" d=\"M 2522 0 \nL 755 0 \nL 755 96 \nQ 1107 115 1235 227 \nQ 1363 339 1363 608 \nL 1363 3482 \nQ 1363 3795 1171 3795 \nQ 1082 3795 883 3718 \nL 710 3654 \nL 710 3744 \nL 1856 4326 \nL 1914 4307 \nL 1914 486 \nQ 1914 275 2042 185 \nQ 2170 96 2522 96 \nL 2522 0 \nz\n\" transform=\"scale(0.015625)\"/>\n      <path id=\"STIXGeneral-Regular-30\" d=\"M 3046 2112 \nQ 3046 1683 2963 1302 \nQ 2880 922 2717 602 \nQ 2554 282 2266 96 \nQ 1978 -90 1600 -90 \nQ 1210 -90 915 108 \nQ 621 307 461 640 \nQ 301 973 227 1350 \nQ 154 1728 154 2150 \nQ 154 2746 301 3222 \nQ 448 3699 790 4012 \nQ 1133 4326 1626 4326 \nQ 2253 4326 2649 3712 \nQ 3046 3098 3046 2112 \nz\nM 2432 2080 \nQ 2432 3091 2217 3625 \nQ 2003 4160 1587 4160 \nQ 1190 4160 979 3622 \nQ 768 3085 768 2106 \nQ 768 1120 979 598 \nQ 1190 77 1600 77 \nQ 2003 77 2217 598 \nQ 2432 1120 2432 2080 \nz\n\" transform=\"scale(0.015625)\"/>\n     </defs>\n     <use xlink:href=\"#STIXGeneral-Regular-31\"/>\n     <use xlink:href=\"#STIXGeneral-Regular-30\" transform=\"translate(49.999985 0)\"/>\n     <use xlink:href=\"#STIXGeneral-Regular-2e\" transform=\"translate(99.999969 0)\"/>\n     <use xlink:href=\"#STIXGeneral-Regular-30\" transform=\"translate(124.999954 0)\"/>\n     <use xlink:href=\"#STIXGeneral-Regular-30\" transform=\"translate(174.999939 0)\"/>\n    </g>\n   </g>\n  </g>\n </g>\n <defs>\n  <clipPath id=\"p95022f6970\">\n   <rect x=\"7.2\" y=\"20.5056\" width=\"27.72\" height=\"55.44\"/>\n  </clipPath>\n </defs>\n</svg>\n"
          },
          "metadata": {}
        }
      ]
    },
    {
      "cell_type": "code",
      "source": [
        "df_Qhat_orig = pd.DataFrame(avg_Q_orig, index=[0,1], columns=[0,1])\n",
        "\n",
        "fig, ax = plt.subplots(figsize=(1, 1))\n",
        "sns.heatmap(\n",
        "    df_Qhat_orig, ax=ax, annot=True, square=True,\n",
        "    cmap='Blues', fmt='.2f', vmin=0, vmax=10, cbar=False,\n",
        "    linewidths=0.5, linecolor='black', xticklabels=False, yticklabels=False,\n",
        ")\n",
        "ax.tick_params(top=True, bottom=False, labeltop=True, labelbottom=False)\n",
        "plt.tick_params(axis='x', which='both', length=0)\n",
        "plt.tick_params(axis='y', which='both', length=0, rotation=0)\n",
        "plt.xlabel('$Q^{*}(s, a)$')\n",
        "ax.xaxis.set_label_coords(0.5, 1.24)\n",
        "plt.savefig('synthetic_Qstar_orig.pdf', bbox_inches='tight')\n",
        "plt.show()\n",
        "\n",
        "df_Qhat_shifted = pd.DataFrame(avg_Q_shifted, index=[0,1], columns=[0,1])\n",
        "\n",
        "fig, ax = plt.subplots(figsize=(1, 1))\n",
        "sns.heatmap(\n",
        "    df_Qhat_shifted, ax=ax, annot=True, square=True,\n",
        "    cmap='Greens', fmt='.2f', vmin=0, vmax=10, cbar=False,\n",
        "    linewidths=0.5, linecolor='black', xticklabels=False, yticklabels=False,\n",
        ")\n",
        "ax.tick_params(top=True, bottom=False, labeltop=True, labelbottom=False)\n",
        "plt.tick_params(axis='x', which='both', length=0)\n",
        "plt.tick_params(axis='y', which='both', length=0, rotation=0)\n",
        "plt.xlabel('$Q^{*}(s, a)$')\n",
        "ax.xaxis.set_label_coords(0.5, 1.24)\n",
        "plt.savefig('synthetic_Qstar_shifted.pdf', bbox_inches='tight')\n",
        "plt.show()"
      ],
      "metadata": {
        "colab": {
          "base_uri": "https://localhost:8080/",
          "height": 246
        },
        "id": "2lGEYDypMafR",
        "outputId": "1e668095-056a-4c34-916b-0c517fcb0f59"
      },
      "execution_count": null,
      "outputs": [
        {
          "output_type": "display_data",
          "data": {
            "text/plain": [
              "<Figure size 100x100 with 1 Axes>"
            ],
            "image/svg+xml": "<?xml version=\"1.0\" encoding=\"utf-8\" standalone=\"no\"?>\n<!DOCTYPE svg PUBLIC \"-//W3C//DTD SVG 1.1//EN\"\n  \"http://www.w3.org/Graphics/SVG/1.1/DTD/svg11.dtd\">\n<svg xmlns:xlink=\"http://www.w3.org/1999/xlink\" width=\"69.84pt\" height=\"83.1456pt\" viewBox=\"0 0 69.84 83.1456\" xmlns=\"http://www.w3.org/2000/svg\" version=\"1.1\">\n <metadata>\n  <rdf:RDF xmlns:dc=\"http://purl.org/dc/elements/1.1/\" xmlns:cc=\"http://creativecommons.org/ns#\" xmlns:rdf=\"http://www.w3.org/1999/02/22-rdf-syntax-ns#\">\n   <cc:Work>\n    <dc:type rdf:resource=\"http://purl.org/dc/dcmitype/StillImage\"/>\n    <dc:date>2025-05-15T00:29:08.396577</dc:date>\n    <dc:format>image/svg+xml</dc:format>\n    <dc:creator>\n     <cc:Agent>\n      <dc:title>Matplotlib v3.10.0, https://matplotlib.org/</dc:title>\n     </cc:Agent>\n    </dc:creator>\n   </cc:Work>\n  </rdf:RDF>\n </metadata>\n <defs>\n  <style type=\"text/css\">*{stroke-linejoin: round; stroke-linecap: butt}</style>\n </defs>\n <g id=\"figure_1\">\n  <g id=\"patch_1\">\n   <path d=\"M 0 83.1456 \nL 69.84 83.1456 \nL 69.84 0 \nL 0 0 \nz\n\" style=\"fill: #ffffff\"/>\n  </g>\n  <g id=\"axes_1\">\n   <g id=\"patch_2\">\n    <path d=\"M 7.2 75.9456 \nL 62.64 75.9456 \nL 62.64 20.5056 \nL 7.2 20.5056 \nz\n\" style=\"fill: #ffffff\"/>\n   </g>\n   <g id=\"QuadMesh_1\">\n    <path d=\"M 7.2 20.5056 \nL 34.92 20.5056 \nL 34.92 48.2256 \nL 7.2 48.2256 \nL 7.2 20.5056 \n\" clip-path=\"url(#p9e9d8524cc)\" style=\"fill: #77b5d9; stroke: #000000; stroke-width: 0.5\"/>\n    <path d=\"M 34.92 20.5056 \nL 62.64 20.5056 \nL 62.64 48.2256 \nL 34.92 48.2256 \nL 34.92 20.5056 \n\" clip-path=\"url(#p9e9d8524cc)\" style=\"fill: #79b5d9; stroke: #000000; stroke-width: 0.5\"/>\n    <path d=\"M 7.2 48.2256 \nL 34.92 48.2256 \nL 34.92 75.9456 \nL 7.2 75.9456 \nL 7.2 48.2256 \n\" clip-path=\"url(#p9e9d8524cc)\" style=\"fill: #64a9d3; stroke: #000000; stroke-width: 0.5\"/>\n    <path d=\"M 34.92 48.2256 \nL 62.64 48.2256 \nL 62.64 75.9456 \nL 34.92 75.9456 \nL 34.92 48.2256 \n\" clip-path=\"url(#p9e9d8524cc)\" style=\"fill: #64a9d3; stroke: #000000; stroke-width: 0.5\"/>\n   </g>\n   <g id=\"matplotlib.axis_1\">\n    <g id=\"text_1\">\n     <!-- $Q^{*}(s, a)$ -->\n     <g transform=\"translate(17.17 14.7) scale(0.1 -0.1)\">\n      <defs>\n       <path id=\"Cmmi10-51\" d=\"M 1947 -141 \nQ 1466 -141 1094 79 \nQ 722 300 520 692 \nQ 319 1084 319 1563 \nQ 319 2259 714 2950 \nQ 1109 3641 1756 4077 \nQ 2403 4513 3109 4513 \nQ 3475 4513 3778 4381 \nQ 4081 4250 4290 4017 \nQ 4500 3784 4614 3471 \nQ 4728 3159 4728 2791 \nQ 4728 2366 4581 1936 \nQ 4434 1506 4171 1136 \nQ 3909 766 3559 484 \nQ 3209 203 2809 38 \nQ 2850 -256 2934 -425 \nQ 3019 -594 3256 -594 \nQ 3506 -594 3726 -412 \nQ 3947 -231 4006 13 \nQ 4019 72 4078 72 \nQ 4147 72 4147 -13 \nQ 4100 -219 4008 -430 \nQ 3916 -641 3786 -823 \nQ 3656 -1006 3478 -1123 \nQ 3300 -1241 3084 -1241 \nQ 2547 -1241 2547 -550 \nQ 2547 -509 2562 -332 \nQ 2578 -156 2578 -44 \nQ 2269 -141 1947 -141 \nz\nM 1709 300 \nQ 1709 44 1991 44 \nQ 2275 44 2591 184 \nL 2591 244 \nQ 2591 503 2509 648 \nQ 2428 794 2194 794 \nQ 2078 794 1964 723 \nQ 1850 653 1779 539 \nQ 1709 425 1709 300 \nz\nM 1544 288 \nQ 1544 456 1637 612 \nQ 1731 769 1881 864 \nQ 2031 959 2203 959 \nQ 2481 959 2607 771 \nQ 2734 584 2778 281 \nQ 3188 525 3500 978 \nQ 3813 1431 3977 1973 \nQ 4141 2516 4141 3003 \nQ 4141 3356 4023 3656 \nQ 3906 3956 3664 4140 \nQ 3422 4325 3066 4325 \nQ 2722 4325 2403 4156 \nQ 2084 3988 1813 3706 \nQ 1550 3434 1342 3032 \nQ 1134 2631 1021 2193 \nQ 909 1756 909 1356 \nQ 909 947 1068 612 \nQ 1228 278 1569 128 \nQ 1544 194 1544 288 \nz\n\" transform=\"scale(0.015625)\"/>\n       <path id=\"Cmsy10-a4\" d=\"M 603 813 \nQ 531 813 473 873 \nQ 416 934 416 1006 \nQ 416 1116 506 1159 \nL 1428 1600 \nL 506 2034 \nQ 416 2072 416 2188 \nQ 416 2259 473 2320 \nQ 531 2381 603 2381 \nQ 650 2381 691 2350 \nL 1509 1753 \nL 1416 2797 \nQ 1416 2875 1469 2925 \nQ 1522 2975 1600 2975 \nQ 1675 2975 1726 2928 \nQ 1778 2881 1778 2809 \nL 1778 2797 \nL 1684 1753 \nL 2503 2350 \nQ 2544 2381 2591 2381 \nQ 2669 2381 2723 2320 \nQ 2778 2259 2778 2188 \nQ 2778 2072 2688 2034 \nL 1766 1600 \nL 2688 1159 \nQ 2778 1116 2778 1006 \nQ 2778 934 2723 873 \nQ 2669 813 2591 813 \nQ 2544 813 2503 844 \nL 1684 1441 \nL 1778 403 \nL 1778 384 \nQ 1778 313 1723 266 \nQ 1669 219 1600 219 \nQ 1525 219 1470 270 \nQ 1416 322 1416 397 \nL 1509 1441 \nL 691 844 \nQ 650 813 603 813 \nz\n\" transform=\"scale(0.015625)\"/>\n       <path id=\"Cmr10-28\" d=\"M 1984 -1588 \nQ 1628 -1306 1370 -942 \nQ 1113 -578 948 -165 \nQ 784 247 703 697 \nQ 622 1147 622 1600 \nQ 622 2059 703 2509 \nQ 784 2959 951 3375 \nQ 1119 3791 1378 4153 \nQ 1638 4516 1984 4788 \nQ 1984 4800 2016 4800 \nL 2075 4800 \nQ 2094 4800 2109 4783 \nQ 2125 4766 2125 4744 \nQ 2125 4716 2113 4703 \nQ 1800 4397 1592 4047 \nQ 1384 3697 1257 3301 \nQ 1131 2906 1075 2482 \nQ 1019 2059 1019 1600 \nQ 1019 -434 2106 -1491 \nQ 2125 -1509 2125 -1544 \nQ 2125 -1559 2108 -1579 \nQ 2091 -1600 2075 -1600 \nL 2016 -1600 \nQ 1984 -1600 1984 -1588 \nz\n\" transform=\"scale(0.015625)\"/>\n       <path id=\"Cmmi10-73\" d=\"M 556 391 \nQ 728 97 1247 97 \nQ 1472 97 1675 173 \nQ 1878 250 2011 403 \nQ 2144 556 2144 775 \nQ 2144 941 2025 1047 \nQ 1906 1153 1734 1191 \nL 1388 1259 \nQ 1150 1319 997 1481 \nQ 844 1644 844 1875 \nQ 844 2159 998 2378 \nQ 1153 2597 1406 2712 \nQ 1659 2828 1931 2828 \nQ 2222 2828 2451 2689 \nQ 2681 2550 2681 2278 \nQ 2681 2131 2598 2018 \nQ 2516 1906 2369 1906 \nQ 2284 1906 2223 1961 \nQ 2163 2016 2163 2100 \nQ 2163 2175 2205 2245 \nQ 2247 2316 2317 2358 \nQ 2388 2400 2463 2400 \nQ 2406 2538 2251 2600 \nQ 2097 2663 1919 2663 \nQ 1756 2663 1593 2597 \nQ 1431 2531 1332 2404 \nQ 1234 2278 1234 2106 \nQ 1234 1991 1315 1903 \nQ 1397 1816 1516 1778 \nL 1888 1703 \nQ 2066 1666 2214 1570 \nQ 2363 1475 2448 1329 \nQ 2534 1184 2534 997 \nQ 2534 759 2401 528 \nQ 2269 297 2075 159 \nQ 1734 -72 1241 -72 \nQ 900 -72 615 84 \nQ 331 241 331 550 \nQ 331 725 432 854 \nQ 534 984 709 984 \nQ 813 984 883 921 \nQ 953 859 953 756 \nQ 953 609 843 500 \nQ 734 391 588 391 \nL 556 391 \nz\n\" transform=\"scale(0.015625)\"/>\n       <path id=\"Cmmi10-3b\" d=\"M 634 -1153 \nQ 634 -1125 659 -1100 \nQ 891 -878 1019 -587 \nQ 1147 -297 1147 25 \nL 1147 103 \nQ 1044 0 891 0 \nQ 744 0 641 103 \nQ 538 206 538 353 \nQ 538 503 641 603 \nQ 744 703 891 703 \nQ 1119 703 1216 492 \nQ 1313 281 1313 25 \nQ 1313 -331 1170 -651 \nQ 1028 -972 769 -1228 \nQ 744 -1241 728 -1241 \nQ 697 -1241 665 -1212 \nQ 634 -1184 634 -1153 \nz\n\" transform=\"scale(0.015625)\"/>\n       <path id=\"Cmmi10-61\" d=\"M 1113 -72 \nQ 709 -72 476 233 \nQ 244 538 244 953 \nQ 244 1363 456 1803 \nQ 669 2244 1030 2536 \nQ 1391 2828 1806 2828 \nQ 1997 2828 2147 2725 \nQ 2297 2622 2381 2444 \nQ 2453 2700 2663 2700 \nQ 2744 2700 2798 2651 \nQ 2853 2603 2853 2522 \nQ 2853 2503 2851 2493 \nQ 2850 2484 2847 2472 \nL 2400 684 \nQ 2356 494 2356 372 \nQ 2356 97 2541 97 \nQ 2741 97 2845 351 \nQ 2950 606 3022 941 \nQ 3034 978 3072 978 \nL 3150 978 \nQ 3175 978 3190 956 \nQ 3206 934 3206 916 \nQ 3094 469 2961 198 \nQ 2828 -72 2528 -72 \nQ 2313 -72 2147 54 \nQ 1981 181 1941 391 \nQ 1528 -72 1113 -72 \nz\nM 1119 97 \nQ 1350 97 1567 270 \nQ 1784 444 1941 678 \nQ 1947 684 1947 697 \nL 2291 2088 \nL 2297 2106 \nQ 2259 2334 2132 2498 \nQ 2006 2663 1791 2663 \nQ 1575 2663 1389 2486 \nQ 1203 2309 1075 2069 \nQ 950 1813 836 1366 \nQ 722 919 722 672 \nQ 722 450 817 273 \nQ 913 97 1119 97 \nz\n\" transform=\"scale(0.015625)\"/>\n       <path id=\"Cmr10-29\" d=\"M 416 -1600 \nQ 359 -1600 359 -1544 \nQ 359 -1516 372 -1503 \nQ 1466 -434 1466 1600 \nQ 1466 3634 384 4691 \nQ 359 4706 359 4744 \nQ 359 4766 376 4783 \nQ 394 4800 416 4800 \nL 475 4800 \nQ 494 4800 506 4788 \nQ 966 4425 1272 3906 \nQ 1578 3388 1720 2800 \nQ 1863 2213 1863 1600 \nQ 1863 1147 1786 708 \nQ 1709 269 1542 -157 \nQ 1375 -584 1119 -945 \nQ 863 -1306 506 -1588 \nQ 494 -1600 475 -1600 \nL 416 -1600 \nz\n\" transform=\"scale(0.015625)\"/>\n      </defs>\n      <use xlink:href=\"#Cmmi10-51\"/>\n      <use xlink:href=\"#Cmsy10-a4\" transform=\"translate(90.836094 38.264063) scale(0.7)\"/>\n      <use xlink:href=\"#Cmr10-28\" transform=\"translate(132.213437 0)\"/>\n      <use xlink:href=\"#Cmmi10-73\" transform=\"translate(171.031797 0)\"/>\n      <use xlink:href=\"#Cmmi10-3b\" transform=\"translate(217.809141 0)\"/>\n      <use xlink:href=\"#Cmmi10-61\" transform=\"translate(263.053281 0)\"/>\n      <use xlink:href=\"#Cmr10-29\" transform=\"translate(315.836484 0)\"/>\n     </g>\n    </g>\n   </g>\n   <g id=\"matplotlib.axis_2\"/>\n   <g id=\"text_2\">\n    <!-- 4.72 -->\n    <g style=\"fill: #262626\" transform=\"translate(12.31 36.695287) scale(0.1 -0.1)\">\n     <defs>\n      <path id=\"STIXGeneral-Regular-34\" d=\"M 3027 1069 \nL 2368 1069 \nL 2368 0 \nL 1869 0 \nL 1869 1069 \nL 77 1069 \nL 77 1478 \nL 2086 4326 \nL 2368 4326 \nL 2368 1478 \nL 3027 1478 \nL 3027 1069 \nz\nM 1869 1478 \nL 1869 3674 \nL 333 1478 \nL 1869 1478 \nz\n\" transform=\"scale(0.015625)\"/>\n      <path id=\"STIXGeneral-Regular-2e\" d=\"M 1158 275 \nQ 1158 134 1052 32 \nQ 947 -70 800 -70 \nQ 653 -70 550 32 \nQ 448 134 448 281 \nQ 448 429 553 534 \nQ 659 640 806 640 \nQ 947 640 1052 531 \nQ 1158 422 1158 275 \nz\n\" transform=\"scale(0.015625)\"/>\n      <path id=\"STIXGeneral-Regular-37\" d=\"M 2874 4134 \nL 1517 -51 \nL 1101 -51 \nL 2368 3763 \nL 992 3763 \nQ 717 3763 582 3667 \nQ 448 3571 243 3238 \nL 128 3296 \nL 512 4237 \nL 2874 4237 \nL 2874 4134 \nz\n\" transform=\"scale(0.015625)\"/>\n      <path id=\"STIXGeneral-Regular-32\" d=\"M 3034 877 \nL 2688 0 \nL 186 0 \nL 186 77 \nL 1325 1286 \nQ 1773 1754 1965 2144 \nQ 2157 2534 2157 2950 \nQ 2157 3379 1920 3616 \nQ 1683 3853 1267 3853 \nQ 922 3853 720 3673 \nQ 518 3494 326 3021 \nL 192 3053 \nQ 301 3648 630 3987 \nQ 960 4326 1523 4326 \nQ 2054 4326 2380 4006 \nQ 2707 3686 2707 3200 \nQ 2707 2477 1888 1613 \nL 832 486 \nL 2330 486 \nQ 2541 486 2665 569 \nQ 2790 653 2944 915 \nL 3034 877 \nz\n\" transform=\"scale(0.015625)\"/>\n     </defs>\n     <use xlink:href=\"#STIXGeneral-Regular-34\"/>\n     <use xlink:href=\"#STIXGeneral-Regular-2e\" transform=\"translate(49.999985 0)\"/>\n     <use xlink:href=\"#STIXGeneral-Regular-37\" transform=\"translate(74.999969 0)\"/>\n     <use xlink:href=\"#STIXGeneral-Regular-32\" transform=\"translate(124.999954 0)\"/>\n    </g>\n   </g>\n   <g id=\"text_3\">\n    <!-- 4.68 -->\n    <g style=\"fill: #262626\" transform=\"translate(40.03 36.695287) scale(0.1 -0.1)\">\n     <defs>\n      <path id=\"STIXGeneral-Regular-36\" d=\"M 2854 4378 \nL 2867 4275 \nQ 2112 4154 1606 3664 \nQ 1101 3174 973 2451 \nQ 1344 2739 1786 2739 \nQ 2349 2739 2672 2380 \nQ 2995 2022 2995 1402 \nQ 2995 774 2669 378 \nQ 2291 -90 1651 -90 \nQ 870 -90 518 557 \nQ 218 1107 218 1786 \nQ 218 2835 915 3552 \nQ 1312 3962 1731 4131 \nQ 2150 4301 2854 4378 \nz\nM 2419 1203 \nQ 2419 2445 1555 2445 \nQ 1235 2445 1024 2275 \nQ 813 2106 813 1702 \nQ 813 954 1046 522 \nQ 1280 90 1722 90 \nQ 2061 90 2240 394 \nQ 2419 698 2419 1203 \nz\n\" transform=\"scale(0.015625)\"/>\n      <path id=\"STIXGeneral-Regular-38\" d=\"M 2848 992 \nQ 2848 499 2505 204 \nQ 2163 -90 1587 -90 \nQ 1050 -90 704 204 \nQ 358 499 358 954 \nQ 358 1293 524 1533 \nQ 691 1773 1190 2125 \nQ 710 2522 553 2765 \nQ 397 3008 397 3328 \nQ 397 3782 745 4054 \nQ 1094 4326 1638 4326 \nQ 2106 4326 2410 4060 \nQ 2714 3795 2714 3411 \nQ 2714 3059 2531 2848 \nQ 2349 2637 1856 2374 \nQ 2432 1990 2640 1689 \nQ 2848 1389 2848 992 \nz\nM 2272 3411 \nQ 2272 3744 2086 3945 \nQ 1901 4147 1574 4147 \nQ 1248 4147 1059 3977 \nQ 870 3808 870 3513 \nQ 870 3219 1059 2979 \nQ 1248 2739 1670 2490 \nQ 1997 2682 2134 2896 \nQ 2272 3110 2272 3411 \nz\nM 1734 1741 \nL 1357 1997 \nQ 1075 1766 960 1545 \nQ 845 1325 845 1011 \nQ 845 576 1065 333 \nQ 1286 90 1658 90 \nQ 1971 90 2166 285 \nQ 2362 480 2362 794 \nQ 2362 1082 2214 1299 \nQ 2067 1517 1734 1741 \nz\n\" transform=\"scale(0.015625)\"/>\n     </defs>\n     <use xlink:href=\"#STIXGeneral-Regular-34\"/>\n     <use xlink:href=\"#STIXGeneral-Regular-2e\" transform=\"translate(49.999985 0)\"/>\n     <use xlink:href=\"#STIXGeneral-Regular-36\" transform=\"translate(74.999969 0)\"/>\n     <use xlink:href=\"#STIXGeneral-Regular-38\" transform=\"translate(124.999954 0)\"/>\n    </g>\n   </g>\n   <g id=\"text_4\">\n    <!-- 5.21 -->\n    <g style=\"fill: #ffffff\" transform=\"translate(12.31 64.415288) scale(0.1 -0.1)\">\n     <defs>\n      <path id=\"STIXGeneral-Regular-35\" d=\"M 2803 4358 \nL 2573 3814 \nQ 2534 3731 2400 3731 \nL 1158 3731 \nL 902 3187 \nQ 1606 3053 1920 2896 \nQ 2234 2739 2502 2368 \nQ 2726 2061 2726 1555 \nQ 2726 1094 2576 780 \nQ 2426 467 2099 224 \nQ 1664 -90 1011 -90 \nQ 646 -90 422 19 \nQ 198 128 198 307 \nQ 198 550 486 550 \nQ 717 550 960 352 \nQ 1210 147 1414 147 \nQ 1747 147 2012 480 \nQ 2278 813 2278 1229 \nQ 2278 1843 1850 2189 \nQ 1293 2637 486 2637 \nQ 410 2637 410 2688 \nL 416 2720 \nL 1114 4237 \nL 2438 4237 \nQ 2547 4237 2608 4269 \nQ 2669 4301 2746 4403 \nL 2803 4358 \nz\n\" transform=\"scale(0.015625)\"/>\n      <path id=\"STIXGeneral-Regular-31\" d=\"M 2522 0 \nL 755 0 \nL 755 96 \nQ 1107 115 1235 227 \nQ 1363 339 1363 608 \nL 1363 3482 \nQ 1363 3795 1171 3795 \nQ 1082 3795 883 3718 \nL 710 3654 \nL 710 3744 \nL 1856 4326 \nL 1914 4307 \nL 1914 486 \nQ 1914 275 2042 185 \nQ 2170 96 2522 96 \nL 2522 0 \nz\n\" transform=\"scale(0.015625)\"/>\n     </defs>\n     <use xlink:href=\"#STIXGeneral-Regular-35\"/>\n     <use xlink:href=\"#STIXGeneral-Regular-2e\" transform=\"translate(49.999985 0)\"/>\n     <use xlink:href=\"#STIXGeneral-Regular-32\" transform=\"translate(74.999969 0)\"/>\n     <use xlink:href=\"#STIXGeneral-Regular-31\" transform=\"translate(124.999954 0)\"/>\n    </g>\n   </g>\n   <g id=\"text_5\">\n    <!-- 5.23 -->\n    <g style=\"fill: #ffffff\" transform=\"translate(40.03 64.415288) scale(0.1 -0.1)\">\n     <defs>\n      <path id=\"STIXGeneral-Regular-33\" d=\"M 390 3264 \nL 288 3290 \nQ 435 3770 748 4048 \nQ 1062 4326 1542 4326 \nQ 1990 4326 2265 4083 \nQ 2541 3840 2541 3450 \nQ 2541 2925 1946 2566 \nQ 2298 2413 2477 2227 \nQ 2758 1914 2758 1402 \nQ 2758 890 2464 506 \nQ 2246 211 1840 60 \nQ 1434 -90 979 -90 \nQ 262 -90 262 275 \nQ 262 378 339 442 \nQ 416 506 525 506 \nQ 685 506 915 339 \nQ 1197 141 1466 141 \nQ 1818 141 2058 425 \nQ 2298 710 2298 1120 \nQ 2298 1856 1632 2048 \nQ 1434 2112 979 2112 \nL 979 2202 \nQ 1338 2323 1517 2432 \nQ 2035 2726 2035 3290 \nQ 2035 3610 1852 3776 \nQ 1670 3942 1344 3942 \nQ 768 3942 390 3264 \nz\n\" transform=\"scale(0.015625)\"/>\n     </defs>\n     <use xlink:href=\"#STIXGeneral-Regular-35\"/>\n     <use xlink:href=\"#STIXGeneral-Regular-2e\" transform=\"translate(49.999985 0)\"/>\n     <use xlink:href=\"#STIXGeneral-Regular-32\" transform=\"translate(74.999969 0)\"/>\n     <use xlink:href=\"#STIXGeneral-Regular-33\" transform=\"translate(124.999954 0)\"/>\n    </g>\n   </g>\n  </g>\n </g>\n <defs>\n  <clipPath id=\"p9e9d8524cc\">\n   <rect x=\"7.2\" y=\"20.5056\" width=\"55.44\" height=\"55.44\"/>\n  </clipPath>\n </defs>\n</svg>\n"
          },
          "metadata": {}
        },
        {
          "output_type": "display_data",
          "data": {
            "text/plain": [
              "<Figure size 100x100 with 1 Axes>"
            ],
            "image/svg+xml": "<?xml version=\"1.0\" encoding=\"utf-8\" standalone=\"no\"?>\n<!DOCTYPE svg PUBLIC \"-//W3C//DTD SVG 1.1//EN\"\n  \"http://www.w3.org/Graphics/SVG/1.1/DTD/svg11.dtd\">\n<svg xmlns:xlink=\"http://www.w3.org/1999/xlink\" width=\"69.84pt\" height=\"83.1456pt\" viewBox=\"0 0 69.84 83.1456\" xmlns=\"http://www.w3.org/2000/svg\" version=\"1.1\">\n <metadata>\n  <rdf:RDF xmlns:dc=\"http://purl.org/dc/elements/1.1/\" xmlns:cc=\"http://creativecommons.org/ns#\" xmlns:rdf=\"http://www.w3.org/1999/02/22-rdf-syntax-ns#\">\n   <cc:Work>\n    <dc:type rdf:resource=\"http://purl.org/dc/dcmitype/StillImage\"/>\n    <dc:date>2025-05-15T00:29:09.439398</dc:date>\n    <dc:format>image/svg+xml</dc:format>\n    <dc:creator>\n     <cc:Agent>\n      <dc:title>Matplotlib v3.10.0, https://matplotlib.org/</dc:title>\n     </cc:Agent>\n    </dc:creator>\n   </cc:Work>\n  </rdf:RDF>\n </metadata>\n <defs>\n  <style type=\"text/css\">*{stroke-linejoin: round; stroke-linecap: butt}</style>\n </defs>\n <g id=\"figure_1\">\n  <g id=\"patch_1\">\n   <path d=\"M 0 83.1456 \nL 69.84 83.1456 \nL 69.84 0 \nL 0 0 \nz\n\" style=\"fill: #ffffff\"/>\n  </g>\n  <g id=\"axes_1\">\n   <g id=\"patch_2\">\n    <path d=\"M 7.2 75.9456 \nL 62.64 75.9456 \nL 62.64 20.5056 \nL 7.2 20.5056 \nz\n\" style=\"fill: #ffffff\"/>\n   </g>\n   <g id=\"QuadMesh_1\">\n    <path d=\"M 7.2 20.5056 \nL 34.92 20.5056 \nL 34.92 48.2256 \nL 7.2 48.2256 \nL 7.2 20.5056 \n\" clip-path=\"url(#p9faeaec47a)\" style=\"fill: #006c2c; stroke: #000000; stroke-width: 0.5\"/>\n    <path d=\"M 34.92 20.5056 \nL 62.64 20.5056 \nL 62.64 48.2256 \nL 34.92 48.2256 \nL 34.92 20.5056 \n\" clip-path=\"url(#p9faeaec47a)\" style=\"fill: #004c1e; stroke: #000000; stroke-width: 0.5\"/>\n    <path d=\"M 7.2 48.2256 \nL 34.92 48.2256 \nL 34.92 75.9456 \nL 7.2 75.9456 \nL 7.2 48.2256 \n\" clip-path=\"url(#p9faeaec47a)\" style=\"fill: #006428; stroke: #000000; stroke-width: 0.5\"/>\n    <path d=\"M 34.92 48.2256 \nL 62.64 48.2256 \nL 62.64 75.9456 \nL 34.92 75.9456 \nL 34.92 48.2256 \n\" clip-path=\"url(#p9faeaec47a)\" style=\"fill: #00441b; stroke: #000000; stroke-width: 0.5\"/>\n   </g>\n   <g id=\"matplotlib.axis_1\">\n    <g id=\"text_1\">\n     <!-- $Q^{*}(s, a)$ -->\n     <g transform=\"translate(17.17 14.7) scale(0.1 -0.1)\">\n      <defs>\n       <path id=\"Cmmi10-51\" d=\"M 1947 -141 \nQ 1466 -141 1094 79 \nQ 722 300 520 692 \nQ 319 1084 319 1563 \nQ 319 2259 714 2950 \nQ 1109 3641 1756 4077 \nQ 2403 4513 3109 4513 \nQ 3475 4513 3778 4381 \nQ 4081 4250 4290 4017 \nQ 4500 3784 4614 3471 \nQ 4728 3159 4728 2791 \nQ 4728 2366 4581 1936 \nQ 4434 1506 4171 1136 \nQ 3909 766 3559 484 \nQ 3209 203 2809 38 \nQ 2850 -256 2934 -425 \nQ 3019 -594 3256 -594 \nQ 3506 -594 3726 -412 \nQ 3947 -231 4006 13 \nQ 4019 72 4078 72 \nQ 4147 72 4147 -13 \nQ 4100 -219 4008 -430 \nQ 3916 -641 3786 -823 \nQ 3656 -1006 3478 -1123 \nQ 3300 -1241 3084 -1241 \nQ 2547 -1241 2547 -550 \nQ 2547 -509 2562 -332 \nQ 2578 -156 2578 -44 \nQ 2269 -141 1947 -141 \nz\nM 1709 300 \nQ 1709 44 1991 44 \nQ 2275 44 2591 184 \nL 2591 244 \nQ 2591 503 2509 648 \nQ 2428 794 2194 794 \nQ 2078 794 1964 723 \nQ 1850 653 1779 539 \nQ 1709 425 1709 300 \nz\nM 1544 288 \nQ 1544 456 1637 612 \nQ 1731 769 1881 864 \nQ 2031 959 2203 959 \nQ 2481 959 2607 771 \nQ 2734 584 2778 281 \nQ 3188 525 3500 978 \nQ 3813 1431 3977 1973 \nQ 4141 2516 4141 3003 \nQ 4141 3356 4023 3656 \nQ 3906 3956 3664 4140 \nQ 3422 4325 3066 4325 \nQ 2722 4325 2403 4156 \nQ 2084 3988 1813 3706 \nQ 1550 3434 1342 3032 \nQ 1134 2631 1021 2193 \nQ 909 1756 909 1356 \nQ 909 947 1068 612 \nQ 1228 278 1569 128 \nQ 1544 194 1544 288 \nz\n\" transform=\"scale(0.015625)\"/>\n       <path id=\"Cmsy10-a4\" d=\"M 603 813 \nQ 531 813 473 873 \nQ 416 934 416 1006 \nQ 416 1116 506 1159 \nL 1428 1600 \nL 506 2034 \nQ 416 2072 416 2188 \nQ 416 2259 473 2320 \nQ 531 2381 603 2381 \nQ 650 2381 691 2350 \nL 1509 1753 \nL 1416 2797 \nQ 1416 2875 1469 2925 \nQ 1522 2975 1600 2975 \nQ 1675 2975 1726 2928 \nQ 1778 2881 1778 2809 \nL 1778 2797 \nL 1684 1753 \nL 2503 2350 \nQ 2544 2381 2591 2381 \nQ 2669 2381 2723 2320 \nQ 2778 2259 2778 2188 \nQ 2778 2072 2688 2034 \nL 1766 1600 \nL 2688 1159 \nQ 2778 1116 2778 1006 \nQ 2778 934 2723 873 \nQ 2669 813 2591 813 \nQ 2544 813 2503 844 \nL 1684 1441 \nL 1778 403 \nL 1778 384 \nQ 1778 313 1723 266 \nQ 1669 219 1600 219 \nQ 1525 219 1470 270 \nQ 1416 322 1416 397 \nL 1509 1441 \nL 691 844 \nQ 650 813 603 813 \nz\n\" transform=\"scale(0.015625)\"/>\n       <path id=\"Cmr10-28\" d=\"M 1984 -1588 \nQ 1628 -1306 1370 -942 \nQ 1113 -578 948 -165 \nQ 784 247 703 697 \nQ 622 1147 622 1600 \nQ 622 2059 703 2509 \nQ 784 2959 951 3375 \nQ 1119 3791 1378 4153 \nQ 1638 4516 1984 4788 \nQ 1984 4800 2016 4800 \nL 2075 4800 \nQ 2094 4800 2109 4783 \nQ 2125 4766 2125 4744 \nQ 2125 4716 2113 4703 \nQ 1800 4397 1592 4047 \nQ 1384 3697 1257 3301 \nQ 1131 2906 1075 2482 \nQ 1019 2059 1019 1600 \nQ 1019 -434 2106 -1491 \nQ 2125 -1509 2125 -1544 \nQ 2125 -1559 2108 -1579 \nQ 2091 -1600 2075 -1600 \nL 2016 -1600 \nQ 1984 -1600 1984 -1588 \nz\n\" transform=\"scale(0.015625)\"/>\n       <path id=\"Cmmi10-73\" d=\"M 556 391 \nQ 728 97 1247 97 \nQ 1472 97 1675 173 \nQ 1878 250 2011 403 \nQ 2144 556 2144 775 \nQ 2144 941 2025 1047 \nQ 1906 1153 1734 1191 \nL 1388 1259 \nQ 1150 1319 997 1481 \nQ 844 1644 844 1875 \nQ 844 2159 998 2378 \nQ 1153 2597 1406 2712 \nQ 1659 2828 1931 2828 \nQ 2222 2828 2451 2689 \nQ 2681 2550 2681 2278 \nQ 2681 2131 2598 2018 \nQ 2516 1906 2369 1906 \nQ 2284 1906 2223 1961 \nQ 2163 2016 2163 2100 \nQ 2163 2175 2205 2245 \nQ 2247 2316 2317 2358 \nQ 2388 2400 2463 2400 \nQ 2406 2538 2251 2600 \nQ 2097 2663 1919 2663 \nQ 1756 2663 1593 2597 \nQ 1431 2531 1332 2404 \nQ 1234 2278 1234 2106 \nQ 1234 1991 1315 1903 \nQ 1397 1816 1516 1778 \nL 1888 1703 \nQ 2066 1666 2214 1570 \nQ 2363 1475 2448 1329 \nQ 2534 1184 2534 997 \nQ 2534 759 2401 528 \nQ 2269 297 2075 159 \nQ 1734 -72 1241 -72 \nQ 900 -72 615 84 \nQ 331 241 331 550 \nQ 331 725 432 854 \nQ 534 984 709 984 \nQ 813 984 883 921 \nQ 953 859 953 756 \nQ 953 609 843 500 \nQ 734 391 588 391 \nL 556 391 \nz\n\" transform=\"scale(0.015625)\"/>\n       <path id=\"Cmmi10-3b\" d=\"M 634 -1153 \nQ 634 -1125 659 -1100 \nQ 891 -878 1019 -587 \nQ 1147 -297 1147 25 \nL 1147 103 \nQ 1044 0 891 0 \nQ 744 0 641 103 \nQ 538 206 538 353 \nQ 538 503 641 603 \nQ 744 703 891 703 \nQ 1119 703 1216 492 \nQ 1313 281 1313 25 \nQ 1313 -331 1170 -651 \nQ 1028 -972 769 -1228 \nQ 744 -1241 728 -1241 \nQ 697 -1241 665 -1212 \nQ 634 -1184 634 -1153 \nz\n\" transform=\"scale(0.015625)\"/>\n       <path id=\"Cmmi10-61\" d=\"M 1113 -72 \nQ 709 -72 476 233 \nQ 244 538 244 953 \nQ 244 1363 456 1803 \nQ 669 2244 1030 2536 \nQ 1391 2828 1806 2828 \nQ 1997 2828 2147 2725 \nQ 2297 2622 2381 2444 \nQ 2453 2700 2663 2700 \nQ 2744 2700 2798 2651 \nQ 2853 2603 2853 2522 \nQ 2853 2503 2851 2493 \nQ 2850 2484 2847 2472 \nL 2400 684 \nQ 2356 494 2356 372 \nQ 2356 97 2541 97 \nQ 2741 97 2845 351 \nQ 2950 606 3022 941 \nQ 3034 978 3072 978 \nL 3150 978 \nQ 3175 978 3190 956 \nQ 3206 934 3206 916 \nQ 3094 469 2961 198 \nQ 2828 -72 2528 -72 \nQ 2313 -72 2147 54 \nQ 1981 181 1941 391 \nQ 1528 -72 1113 -72 \nz\nM 1119 97 \nQ 1350 97 1567 270 \nQ 1784 444 1941 678 \nQ 1947 684 1947 697 \nL 2291 2088 \nL 2297 2106 \nQ 2259 2334 2132 2498 \nQ 2006 2663 1791 2663 \nQ 1575 2663 1389 2486 \nQ 1203 2309 1075 2069 \nQ 950 1813 836 1366 \nQ 722 919 722 672 \nQ 722 450 817 273 \nQ 913 97 1119 97 \nz\n\" transform=\"scale(0.015625)\"/>\n       <path id=\"Cmr10-29\" d=\"M 416 -1600 \nQ 359 -1600 359 -1544 \nQ 359 -1516 372 -1503 \nQ 1466 -434 1466 1600 \nQ 1466 3634 384 4691 \nQ 359 4706 359 4744 \nQ 359 4766 376 4783 \nQ 394 4800 416 4800 \nL 475 4800 \nQ 494 4800 506 4788 \nQ 966 4425 1272 3906 \nQ 1578 3388 1720 2800 \nQ 1863 2213 1863 1600 \nQ 1863 1147 1786 708 \nQ 1709 269 1542 -157 \nQ 1375 -584 1119 -945 \nQ 863 -1306 506 -1588 \nQ 494 -1600 475 -1600 \nL 416 -1600 \nz\n\" transform=\"scale(0.015625)\"/>\n      </defs>\n      <use xlink:href=\"#Cmmi10-51\"/>\n      <use xlink:href=\"#Cmsy10-a4\" transform=\"translate(90.836094 38.264063) scale(0.7)\"/>\n      <use xlink:href=\"#Cmr10-28\" transform=\"translate(132.213437 0)\"/>\n      <use xlink:href=\"#Cmmi10-73\" transform=\"translate(171.031797 0)\"/>\n      <use xlink:href=\"#Cmmi10-3b\" transform=\"translate(217.809141 0)\"/>\n      <use xlink:href=\"#Cmmi10-61\" transform=\"translate(263.053281 0)\"/>\n      <use xlink:href=\"#Cmr10-29\" transform=\"translate(315.836484 0)\"/>\n     </g>\n    </g>\n   </g>\n   <g id=\"matplotlib.axis_2\"/>\n   <g id=\"text_2\">\n    <!-- 8.78 -->\n    <g style=\"fill: #ffffff\" transform=\"translate(12.31 36.695287) scale(0.1 -0.1)\">\n     <defs>\n      <path id=\"STIXGeneral-Regular-38\" d=\"M 2848 992 \nQ 2848 499 2505 204 \nQ 2163 -90 1587 -90 \nQ 1050 -90 704 204 \nQ 358 499 358 954 \nQ 358 1293 524 1533 \nQ 691 1773 1190 2125 \nQ 710 2522 553 2765 \nQ 397 3008 397 3328 \nQ 397 3782 745 4054 \nQ 1094 4326 1638 4326 \nQ 2106 4326 2410 4060 \nQ 2714 3795 2714 3411 \nQ 2714 3059 2531 2848 \nQ 2349 2637 1856 2374 \nQ 2432 1990 2640 1689 \nQ 2848 1389 2848 992 \nz\nM 2272 3411 \nQ 2272 3744 2086 3945 \nQ 1901 4147 1574 4147 \nQ 1248 4147 1059 3977 \nQ 870 3808 870 3513 \nQ 870 3219 1059 2979 \nQ 1248 2739 1670 2490 \nQ 1997 2682 2134 2896 \nQ 2272 3110 2272 3411 \nz\nM 1734 1741 \nL 1357 1997 \nQ 1075 1766 960 1545 \nQ 845 1325 845 1011 \nQ 845 576 1065 333 \nQ 1286 90 1658 90 \nQ 1971 90 2166 285 \nQ 2362 480 2362 794 \nQ 2362 1082 2214 1299 \nQ 2067 1517 1734 1741 \nz\n\" transform=\"scale(0.015625)\"/>\n      <path id=\"STIXGeneral-Regular-2e\" d=\"M 1158 275 \nQ 1158 134 1052 32 \nQ 947 -70 800 -70 \nQ 653 -70 550 32 \nQ 448 134 448 281 \nQ 448 429 553 534 \nQ 659 640 806 640 \nQ 947 640 1052 531 \nQ 1158 422 1158 275 \nz\n\" transform=\"scale(0.015625)\"/>\n      <path id=\"STIXGeneral-Regular-37\" d=\"M 2874 4134 \nL 1517 -51 \nL 1101 -51 \nL 2368 3763 \nL 992 3763 \nQ 717 3763 582 3667 \nQ 448 3571 243 3238 \nL 128 3296 \nL 512 4237 \nL 2874 4237 \nL 2874 4134 \nz\n\" transform=\"scale(0.015625)\"/>\n     </defs>\n     <use xlink:href=\"#STIXGeneral-Regular-38\"/>\n     <use xlink:href=\"#STIXGeneral-Regular-2e\" transform=\"translate(49.999985 0)\"/>\n     <use xlink:href=\"#STIXGeneral-Regular-37\" transform=\"translate(74.999969 0)\"/>\n     <use xlink:href=\"#STIXGeneral-Regular-38\" transform=\"translate(124.999954 0)\"/>\n    </g>\n   </g>\n   <g id=\"text_3\">\n    <!-- 9.75 -->\n    <g style=\"fill: #ffffff\" transform=\"translate(40.03 36.695287) scale(0.1 -0.1)\">\n     <defs>\n      <path id=\"STIXGeneral-Regular-39\" d=\"M 378 -141 \nL 358 -13 \nQ 1094 115 1603 608 \nQ 2112 1101 2304 1882 \nQ 1933 1517 1344 1517 \nQ 826 1517 509 1875 \nQ 192 2234 192 2816 \nQ 192 3462 573 3894 \nQ 954 4326 1523 4326 \nQ 2131 4326 2528 3840 \nQ 2938 3328 2938 2522 \nQ 2938 1958 2742 1462 \nQ 2547 966 2170 621 \nQ 1773 262 1395 105 \nQ 1018 -51 378 -141 \nz\nM 2317 2272 \nL 2317 2522 \nQ 2317 4147 1472 4147 \nQ 1171 4147 1005 3930 \nQ 909 3802 845 3546 \nQ 781 3290 781 3034 \nQ 781 2464 995 2128 \nQ 1210 1792 1568 1792 \nQ 1824 1792 2070 1917 \nQ 2317 2042 2317 2272 \nz\n\" transform=\"scale(0.015625)\"/>\n      <path id=\"STIXGeneral-Regular-35\" d=\"M 2803 4358 \nL 2573 3814 \nQ 2534 3731 2400 3731 \nL 1158 3731 \nL 902 3187 \nQ 1606 3053 1920 2896 \nQ 2234 2739 2502 2368 \nQ 2726 2061 2726 1555 \nQ 2726 1094 2576 780 \nQ 2426 467 2099 224 \nQ 1664 -90 1011 -90 \nQ 646 -90 422 19 \nQ 198 128 198 307 \nQ 198 550 486 550 \nQ 717 550 960 352 \nQ 1210 147 1414 147 \nQ 1747 147 2012 480 \nQ 2278 813 2278 1229 \nQ 2278 1843 1850 2189 \nQ 1293 2637 486 2637 \nQ 410 2637 410 2688 \nL 416 2720 \nL 1114 4237 \nL 2438 4237 \nQ 2547 4237 2608 4269 \nQ 2669 4301 2746 4403 \nL 2803 4358 \nz\n\" transform=\"scale(0.015625)\"/>\n     </defs>\n     <use xlink:href=\"#STIXGeneral-Regular-39\"/>\n     <use xlink:href=\"#STIXGeneral-Regular-2e\" transform=\"translate(49.999985 0)\"/>\n     <use xlink:href=\"#STIXGeneral-Regular-37\" transform=\"translate(74.999969 0)\"/>\n     <use xlink:href=\"#STIXGeneral-Regular-35\" transform=\"translate(124.999954 0)\"/>\n    </g>\n   </g>\n   <g id=\"text_4\">\n    <!-- 9.01 -->\n    <g style=\"fill: #ffffff\" transform=\"translate(12.31 64.415288) scale(0.1 -0.1)\">\n     <defs>\n      <path id=\"STIXGeneral-Regular-30\" d=\"M 3046 2112 \nQ 3046 1683 2963 1302 \nQ 2880 922 2717 602 \nQ 2554 282 2266 96 \nQ 1978 -90 1600 -90 \nQ 1210 -90 915 108 \nQ 621 307 461 640 \nQ 301 973 227 1350 \nQ 154 1728 154 2150 \nQ 154 2746 301 3222 \nQ 448 3699 790 4012 \nQ 1133 4326 1626 4326 \nQ 2253 4326 2649 3712 \nQ 3046 3098 3046 2112 \nz\nM 2432 2080 \nQ 2432 3091 2217 3625 \nQ 2003 4160 1587 4160 \nQ 1190 4160 979 3622 \nQ 768 3085 768 2106 \nQ 768 1120 979 598 \nQ 1190 77 1600 77 \nQ 2003 77 2217 598 \nQ 2432 1120 2432 2080 \nz\n\" transform=\"scale(0.015625)\"/>\n      <path id=\"STIXGeneral-Regular-31\" d=\"M 2522 0 \nL 755 0 \nL 755 96 \nQ 1107 115 1235 227 \nQ 1363 339 1363 608 \nL 1363 3482 \nQ 1363 3795 1171 3795 \nQ 1082 3795 883 3718 \nL 710 3654 \nL 710 3744 \nL 1856 4326 \nL 1914 4307 \nL 1914 486 \nQ 1914 275 2042 185 \nQ 2170 96 2522 96 \nL 2522 0 \nz\n\" transform=\"scale(0.015625)\"/>\n     </defs>\n     <use xlink:href=\"#STIXGeneral-Regular-39\"/>\n     <use xlink:href=\"#STIXGeneral-Regular-2e\" transform=\"translate(49.999985 0)\"/>\n     <use xlink:href=\"#STIXGeneral-Regular-30\" transform=\"translate(74.999969 0)\"/>\n     <use xlink:href=\"#STIXGeneral-Regular-31\" transform=\"translate(124.999954 0)\"/>\n    </g>\n   </g>\n   <g id=\"text_5\">\n    <!-- 10.00 -->\n    <g style=\"fill: #ffffff\" transform=\"translate(37.53 64.415288) scale(0.1 -0.1)\">\n     <use xlink:href=\"#STIXGeneral-Regular-31\"/>\n     <use xlink:href=\"#STIXGeneral-Regular-30\" transform=\"translate(49.999985 0)\"/>\n     <use xlink:href=\"#STIXGeneral-Regular-2e\" transform=\"translate(99.999969 0)\"/>\n     <use xlink:href=\"#STIXGeneral-Regular-30\" transform=\"translate(124.999954 0)\"/>\n     <use xlink:href=\"#STIXGeneral-Regular-30\" transform=\"translate(174.999939 0)\"/>\n    </g>\n   </g>\n  </g>\n </g>\n <defs>\n  <clipPath id=\"p9faeaec47a\">\n   <rect x=\"7.2\" y=\"20.5056\" width=\"55.44\" height=\"55.44\"/>\n  </clipPath>\n </defs>\n</svg>\n"
          },
          "metadata": {}
        }
      ]
    },
    {
      "cell_type": "code",
      "source": [
        "df_πhat_orig = pd.DataFrame(avg_π_orig, index=[0,1], columns=[0,1])\n",
        "\n",
        "fig, ax = plt.subplots(figsize=(1, 1))\n",
        "sns.heatmap(\n",
        "    df_πhat_orig, ax=ax, annot=True, square=True,\n",
        "    cmap='Blues', fmt='.2f', vmin=0, vmax=1, cbar=False,\n",
        "    linewidths=0.5, linecolor='black', xticklabels=False, yticklabels=False,\n",
        ")\n",
        "ax.tick_params(top=True, bottom=False, labeltop=True, labelbottom=False)\n",
        "plt.tick_params(axis='x', which='both', length=0)\n",
        "plt.tick_params(axis='y', which='both', length=0, rotation=0)\n",
        "plt.xlabel('$\\pi^{*}(a | \\cdot)$')\n",
        "plt.ylabel(\"$s$\", rotation=0)\n",
        "ax.xaxis.set_label_coords(0.5, 1.24)\n",
        "ax.yaxis.set_label_coords(-0.15, 0.425)\n",
        "plt.savefig('synthetic_pistar_orig.pdf', bbox_inches='tight')\n",
        "plt.show()\n",
        "\n",
        "df_πhat_shifted = pd.DataFrame(avg_π_shifted, index=[0,1], columns=[0,1])\n",
        "\n",
        "fig, ax = plt.subplots(figsize=(1, 1))\n",
        "sns.heatmap(\n",
        "    df_πhat_shifted, ax=ax, annot=True, square=True,\n",
        "    cmap='Greens', fmt='.2f', vmin=0, vmax=1, cbar=False,\n",
        "    linewidths=0.5, linecolor='black', xticklabels=False, yticklabels=False,\n",
        ")\n",
        "ax.tick_params(top=True, bottom=False, labeltop=True, labelbottom=False)\n",
        "plt.tick_params(axis='x', which='both', length=0)\n",
        "plt.tick_params(axis='y', which='both', length=0, rotation=0)\n",
        "plt.xlabel('$\\pi^{*}(a | \\cdot)$')\n",
        "plt.ylabel(\"$s$\", rotation=0)\n",
        "ax.xaxis.set_label_coords(0.5, 1.24)\n",
        "ax.yaxis.set_label_coords(-0.15, 0.425)\n",
        "plt.savefig('synthetic_pistar_shifted.pdf', bbox_inches='tight')\n",
        "plt.show()"
      ],
      "metadata": {
        "colab": {
          "base_uri": "https://localhost:8080/",
          "height": 246
        },
        "id": "GL48t98GKZCo",
        "outputId": "81009070-ea0b-4feb-8395-18cd4a68cd11"
      },
      "execution_count": null,
      "outputs": [
        {
          "output_type": "display_data",
          "data": {
            "text/plain": [
              "<Figure size 100x100 with 1 Axes>"
            ],
            "image/svg+xml": "<?xml version=\"1.0\" encoding=\"utf-8\" standalone=\"no\"?>\n<!DOCTYPE svg PUBLIC \"-//W3C//DTD SVG 1.1//EN\"\n  \"http://www.w3.org/Graphics/SVG/1.1/DTD/svg11.dtd\">\n<svg xmlns:xlink=\"http://www.w3.org/1999/xlink\" width=\"80.506pt\" height=\"83.1456pt\" viewBox=\"0 0 80.506 83.1456\" xmlns=\"http://www.w3.org/2000/svg\" version=\"1.1\">\n <metadata>\n  <rdf:RDF xmlns:dc=\"http://purl.org/dc/elements/1.1/\" xmlns:cc=\"http://creativecommons.org/ns#\" xmlns:rdf=\"http://www.w3.org/1999/02/22-rdf-syntax-ns#\">\n   <cc:Work>\n    <dc:type rdf:resource=\"http://purl.org/dc/dcmitype/StillImage\"/>\n    <dc:date>2025-05-15T00:30:07.934399</dc:date>\n    <dc:format>image/svg+xml</dc:format>\n    <dc:creator>\n     <cc:Agent>\n      <dc:title>Matplotlib v3.10.0, https://matplotlib.org/</dc:title>\n     </cc:Agent>\n    </dc:creator>\n   </cc:Work>\n  </rdf:RDF>\n </metadata>\n <defs>\n  <style type=\"text/css\">*{stroke-linejoin: round; stroke-linecap: butt}</style>\n </defs>\n <g id=\"figure_1\">\n  <g id=\"patch_1\">\n   <path d=\"M 0 83.1456 \nL 80.506 83.1456 \nL 80.506 0 \nL 0 0 \nz\n\" style=\"fill: #ffffff\"/>\n  </g>\n  <g id=\"axes_1\">\n   <g id=\"patch_2\">\n    <path d=\"M 17.866 75.9456 \nL 73.306 75.9456 \nL 73.306 20.5056 \nL 17.866 20.5056 \nz\n\" style=\"fill: #ffffff\"/>\n   </g>\n   <g id=\"QuadMesh_1\">\n    <path d=\"M 17.866 20.5056 \nL 45.586 20.5056 \nL 45.586 48.2256 \nL 17.866 48.2256 \nL 17.866 20.5056 \n\" clip-path=\"url(#pf9076f18b8)\" style=\"fill: #084082; stroke: #000000; stroke-width: 0.5\"/>\n    <path d=\"M 45.586 20.5056 \nL 73.306 20.5056 \nL 73.306 48.2256 \nL 45.586 48.2256 \nL 45.586 20.5056 \n\" clip-path=\"url(#pf9076f18b8)\" style=\"fill: #ebf3fb; stroke: #000000; stroke-width: 0.5\"/>\n    <path d=\"M 17.866 48.2256 \nL 45.586 48.2256 \nL 45.586 75.9456 \nL 17.866 75.9456 \nL 17.866 48.2256 \n\" clip-path=\"url(#pf9076f18b8)\" style=\"fill: #d6e5f4; stroke: #000000; stroke-width: 0.5\"/>\n    <path d=\"M 45.586 48.2256 \nL 73.306 48.2256 \nL 73.306 75.9456 \nL 45.586 75.9456 \nL 45.586 48.2256 \n\" clip-path=\"url(#pf9076f18b8)\" style=\"fill: #115ca5; stroke: #000000; stroke-width: 0.5\"/>\n   </g>\n   <g id=\"matplotlib.axis_1\">\n    <g id=\"text_1\">\n     <!-- $\\pi^{*}(a | \\cdot)$ -->\n     <g transform=\"translate(29.286 14.7) scale(0.1 -0.1)\">\n      <defs>\n       <path id=\"Cmmi10-bc\" d=\"M 647 109 \nQ 647 144 672 213 \nQ 850 584 1004 942 \nQ 1159 1300 1282 1639 \nQ 1406 1978 1509 2363 \nL 1100 2363 \nQ 866 2363 662 2216 \nQ 459 2069 325 1844 \nQ 313 1819 288 1819 \nL 213 1819 \nQ 153 1819 153 1881 \nQ 153 1894 166 1919 \nQ 375 2275 614 2517 \nQ 853 2759 1153 2759 \nL 3475 2759 \nQ 3541 2759 3587 2715 \nQ 3634 2672 3634 2597 \nQ 3634 2503 3567 2433 \nQ 3500 2363 3406 2363 \nL 2591 2363 \nQ 2488 1859 2478 1381 \nQ 2478 766 2694 269 \nQ 2713 231 2713 191 \nQ 2713 122 2672 62 \nQ 2631 3 2567 -34 \nQ 2503 -72 2431 -72 \nQ 2263 -72 2200 203 \nQ 2138 478 2138 738 \nQ 2138 1103 2200 1442 \nQ 2263 1781 2400 2363 \nL 1703 2363 \nQ 1197 313 1094 103 \nQ 1003 -72 844 -72 \nQ 766 -72 706 -20 \nQ 647 31 647 109 \nz\n\" transform=\"scale(0.015625)\"/>\n       <path id=\"Cmsy10-a4\" d=\"M 603 813 \nQ 531 813 473 873 \nQ 416 934 416 1006 \nQ 416 1116 506 1159 \nL 1428 1600 \nL 506 2034 \nQ 416 2072 416 2188 \nQ 416 2259 473 2320 \nQ 531 2381 603 2381 \nQ 650 2381 691 2350 \nL 1509 1753 \nL 1416 2797 \nQ 1416 2875 1469 2925 \nQ 1522 2975 1600 2975 \nQ 1675 2975 1726 2928 \nQ 1778 2881 1778 2809 \nL 1778 2797 \nL 1684 1753 \nL 2503 2350 \nQ 2544 2381 2591 2381 \nQ 2669 2381 2723 2320 \nQ 2778 2259 2778 2188 \nQ 2778 2072 2688 2034 \nL 1766 1600 \nL 2688 1159 \nQ 2778 1116 2778 1006 \nQ 2778 934 2723 873 \nQ 2669 813 2591 813 \nQ 2544 813 2503 844 \nL 1684 1441 \nL 1778 403 \nL 1778 384 \nQ 1778 313 1723 266 \nQ 1669 219 1600 219 \nQ 1525 219 1470 270 \nQ 1416 322 1416 397 \nL 1509 1441 \nL 691 844 \nQ 650 813 603 813 \nz\n\" transform=\"scale(0.015625)\"/>\n       <path id=\"Cmr10-28\" d=\"M 1984 -1588 \nQ 1628 -1306 1370 -942 \nQ 1113 -578 948 -165 \nQ 784 247 703 697 \nQ 622 1147 622 1600 \nQ 622 2059 703 2509 \nQ 784 2959 951 3375 \nQ 1119 3791 1378 4153 \nQ 1638 4516 1984 4788 \nQ 1984 4800 2016 4800 \nL 2075 4800 \nQ 2094 4800 2109 4783 \nQ 2125 4766 2125 4744 \nQ 2125 4716 2113 4703 \nQ 1800 4397 1592 4047 \nQ 1384 3697 1257 3301 \nQ 1131 2906 1075 2482 \nQ 1019 2059 1019 1600 \nQ 1019 -434 2106 -1491 \nQ 2125 -1509 2125 -1544 \nQ 2125 -1559 2108 -1579 \nQ 2091 -1600 2075 -1600 \nL 2016 -1600 \nQ 1984 -1600 1984 -1588 \nz\n\" transform=\"scale(0.015625)\"/>\n       <path id=\"Cmmi10-61\" d=\"M 1113 -72 \nQ 709 -72 476 233 \nQ 244 538 244 953 \nQ 244 1363 456 1803 \nQ 669 2244 1030 2536 \nQ 1391 2828 1806 2828 \nQ 1997 2828 2147 2725 \nQ 2297 2622 2381 2444 \nQ 2453 2700 2663 2700 \nQ 2744 2700 2798 2651 \nQ 2853 2603 2853 2522 \nQ 2853 2503 2851 2493 \nQ 2850 2484 2847 2472 \nL 2400 684 \nQ 2356 494 2356 372 \nQ 2356 97 2541 97 \nQ 2741 97 2845 351 \nQ 2950 606 3022 941 \nQ 3034 978 3072 978 \nL 3150 978 \nQ 3175 978 3190 956 \nQ 3206 934 3206 916 \nQ 3094 469 2961 198 \nQ 2828 -72 2528 -72 \nQ 2313 -72 2147 54 \nQ 1981 181 1941 391 \nQ 1528 -72 1113 -72 \nz\nM 1119 97 \nQ 1350 97 1567 270 \nQ 1784 444 1941 678 \nQ 1947 684 1947 697 \nL 2291 2088 \nL 2297 2106 \nQ 2259 2334 2132 2498 \nQ 2006 2663 1791 2663 \nQ 1575 2663 1389 2486 \nQ 1203 2309 1075 2069 \nQ 950 1813 836 1366 \nQ 722 919 722 672 \nQ 722 450 817 273 \nQ 913 97 1119 97 \nz\n\" transform=\"scale(0.015625)\"/>\n       <path id=\"Cmsy10-6a\" d=\"M 763 -1484 \nL 763 4684 \nQ 763 4734 800 4767 \nQ 838 4800 891 4800 \nQ 938 4800 978 4767 \nQ 1019 4734 1019 4684 \nL 1019 -1484 \nQ 1019 -1534 978 -1567 \nQ 938 -1600 891 -1600 \nQ 838 -1600 800 -1567 \nQ 763 -1534 763 -1484 \nz\n\" transform=\"scale(0.015625)\"/>\n       <path id=\"Cmsy10-a2\" d=\"M 538 1600 \nQ 538 1691 584 1772 \nQ 631 1853 714 1903 \nQ 797 1953 891 1953 \nQ 981 1953 1064 1903 \nQ 1147 1853 1194 1772 \nQ 1241 1691 1241 1600 \nQ 1241 1456 1139 1351 \nQ 1038 1247 891 1247 \nQ 747 1247 642 1351 \nQ 538 1456 538 1600 \nz\n\" transform=\"scale(0.015625)\"/>\n       <path id=\"Cmr10-29\" d=\"M 416 -1600 \nQ 359 -1600 359 -1544 \nQ 359 -1516 372 -1503 \nQ 1466 -434 1466 1600 \nQ 1466 3634 384 4691 \nQ 359 4706 359 4744 \nQ 359 4766 376 4783 \nQ 394 4800 416 4800 \nL 475 4800 \nQ 494 4800 506 4788 \nQ 966 4425 1272 3906 \nQ 1578 3388 1720 2800 \nQ 1863 2213 1863 1600 \nQ 1863 1147 1786 708 \nQ 1709 269 1542 -157 \nQ 1375 -584 1119 -945 \nQ 863 -1306 506 -1588 \nQ 494 -1600 475 -1600 \nL 416 -1600 \nz\n\" transform=\"scale(0.015625)\"/>\n      </defs>\n      <use xlink:href=\"#Cmmi10-bc\"/>\n      <use xlink:href=\"#Cmsy10-a4\" transform=\"translate(63.059297 38.264063) scale(0.7)\"/>\n      <use xlink:href=\"#Cmr10-28\" transform=\"translate(104.436641 0)\"/>\n      <use xlink:href=\"#Cmmi10-61\" transform=\"translate(143.255 0)\"/>\n      <use xlink:href=\"#Cmsy10-6a\" transform=\"translate(196.038203 0)\"/>\n      <use xlink:href=\"#Cmsy10-a2\" transform=\"translate(241.282344 0)\"/>\n      <use xlink:href=\"#Cmr10-29\" transform=\"translate(286.526484 0)\"/>\n     </g>\n    </g>\n   </g>\n   <g id=\"matplotlib.axis_2\">\n    <g id=\"text_2\">\n     <!-- $s$ -->\n     <g transform=\"translate(7.2 50.213288) scale(0.1 -0.1)\">\n      <defs>\n       <path id=\"Cmmi10-73\" d=\"M 556 391 \nQ 728 97 1247 97 \nQ 1472 97 1675 173 \nQ 1878 250 2011 403 \nQ 2144 556 2144 775 \nQ 2144 941 2025 1047 \nQ 1906 1153 1734 1191 \nL 1388 1259 \nQ 1150 1319 997 1481 \nQ 844 1644 844 1875 \nQ 844 2159 998 2378 \nQ 1153 2597 1406 2712 \nQ 1659 2828 1931 2828 \nQ 2222 2828 2451 2689 \nQ 2681 2550 2681 2278 \nQ 2681 2131 2598 2018 \nQ 2516 1906 2369 1906 \nQ 2284 1906 2223 1961 \nQ 2163 2016 2163 2100 \nQ 2163 2175 2205 2245 \nQ 2247 2316 2317 2358 \nQ 2388 2400 2463 2400 \nQ 2406 2538 2251 2600 \nQ 2097 2663 1919 2663 \nQ 1756 2663 1593 2597 \nQ 1431 2531 1332 2404 \nQ 1234 2278 1234 2106 \nQ 1234 1991 1315 1903 \nQ 1397 1816 1516 1778 \nL 1888 1703 \nQ 2066 1666 2214 1570 \nQ 2363 1475 2448 1329 \nQ 2534 1184 2534 997 \nQ 2534 759 2401 528 \nQ 2269 297 2075 159 \nQ 1734 -72 1241 -72 \nQ 900 -72 615 84 \nQ 331 241 331 550 \nQ 331 725 432 854 \nQ 534 984 709 984 \nQ 813 984 883 921 \nQ 953 859 953 756 \nQ 953 609 843 500 \nQ 734 391 588 391 \nL 556 391 \nz\n\" transform=\"scale(0.015625)\"/>\n      </defs>\n      <use xlink:href=\"#Cmmi10-73\" transform=\"translate(0 0.8125)\"/>\n     </g>\n    </g>\n   </g>\n   <g id=\"text_3\">\n    <!-- 0.94 -->\n    <g style=\"fill: #ffffff\" transform=\"translate(22.976 36.695287) scale(0.1 -0.1)\">\n     <defs>\n      <path id=\"STIXGeneral-Regular-30\" d=\"M 3046 2112 \nQ 3046 1683 2963 1302 \nQ 2880 922 2717 602 \nQ 2554 282 2266 96 \nQ 1978 -90 1600 -90 \nQ 1210 -90 915 108 \nQ 621 307 461 640 \nQ 301 973 227 1350 \nQ 154 1728 154 2150 \nQ 154 2746 301 3222 \nQ 448 3699 790 4012 \nQ 1133 4326 1626 4326 \nQ 2253 4326 2649 3712 \nQ 3046 3098 3046 2112 \nz\nM 2432 2080 \nQ 2432 3091 2217 3625 \nQ 2003 4160 1587 4160 \nQ 1190 4160 979 3622 \nQ 768 3085 768 2106 \nQ 768 1120 979 598 \nQ 1190 77 1600 77 \nQ 2003 77 2217 598 \nQ 2432 1120 2432 2080 \nz\n\" transform=\"scale(0.015625)\"/>\n      <path id=\"STIXGeneral-Regular-2e\" d=\"M 1158 275 \nQ 1158 134 1052 32 \nQ 947 -70 800 -70 \nQ 653 -70 550 32 \nQ 448 134 448 281 \nQ 448 429 553 534 \nQ 659 640 806 640 \nQ 947 640 1052 531 \nQ 1158 422 1158 275 \nz\n\" transform=\"scale(0.015625)\"/>\n      <path id=\"STIXGeneral-Regular-39\" d=\"M 378 -141 \nL 358 -13 \nQ 1094 115 1603 608 \nQ 2112 1101 2304 1882 \nQ 1933 1517 1344 1517 \nQ 826 1517 509 1875 \nQ 192 2234 192 2816 \nQ 192 3462 573 3894 \nQ 954 4326 1523 4326 \nQ 2131 4326 2528 3840 \nQ 2938 3328 2938 2522 \nQ 2938 1958 2742 1462 \nQ 2547 966 2170 621 \nQ 1773 262 1395 105 \nQ 1018 -51 378 -141 \nz\nM 2317 2272 \nL 2317 2522 \nQ 2317 4147 1472 4147 \nQ 1171 4147 1005 3930 \nQ 909 3802 845 3546 \nQ 781 3290 781 3034 \nQ 781 2464 995 2128 \nQ 1210 1792 1568 1792 \nQ 1824 1792 2070 1917 \nQ 2317 2042 2317 2272 \nz\n\" transform=\"scale(0.015625)\"/>\n      <path id=\"STIXGeneral-Regular-34\" d=\"M 3027 1069 \nL 2368 1069 \nL 2368 0 \nL 1869 0 \nL 1869 1069 \nL 77 1069 \nL 77 1478 \nL 2086 4326 \nL 2368 4326 \nL 2368 1478 \nL 3027 1478 \nL 3027 1069 \nz\nM 1869 1478 \nL 1869 3674 \nL 333 1478 \nL 1869 1478 \nz\n\" transform=\"scale(0.015625)\"/>\n     </defs>\n     <use xlink:href=\"#STIXGeneral-Regular-30\"/>\n     <use xlink:href=\"#STIXGeneral-Regular-2e\" transform=\"translate(49.999985 0)\"/>\n     <use xlink:href=\"#STIXGeneral-Regular-39\" transform=\"translate(74.999969 0)\"/>\n     <use xlink:href=\"#STIXGeneral-Regular-34\" transform=\"translate(124.999954 0)\"/>\n    </g>\n   </g>\n   <g id=\"text_4\">\n    <!-- 0.06 -->\n    <g style=\"fill: #262626\" transform=\"translate(50.696 36.695287) scale(0.1 -0.1)\">\n     <defs>\n      <path id=\"STIXGeneral-Regular-36\" d=\"M 2854 4378 \nL 2867 4275 \nQ 2112 4154 1606 3664 \nQ 1101 3174 973 2451 \nQ 1344 2739 1786 2739 \nQ 2349 2739 2672 2380 \nQ 2995 2022 2995 1402 \nQ 2995 774 2669 378 \nQ 2291 -90 1651 -90 \nQ 870 -90 518 557 \nQ 218 1107 218 1786 \nQ 218 2835 915 3552 \nQ 1312 3962 1731 4131 \nQ 2150 4301 2854 4378 \nz\nM 2419 1203 \nQ 2419 2445 1555 2445 \nQ 1235 2445 1024 2275 \nQ 813 2106 813 1702 \nQ 813 954 1046 522 \nQ 1280 90 1722 90 \nQ 2061 90 2240 394 \nQ 2419 698 2419 1203 \nz\n\" transform=\"scale(0.015625)\"/>\n     </defs>\n     <use xlink:href=\"#STIXGeneral-Regular-30\"/>\n     <use xlink:href=\"#STIXGeneral-Regular-2e\" transform=\"translate(49.999985 0)\"/>\n     <use xlink:href=\"#STIXGeneral-Regular-30\" transform=\"translate(74.999969 0)\"/>\n     <use xlink:href=\"#STIXGeneral-Regular-36\" transform=\"translate(124.999954 0)\"/>\n    </g>\n   </g>\n   <g id=\"text_5\">\n    <!-- 0.17 -->\n    <g style=\"fill: #262626\" transform=\"translate(22.976 64.415288) scale(0.1 -0.1)\">\n     <defs>\n      <path id=\"STIXGeneral-Regular-31\" d=\"M 2522 0 \nL 755 0 \nL 755 96 \nQ 1107 115 1235 227 \nQ 1363 339 1363 608 \nL 1363 3482 \nQ 1363 3795 1171 3795 \nQ 1082 3795 883 3718 \nL 710 3654 \nL 710 3744 \nL 1856 4326 \nL 1914 4307 \nL 1914 486 \nQ 1914 275 2042 185 \nQ 2170 96 2522 96 \nL 2522 0 \nz\n\" transform=\"scale(0.015625)\"/>\n      <path id=\"STIXGeneral-Regular-37\" d=\"M 2874 4134 \nL 1517 -51 \nL 1101 -51 \nL 2368 3763 \nL 992 3763 \nQ 717 3763 582 3667 \nQ 448 3571 243 3238 \nL 128 3296 \nL 512 4237 \nL 2874 4237 \nL 2874 4134 \nz\n\" transform=\"scale(0.015625)\"/>\n     </defs>\n     <use xlink:href=\"#STIXGeneral-Regular-30\"/>\n     <use xlink:href=\"#STIXGeneral-Regular-2e\" transform=\"translate(49.999985 0)\"/>\n     <use xlink:href=\"#STIXGeneral-Regular-31\" transform=\"translate(74.999969 0)\"/>\n     <use xlink:href=\"#STIXGeneral-Regular-37\" transform=\"translate(124.999954 0)\"/>\n    </g>\n   </g>\n   <g id=\"text_6\">\n    <!-- 0.83 -->\n    <g style=\"fill: #ffffff\" transform=\"translate(50.696 64.415288) scale(0.1 -0.1)\">\n     <defs>\n      <path id=\"STIXGeneral-Regular-38\" d=\"M 2848 992 \nQ 2848 499 2505 204 \nQ 2163 -90 1587 -90 \nQ 1050 -90 704 204 \nQ 358 499 358 954 \nQ 358 1293 524 1533 \nQ 691 1773 1190 2125 \nQ 710 2522 553 2765 \nQ 397 3008 397 3328 \nQ 397 3782 745 4054 \nQ 1094 4326 1638 4326 \nQ 2106 4326 2410 4060 \nQ 2714 3795 2714 3411 \nQ 2714 3059 2531 2848 \nQ 2349 2637 1856 2374 \nQ 2432 1990 2640 1689 \nQ 2848 1389 2848 992 \nz\nM 2272 3411 \nQ 2272 3744 2086 3945 \nQ 1901 4147 1574 4147 \nQ 1248 4147 1059 3977 \nQ 870 3808 870 3513 \nQ 870 3219 1059 2979 \nQ 1248 2739 1670 2490 \nQ 1997 2682 2134 2896 \nQ 2272 3110 2272 3411 \nz\nM 1734 1741 \nL 1357 1997 \nQ 1075 1766 960 1545 \nQ 845 1325 845 1011 \nQ 845 576 1065 333 \nQ 1286 90 1658 90 \nQ 1971 90 2166 285 \nQ 2362 480 2362 794 \nQ 2362 1082 2214 1299 \nQ 2067 1517 1734 1741 \nz\n\" transform=\"scale(0.015625)\"/>\n      <path id=\"STIXGeneral-Regular-33\" d=\"M 390 3264 \nL 288 3290 \nQ 435 3770 748 4048 \nQ 1062 4326 1542 4326 \nQ 1990 4326 2265 4083 \nQ 2541 3840 2541 3450 \nQ 2541 2925 1946 2566 \nQ 2298 2413 2477 2227 \nQ 2758 1914 2758 1402 \nQ 2758 890 2464 506 \nQ 2246 211 1840 60 \nQ 1434 -90 979 -90 \nQ 262 -90 262 275 \nQ 262 378 339 442 \nQ 416 506 525 506 \nQ 685 506 915 339 \nQ 1197 141 1466 141 \nQ 1818 141 2058 425 \nQ 2298 710 2298 1120 \nQ 2298 1856 1632 2048 \nQ 1434 2112 979 2112 \nL 979 2202 \nQ 1338 2323 1517 2432 \nQ 2035 2726 2035 3290 \nQ 2035 3610 1852 3776 \nQ 1670 3942 1344 3942 \nQ 768 3942 390 3264 \nz\n\" transform=\"scale(0.015625)\"/>\n     </defs>\n     <use xlink:href=\"#STIXGeneral-Regular-30\"/>\n     <use xlink:href=\"#STIXGeneral-Regular-2e\" transform=\"translate(49.999985 0)\"/>\n     <use xlink:href=\"#STIXGeneral-Regular-38\" transform=\"translate(74.999969 0)\"/>\n     <use xlink:href=\"#STIXGeneral-Regular-33\" transform=\"translate(124.999954 0)\"/>\n    </g>\n   </g>\n  </g>\n </g>\n <defs>\n  <clipPath id=\"pf9076f18b8\">\n   <rect x=\"17.866\" y=\"20.5056\" width=\"55.44\" height=\"55.44\"/>\n  </clipPath>\n </defs>\n</svg>\n"
          },
          "metadata": {}
        },
        {
          "output_type": "display_data",
          "data": {
            "text/plain": [
              "<Figure size 100x100 with 1 Axes>"
            ],
            "image/svg+xml": "<?xml version=\"1.0\" encoding=\"utf-8\" standalone=\"no\"?>\n<!DOCTYPE svg PUBLIC \"-//W3C//DTD SVG 1.1//EN\"\n  \"http://www.w3.org/Graphics/SVG/1.1/DTD/svg11.dtd\">\n<svg xmlns:xlink=\"http://www.w3.org/1999/xlink\" width=\"80.506pt\" height=\"83.1456pt\" viewBox=\"0 0 80.506 83.1456\" xmlns=\"http://www.w3.org/2000/svg\" version=\"1.1\">\n <metadata>\n  <rdf:RDF xmlns:dc=\"http://purl.org/dc/elements/1.1/\" xmlns:cc=\"http://creativecommons.org/ns#\" xmlns:rdf=\"http://www.w3.org/1999/02/22-rdf-syntax-ns#\">\n   <cc:Work>\n    <dc:type rdf:resource=\"http://purl.org/dc/dcmitype/StillImage\"/>\n    <dc:date>2025-05-15T00:30:08.121745</dc:date>\n    <dc:format>image/svg+xml</dc:format>\n    <dc:creator>\n     <cc:Agent>\n      <dc:title>Matplotlib v3.10.0, https://matplotlib.org/</dc:title>\n     </cc:Agent>\n    </dc:creator>\n   </cc:Work>\n  </rdf:RDF>\n </metadata>\n <defs>\n  <style type=\"text/css\">*{stroke-linejoin: round; stroke-linecap: butt}</style>\n </defs>\n <g id=\"figure_1\">\n  <g id=\"patch_1\">\n   <path d=\"M 0 83.1456 \nL 80.506 83.1456 \nL 80.506 0 \nL 0 0 \nz\n\" style=\"fill: #ffffff\"/>\n  </g>\n  <g id=\"axes_1\">\n   <g id=\"patch_2\">\n    <path d=\"M 17.866 75.9456 \nL 73.306 75.9456 \nL 73.306 20.5056 \nL 17.866 20.5056 \nz\n\" style=\"fill: #ffffff\"/>\n   </g>\n   <g id=\"QuadMesh_1\">\n    <path d=\"M 17.866 20.5056 \nL 45.586 20.5056 \nL 45.586 48.2256 \nL 17.866 48.2256 \nL 17.866 20.5056 \n\" clip-path=\"url(#paf7f1197d0)\" style=\"fill: #f7fcf5; stroke: #000000; stroke-width: 0.5\"/>\n    <path d=\"M 45.586 20.5056 \nL 73.306 20.5056 \nL 73.306 48.2256 \nL 45.586 48.2256 \nL 45.586 20.5056 \n\" clip-path=\"url(#paf7f1197d0)\" style=\"fill: #00441b; stroke: #000000; stroke-width: 0.5\"/>\n    <path d=\"M 17.866 48.2256 \nL 45.586 48.2256 \nL 45.586 75.9456 \nL 17.866 75.9456 \nL 17.866 48.2256 \n\" clip-path=\"url(#paf7f1197d0)\" style=\"fill: #f7fcf5; stroke: #000000; stroke-width: 0.5\"/>\n    <path d=\"M 45.586 48.2256 \nL 73.306 48.2256 \nL 73.306 75.9456 \nL 45.586 75.9456 \nL 45.586 48.2256 \n\" clip-path=\"url(#paf7f1197d0)\" style=\"fill: #00441b; stroke: #000000; stroke-width: 0.5\"/>\n   </g>\n   <g id=\"matplotlib.axis_1\">\n    <g id=\"text_1\">\n     <!-- $\\pi^{*}(a | \\cdot)$ -->\n     <g transform=\"translate(29.286 14.7) scale(0.1 -0.1)\">\n      <defs>\n       <path id=\"Cmmi10-bc\" d=\"M 647 109 \nQ 647 144 672 213 \nQ 850 584 1004 942 \nQ 1159 1300 1282 1639 \nQ 1406 1978 1509 2363 \nL 1100 2363 \nQ 866 2363 662 2216 \nQ 459 2069 325 1844 \nQ 313 1819 288 1819 \nL 213 1819 \nQ 153 1819 153 1881 \nQ 153 1894 166 1919 \nQ 375 2275 614 2517 \nQ 853 2759 1153 2759 \nL 3475 2759 \nQ 3541 2759 3587 2715 \nQ 3634 2672 3634 2597 \nQ 3634 2503 3567 2433 \nQ 3500 2363 3406 2363 \nL 2591 2363 \nQ 2488 1859 2478 1381 \nQ 2478 766 2694 269 \nQ 2713 231 2713 191 \nQ 2713 122 2672 62 \nQ 2631 3 2567 -34 \nQ 2503 -72 2431 -72 \nQ 2263 -72 2200 203 \nQ 2138 478 2138 738 \nQ 2138 1103 2200 1442 \nQ 2263 1781 2400 2363 \nL 1703 2363 \nQ 1197 313 1094 103 \nQ 1003 -72 844 -72 \nQ 766 -72 706 -20 \nQ 647 31 647 109 \nz\n\" transform=\"scale(0.015625)\"/>\n       <path id=\"Cmsy10-a4\" d=\"M 603 813 \nQ 531 813 473 873 \nQ 416 934 416 1006 \nQ 416 1116 506 1159 \nL 1428 1600 \nL 506 2034 \nQ 416 2072 416 2188 \nQ 416 2259 473 2320 \nQ 531 2381 603 2381 \nQ 650 2381 691 2350 \nL 1509 1753 \nL 1416 2797 \nQ 1416 2875 1469 2925 \nQ 1522 2975 1600 2975 \nQ 1675 2975 1726 2928 \nQ 1778 2881 1778 2809 \nL 1778 2797 \nL 1684 1753 \nL 2503 2350 \nQ 2544 2381 2591 2381 \nQ 2669 2381 2723 2320 \nQ 2778 2259 2778 2188 \nQ 2778 2072 2688 2034 \nL 1766 1600 \nL 2688 1159 \nQ 2778 1116 2778 1006 \nQ 2778 934 2723 873 \nQ 2669 813 2591 813 \nQ 2544 813 2503 844 \nL 1684 1441 \nL 1778 403 \nL 1778 384 \nQ 1778 313 1723 266 \nQ 1669 219 1600 219 \nQ 1525 219 1470 270 \nQ 1416 322 1416 397 \nL 1509 1441 \nL 691 844 \nQ 650 813 603 813 \nz\n\" transform=\"scale(0.015625)\"/>\n       <path id=\"Cmr10-28\" d=\"M 1984 -1588 \nQ 1628 -1306 1370 -942 \nQ 1113 -578 948 -165 \nQ 784 247 703 697 \nQ 622 1147 622 1600 \nQ 622 2059 703 2509 \nQ 784 2959 951 3375 \nQ 1119 3791 1378 4153 \nQ 1638 4516 1984 4788 \nQ 1984 4800 2016 4800 \nL 2075 4800 \nQ 2094 4800 2109 4783 \nQ 2125 4766 2125 4744 \nQ 2125 4716 2113 4703 \nQ 1800 4397 1592 4047 \nQ 1384 3697 1257 3301 \nQ 1131 2906 1075 2482 \nQ 1019 2059 1019 1600 \nQ 1019 -434 2106 -1491 \nQ 2125 -1509 2125 -1544 \nQ 2125 -1559 2108 -1579 \nQ 2091 -1600 2075 -1600 \nL 2016 -1600 \nQ 1984 -1600 1984 -1588 \nz\n\" transform=\"scale(0.015625)\"/>\n       <path id=\"Cmmi10-61\" d=\"M 1113 -72 \nQ 709 -72 476 233 \nQ 244 538 244 953 \nQ 244 1363 456 1803 \nQ 669 2244 1030 2536 \nQ 1391 2828 1806 2828 \nQ 1997 2828 2147 2725 \nQ 2297 2622 2381 2444 \nQ 2453 2700 2663 2700 \nQ 2744 2700 2798 2651 \nQ 2853 2603 2853 2522 \nQ 2853 2503 2851 2493 \nQ 2850 2484 2847 2472 \nL 2400 684 \nQ 2356 494 2356 372 \nQ 2356 97 2541 97 \nQ 2741 97 2845 351 \nQ 2950 606 3022 941 \nQ 3034 978 3072 978 \nL 3150 978 \nQ 3175 978 3190 956 \nQ 3206 934 3206 916 \nQ 3094 469 2961 198 \nQ 2828 -72 2528 -72 \nQ 2313 -72 2147 54 \nQ 1981 181 1941 391 \nQ 1528 -72 1113 -72 \nz\nM 1119 97 \nQ 1350 97 1567 270 \nQ 1784 444 1941 678 \nQ 1947 684 1947 697 \nL 2291 2088 \nL 2297 2106 \nQ 2259 2334 2132 2498 \nQ 2006 2663 1791 2663 \nQ 1575 2663 1389 2486 \nQ 1203 2309 1075 2069 \nQ 950 1813 836 1366 \nQ 722 919 722 672 \nQ 722 450 817 273 \nQ 913 97 1119 97 \nz\n\" transform=\"scale(0.015625)\"/>\n       <path id=\"Cmsy10-6a\" d=\"M 763 -1484 \nL 763 4684 \nQ 763 4734 800 4767 \nQ 838 4800 891 4800 \nQ 938 4800 978 4767 \nQ 1019 4734 1019 4684 \nL 1019 -1484 \nQ 1019 -1534 978 -1567 \nQ 938 -1600 891 -1600 \nQ 838 -1600 800 -1567 \nQ 763 -1534 763 -1484 \nz\n\" transform=\"scale(0.015625)\"/>\n       <path id=\"Cmsy10-a2\" d=\"M 538 1600 \nQ 538 1691 584 1772 \nQ 631 1853 714 1903 \nQ 797 1953 891 1953 \nQ 981 1953 1064 1903 \nQ 1147 1853 1194 1772 \nQ 1241 1691 1241 1600 \nQ 1241 1456 1139 1351 \nQ 1038 1247 891 1247 \nQ 747 1247 642 1351 \nQ 538 1456 538 1600 \nz\n\" transform=\"scale(0.015625)\"/>\n       <path id=\"Cmr10-29\" d=\"M 416 -1600 \nQ 359 -1600 359 -1544 \nQ 359 -1516 372 -1503 \nQ 1466 -434 1466 1600 \nQ 1466 3634 384 4691 \nQ 359 4706 359 4744 \nQ 359 4766 376 4783 \nQ 394 4800 416 4800 \nL 475 4800 \nQ 494 4800 506 4788 \nQ 966 4425 1272 3906 \nQ 1578 3388 1720 2800 \nQ 1863 2213 1863 1600 \nQ 1863 1147 1786 708 \nQ 1709 269 1542 -157 \nQ 1375 -584 1119 -945 \nQ 863 -1306 506 -1588 \nQ 494 -1600 475 -1600 \nL 416 -1600 \nz\n\" transform=\"scale(0.015625)\"/>\n      </defs>\n      <use xlink:href=\"#Cmmi10-bc\"/>\n      <use xlink:href=\"#Cmsy10-a4\" transform=\"translate(63.059297 38.264063) scale(0.7)\"/>\n      <use xlink:href=\"#Cmr10-28\" transform=\"translate(104.436641 0)\"/>\n      <use xlink:href=\"#Cmmi10-61\" transform=\"translate(143.255 0)\"/>\n      <use xlink:href=\"#Cmsy10-6a\" transform=\"translate(196.038203 0)\"/>\n      <use xlink:href=\"#Cmsy10-a2\" transform=\"translate(241.282344 0)\"/>\n      <use xlink:href=\"#Cmr10-29\" transform=\"translate(286.526484 0)\"/>\n     </g>\n    </g>\n   </g>\n   <g id=\"matplotlib.axis_2\">\n    <g id=\"text_2\">\n     <!-- $s$ -->\n     <g transform=\"translate(7.2 50.213288) scale(0.1 -0.1)\">\n      <defs>\n       <path id=\"Cmmi10-73\" d=\"M 556 391 \nQ 728 97 1247 97 \nQ 1472 97 1675 173 \nQ 1878 250 2011 403 \nQ 2144 556 2144 775 \nQ 2144 941 2025 1047 \nQ 1906 1153 1734 1191 \nL 1388 1259 \nQ 1150 1319 997 1481 \nQ 844 1644 844 1875 \nQ 844 2159 998 2378 \nQ 1153 2597 1406 2712 \nQ 1659 2828 1931 2828 \nQ 2222 2828 2451 2689 \nQ 2681 2550 2681 2278 \nQ 2681 2131 2598 2018 \nQ 2516 1906 2369 1906 \nQ 2284 1906 2223 1961 \nQ 2163 2016 2163 2100 \nQ 2163 2175 2205 2245 \nQ 2247 2316 2317 2358 \nQ 2388 2400 2463 2400 \nQ 2406 2538 2251 2600 \nQ 2097 2663 1919 2663 \nQ 1756 2663 1593 2597 \nQ 1431 2531 1332 2404 \nQ 1234 2278 1234 2106 \nQ 1234 1991 1315 1903 \nQ 1397 1816 1516 1778 \nL 1888 1703 \nQ 2066 1666 2214 1570 \nQ 2363 1475 2448 1329 \nQ 2534 1184 2534 997 \nQ 2534 759 2401 528 \nQ 2269 297 2075 159 \nQ 1734 -72 1241 -72 \nQ 900 -72 615 84 \nQ 331 241 331 550 \nQ 331 725 432 854 \nQ 534 984 709 984 \nQ 813 984 883 921 \nQ 953 859 953 756 \nQ 953 609 843 500 \nQ 734 391 588 391 \nL 556 391 \nz\n\" transform=\"scale(0.015625)\"/>\n      </defs>\n      <use xlink:href=\"#Cmmi10-73\" transform=\"translate(0 0.8125)\"/>\n     </g>\n    </g>\n   </g>\n   <g id=\"text_3\">\n    <!-- 0.00 -->\n    <g style=\"fill: #262626\" transform=\"translate(22.976 36.695287) scale(0.1 -0.1)\">\n     <defs>\n      <path id=\"STIXGeneral-Regular-30\" d=\"M 3046 2112 \nQ 3046 1683 2963 1302 \nQ 2880 922 2717 602 \nQ 2554 282 2266 96 \nQ 1978 -90 1600 -90 \nQ 1210 -90 915 108 \nQ 621 307 461 640 \nQ 301 973 227 1350 \nQ 154 1728 154 2150 \nQ 154 2746 301 3222 \nQ 448 3699 790 4012 \nQ 1133 4326 1626 4326 \nQ 2253 4326 2649 3712 \nQ 3046 3098 3046 2112 \nz\nM 2432 2080 \nQ 2432 3091 2217 3625 \nQ 2003 4160 1587 4160 \nQ 1190 4160 979 3622 \nQ 768 3085 768 2106 \nQ 768 1120 979 598 \nQ 1190 77 1600 77 \nQ 2003 77 2217 598 \nQ 2432 1120 2432 2080 \nz\n\" transform=\"scale(0.015625)\"/>\n      <path id=\"STIXGeneral-Regular-2e\" d=\"M 1158 275 \nQ 1158 134 1052 32 \nQ 947 -70 800 -70 \nQ 653 -70 550 32 \nQ 448 134 448 281 \nQ 448 429 553 534 \nQ 659 640 806 640 \nQ 947 640 1052 531 \nQ 1158 422 1158 275 \nz\n\" transform=\"scale(0.015625)\"/>\n     </defs>\n     <use xlink:href=\"#STIXGeneral-Regular-30\"/>\n     <use xlink:href=\"#STIXGeneral-Regular-2e\" transform=\"translate(49.999985 0)\"/>\n     <use xlink:href=\"#STIXGeneral-Regular-30\" transform=\"translate(74.999969 0)\"/>\n     <use xlink:href=\"#STIXGeneral-Regular-30\" transform=\"translate(124.999954 0)\"/>\n    </g>\n   </g>\n   <g id=\"text_4\">\n    <!-- 1.00 -->\n    <g style=\"fill: #ffffff\" transform=\"translate(50.696 36.695287) scale(0.1 -0.1)\">\n     <defs>\n      <path id=\"STIXGeneral-Regular-31\" d=\"M 2522 0 \nL 755 0 \nL 755 96 \nQ 1107 115 1235 227 \nQ 1363 339 1363 608 \nL 1363 3482 \nQ 1363 3795 1171 3795 \nQ 1082 3795 883 3718 \nL 710 3654 \nL 710 3744 \nL 1856 4326 \nL 1914 4307 \nL 1914 486 \nQ 1914 275 2042 185 \nQ 2170 96 2522 96 \nL 2522 0 \nz\n\" transform=\"scale(0.015625)\"/>\n     </defs>\n     <use xlink:href=\"#STIXGeneral-Regular-31\"/>\n     <use xlink:href=\"#STIXGeneral-Regular-2e\" transform=\"translate(49.999985 0)\"/>\n     <use xlink:href=\"#STIXGeneral-Regular-30\" transform=\"translate(74.999969 0)\"/>\n     <use xlink:href=\"#STIXGeneral-Regular-30\" transform=\"translate(124.999954 0)\"/>\n    </g>\n   </g>\n   <g id=\"text_5\">\n    <!-- 0.00 -->\n    <g style=\"fill: #262626\" transform=\"translate(22.976 64.415288) scale(0.1 -0.1)\">\n     <use xlink:href=\"#STIXGeneral-Regular-30\"/>\n     <use xlink:href=\"#STIXGeneral-Regular-2e\" transform=\"translate(49.999985 0)\"/>\n     <use xlink:href=\"#STIXGeneral-Regular-30\" transform=\"translate(74.999969 0)\"/>\n     <use xlink:href=\"#STIXGeneral-Regular-30\" transform=\"translate(124.999954 0)\"/>\n    </g>\n   </g>\n   <g id=\"text_6\">\n    <!-- 1.00 -->\n    <g style=\"fill: #ffffff\" transform=\"translate(50.696 64.415288) scale(0.1 -0.1)\">\n     <use xlink:href=\"#STIXGeneral-Regular-31\"/>\n     <use xlink:href=\"#STIXGeneral-Regular-2e\" transform=\"translate(49.999985 0)\"/>\n     <use xlink:href=\"#STIXGeneral-Regular-30\" transform=\"translate(74.999969 0)\"/>\n     <use xlink:href=\"#STIXGeneral-Regular-30\" transform=\"translate(124.999954 0)\"/>\n    </g>\n   </g>\n  </g>\n </g>\n <defs>\n  <clipPath id=\"paf7f1197d0\">\n   <rect x=\"17.866\" y=\"20.5056\" width=\"55.44\" height=\"55.44\"/>\n  </clipPath>\n </defs>\n</svg>\n"
          },
          "metadata": {}
        }
      ]
    },
    {
      "cell_type": "code",
      "source": [
        "!zip -r fig.zip *.pdf"
      ],
      "metadata": {
        "colab": {
          "base_uri": "https://localhost:8080/"
        },
        "id": "d9-Z6VvzK8JG",
        "outputId": "1d93c745-5b61-46db-b650-53c0edbd8cdf"
      },
      "execution_count": null,
      "outputs": [
        {
          "output_type": "stream",
          "name": "stdout",
          "text": [
            "updating: synthetic_p_hat_orig.pdf (deflated 44%)\n",
            "updating: synthetic_p_hat_shifted.pdf (deflated 46%)\n",
            "updating: synthetic_pistar_orig.pdf (deflated 46%)\n",
            "updating: synthetic_pistar_shifted.pdf (deflated 50%)\n",
            "updating: synthetic_Qstar_orig.pdf (deflated 45%)\n",
            "updating: synthetic_Qstar_shifted.pdf (deflated 46%)\n",
            "updating: synthetic_Vstar_orig.pdf (deflated 52%)\n",
            "updating: synthetic_Vstar_shifted.pdf (deflated 51%)\n",
            "  adding: synthetic_r_hat_orig.pdf (deflated 46%)\n",
            "  adding: synthetic_r_hat_shifted.pdf (deflated 49%)\n"
          ]
        }
      ]
    },
    {
      "cell_type": "code",
      "source": [],
      "metadata": {
        "id": "IyuLg2fFWrEx"
      },
      "execution_count": null,
      "outputs": []
    }
  ]
}