{
 "cells": [
  {
   "cell_type": "code",
   "execution_count": 1,
   "id": "8e14e038-f1f1-4626-a111-c7b68df1cdbb",
   "metadata": {},
   "outputs": [
    {
     "name": "stdout",
     "output_type": "stream",
     "text": [
      "/home/stang41/RL_2024/1_preprocess\n"
     ]
    }
   ],
   "source": [
    "%cd \"~/RL_2024/1_preprocess/\"\n",
    "import numpy as np\n",
    "import pandas as pd\n",
    "\n",
    "import timestep_utils\n",
    "project_dir = '~/RL_2024/'"
   ]
  },
  {
   "cell_type": "code",
   "execution_count": 2,
   "id": "d1500d92-85d4-47bb-bdd6-11cc979d97e8",
   "metadata": {},
   "outputs": [],
   "source": [
    "df_train_in = pd.read_csv(project_dir + 'data/traj_data_train.csv').drop(columns=['m:icustayid', 'a:vaso', 'a:iv'])\n",
    "df_val_in = pd.read_csv(project_dir + 'data/traj_data_val.csv').drop(columns=['m:icustayid', 'a:vaso', 'a:iv'])\n",
    "df_test_in = pd.read_csv(project_dir + 'data/traj_data_test.csv').drop(columns=['m:icustayid', 'a:vaso', 'a:iv'])"
   ]
  },
  {
   "cell_type": "code",
   "execution_count": 6,
   "id": "e7ae9075",
   "metadata": {},
   "outputs": [
    {
     "data": {
      "text/plain": [
       "(np.float64(0.8079778715970302),\n",
       " np.float64(0.8077445652173914),\n",
       " np.float64(0.8077445652173914))"
      ]
     },
     "execution_count": 6,
     "metadata": {},
     "output_type": "execute_result"
    }
   ],
   "source": [
    "df_train_in.groupby('traj')['r:reward'].sum().mean(), df_val_in.groupby('traj')['r:reward'].sum().mean(), df_test_in.groupby('traj')['r:reward'].sum().mean()"
   ]
  },
  {
   "cell_type": "markdown",
   "id": "2e463d83-2b5a-4422-9f29-d7ce3ec23530",
   "metadata": {},
   "source": [
    "## Original timestep"
   ]
  },
  {
   "cell_type": "code",
   "execution_count": 3,
   "id": "d2c59e45-3c7c-4737-88ed-9bd432742949",
   "metadata": {},
   "outputs": [],
   "source": [
    "df_train_out = df_train_in.set_index('traj').groupby('traj', group_keys=False).apply(timestep_utils.make_traj_orig).reset_index()\n",
    "df_val_out = df_val_in.set_index('traj').groupby('traj', group_keys=False).apply(timestep_utils.make_traj_orig).reset_index()\n",
    "df_test_out = df_test_in.set_index('traj').groupby('traj', group_keys=False).apply(timestep_utils.make_traj_orig).reset_index()"
   ]
  },
  {
   "cell_type": "code",
   "execution_count": 4,
   "id": "a3949d8a-1fb0-4d11-9fa3-bc4acf6249fe",
   "metadata": {},
   "outputs": [],
   "source": [
    "df_train_out.to_csv(project_dir + 'data/trajectory_data/traj_orig_train.csv', index=False)\n",
    "df_val_out.to_csv(project_dir + 'data/trajectory_data/traj_orig_val.csv', index=False)\n",
    "df_val_out.to_csv(project_dir + 'data/trajectory_data/traj_orig_test.csv', index=False)"
   ]
  },
  {
   "cell_type": "markdown",
   "id": "2194545d-d6b1-4d8c-9eaa-827329d5e4eb",
   "metadata": {},
   "source": [
    "## Dropped timestep"
   ]
  },
  {
   "cell_type": "code",
   "execution_count": 5,
   "id": "0af56452-ff7e-466c-9a99-72e02fea96ef",
   "metadata": {},
   "outputs": [],
   "source": [
    "df_train_out = df_train_in.set_index('traj').groupby('traj', group_keys=False).apply(timestep_utils.make_traj_dropped).reset_index()\n",
    "df_val_out = df_val_in.set_index('traj').groupby('traj', group_keys=False).apply(timestep_utils.make_traj_dropped).reset_index()\n",
    "df_test_out = df_test_in.set_index('traj').groupby('traj', group_keys=False).apply(timestep_utils.make_traj_dropped).reset_index()"
   ]
  },
  {
   "cell_type": "code",
   "execution_count": 6,
   "id": "05ba629e-6316-44b6-b36a-16f04f724517",
   "metadata": {},
   "outputs": [],
   "source": [
    "df_train_out.to_csv(project_dir + 'data/trajectory_data/traj_dropped_train.csv', index=False)\n",
    "df_val_out.to_csv(project_dir + 'data/trajectory_data/traj_dropped_val.csv', index=False)\n",
    "df_val_out.to_csv(project_dir + 'data/trajectory_data/traj_dropped_test.csv', index=False)"
   ]
  },
  {
   "cell_type": "markdown",
   "id": "3cb5e91a-7e71-4bf6-a11c-1ba92d96edae",
   "metadata": {},
   "source": [
    "## Shifted timestep"
   ]
  },
  {
   "cell_type": "code",
   "execution_count": 7,
   "id": "e9ece416-22c0-40ec-81b4-4df71adc17f0",
   "metadata": {},
   "outputs": [],
   "source": [
    "df_train_out = df_train_in.set_index('traj').groupby('traj', group_keys=False).apply(timestep_utils.make_traj_shifted).reset_index()\n",
    "df_val_out = df_val_in.set_index('traj').groupby('traj', group_keys=False).apply(timestep_utils.make_traj_shifted).reset_index()\n",
    "df_test_out = df_test_in.set_index('traj').groupby('traj', group_keys=False).apply(timestep_utils.make_traj_shifted).reset_index()"
   ]
  },
  {
   "cell_type": "code",
   "execution_count": 8,
   "id": "2573af79-3c53-43e1-995a-b126273c9a3e",
   "metadata": {},
   "outputs": [],
   "source": [
    "df_train_out.to_csv(project_dir + 'data/trajectory_data/traj_shifted_train.csv', index=False)\n",
    "df_val_out.to_csv(project_dir + 'data/trajectory_data/traj_shifted_val.csv', index=False)\n",
    "df_val_out.to_csv(project_dir + 'data/trajectory_data/traj_shifted_test.csv', index=False)"
   ]
  },
  {
   "cell_type": "code",
   "execution_count": null,
   "id": "6d1b89c5-2edc-4e1b-98c1-5c0f200fab52",
   "metadata": {},
   "outputs": [],
   "source": []
  }
 ],
 "metadata": {
  "kernelspec": {
   "display_name": "Python 3 (ipykernel)",
   "language": "python",
   "name": "python3"
  },
  "language_info": {
   "codemirror_mode": {
    "name": "ipython",
    "version": 3
   },
   "file_extension": ".py",
   "mimetype": "text/x-python",
   "name": "python",
   "nbconvert_exporter": "python",
   "pygments_lexer": "ipython3",
   "version": "3.10.14"
  }
 },
 "nbformat": 4,
 "nbformat_minor": 5
}
